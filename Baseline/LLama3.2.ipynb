{
 "cells": [
  {
   "cell_type": "markdown",
   "id": "14815a13",
   "metadata": {
    "papermill": {
     "duration": 0.003057,
     "end_time": "2025-03-19T19:12:43.458980",
     "exception": false,
     "start_time": "2025-03-19T19:12:43.455923",
     "status": "completed"
    },
    "tags": []
   },
   "source": [
    "This notebook implements a submission with Gemma 2 9B IT model with some helper code to ensure the generated SVGs conform to the submission requirements. (See the [Evaluation](https://www.kaggle.com/competitions/drawing-with-llms/overview/evaluation) page for details on the submission requirements.)\n",
    "\n",
    "To use this notebook interactively, you'll need to install some dependencies. First, *turn on* the Internet under **Session options** to the right. Then select the **Add-ons->Install Dependencies** menu above and click *Run*. A console should pop up with a running `pip` command. Wait for the dependencies to finish installing and then *turn off* the Internet before submitting."
   ]
  },
  {
   "cell_type": "code",
   "execution_count": 1,
   "id": "c95dd064",
   "metadata": {
    "execution": {
     "iopub.execute_input": "2025-03-19T19:12:43.465689Z",
     "iopub.status.busy": "2025-03-19T19:12:43.465329Z",
     "iopub.status.idle": "2025-03-19T19:12:43.469554Z",
     "shell.execute_reply": "2025-03-19T19:12:43.468844Z"
    },
    "papermill": {
     "duration": 0.009042,
     "end_time": "2025-03-19T19:12:43.470860",
     "exception": false,
     "start_time": "2025-03-19T19:12:43.461818",
     "status": "completed"
    },
    "tags": []
   },
   "outputs": [],
   "source": [
    "#| default_exp core"
   ]
  },
  {
   "cell_type": "code",
   "execution_count": null,
   "id": "8fac61f5",
   "metadata": {
    "papermill": {
     "duration": 0.002269,
     "end_time": "2025-03-19T19:12:43.475566",
     "exception": false,
     "start_time": "2025-03-19T19:12:43.473297",
     "status": "completed"
    },
    "tags": []
   },
   "outputs": [],
   "source": []
  },
  {
   "cell_type": "code",
   "execution_count": 2,
   "id": "e87e90e5",
   "metadata": {
    "execution": {
     "iopub.execute_input": "2025-03-19T19:12:43.481201Z",
     "iopub.status.busy": "2025-03-19T19:12:43.480947Z",
     "iopub.status.idle": "2025-03-19T19:12:55.455291Z",
     "shell.execute_reply": "2025-03-19T19:12:55.454301Z"
    },
    "papermill": {
     "duration": 11.979321,
     "end_time": "2025-03-19T19:12:55.457170",
     "exception": false,
     "start_time": "2025-03-19T19:12:43.477849",
     "status": "completed"
    },
    "tags": []
   },
   "outputs": [],
   "source": [
    "#| export\n",
    "import concurrent\n",
    "import io\n",
    "import logging\n",
    "import re\n",
    "import re2\n",
    "\n",
    "import cairosvg\n",
    "import kagglehub\n",
    "import torch\n",
    "from lxml import etree\n",
    "from transformers import AutoTokenizer, AutoModelForCausalLM, BitsAndBytesConfig\n",
    "\n",
    "svg_constraints = kagglehub.package_import('metric/svg-constraints')\n",
    "\n",
    "DEVICE = torch.device(\"cuda\" if torch.cuda.is_available() else \"cpu\")\n",
    "\n",
    "\n",
    "class Model:\n",
    "    def __init__(self):\n",
    "         # Quantization Configuration\n",
    "        quantization_config = BitsAndBytesConfig(\n",
    "            load_in_4bit=True,\n",
    "            bnb_4bit_quant_type=\"nf4\",\n",
    "            bnb_4bit_use_double_quant=True,\n",
    "            bnb_4bit_compute_dtype=torch.float16,\n",
    "        )\n",
    "        self.model_path = kagglehub.model_download('google/gemma-2/Transformers/gemma-2-9b-it/2')\n",
    "        self.tokenizer = AutoTokenizer.from_pretrained(self.model_path)\n",
    "        self.model = AutoModelForCausalLM.from_pretrained(\n",
    "            self.model_path,\n",
    "            device_map=\"auto\",\n",
    "            quantization_config=quantization_config,\n",
    "        )\n",
    "        self.prompt_template = \"\"\"Generate SVG code to visually represent the following text description, while respecting the given constraints.\n",
    "<constraints>\n",
    "* **Allowed Elements:** `svg`, `path`, `circle`, `rect`, `ellipse`, `line`, `polyline`, `polygon`, `g`, `linearGradient`, `radialGradient`, `stop`, `defs`\n",
    "* **Allowed Attributes:** `viewBox`, `width`, `height`, `fill`, `stroke`, `stroke-width`, `d`, `cx`, `cy`, `r`, `x`, `y`, `rx`, `ry`, `x1`, `y1`, `x2`, `y2`, `points`, `transform`, `opacity`\n",
    "</constraints>\n",
    "\n",
    "<example>\n",
    "<description>\"A red circle with a blue square inside\"</description>\n",
    "```svg\n",
    "<svg viewBox=\"0 0 256 256\" width=\"256\" height=\"256\">\n",
    "  <circle cx=\"50\" cy=\"50\" r=\"40\" fill=\"red\"/>\n",
    "  <rect x=\"30\" y=\"30\" width=\"40\" height=\"40\" fill=\"blue\"/>\n",
    "</svg>\n",
    "```\n",
    "</example>\n",
    "\n",
    "\n",
    "Please ensure that the generated SVG code is well-formed, valid, and strictly adheres to these constraints. Focus on a clear and concise representation of the input description within the given limitations. Always give the complete SVG code with nothing omitted. Never use an ellipsis.\n",
    "\n",
    "<description>\"{}\"</description>\n",
    "```svg\n",
    "<svg viewBox=\"0 0 256 256\" width=\"256\" height=\"256\">\n",
    "\"\"\"\n",
    "        self.default_svg = \"\"\"<svg width=\"256\" height=\"256\" viewBox=\"0 0 256 256\"><circle cx=\"50\" cy=\"50\" r=\"40\" fill=\"red\" /></svg>\"\"\"\n",
    "        self.constraints = svg_constraints.SVGConstraints()\n",
    "        self.timeout_seconds = 90\n",
    "\n",
    "    # You could try increasing `max_new_tokens`\n",
    "    def predict(self, description: str, max_new_tokens=512) -> str:\n",
    "        def generate_svg():\n",
    "            try:\n",
    "                prompt = self.prompt_template.format(description)\n",
    "                inputs = self.tokenizer(text=prompt, return_tensors=\"pt\").to(DEVICE)\n",
    "\n",
    "                with torch.no_grad():\n",
    "                    output = self.model.generate(\n",
    "                        **inputs,\n",
    "                        max_new_tokens=max_new_tokens,\n",
    "                        do_sample=True,\n",
    "                    )\n",
    "\n",
    "                output_decoded = self.tokenizer.decode(output[0], skip_special_tokens=True)\n",
    "                logging.debug('Output decoded from model: %s', output_decoded)\n",
    "\n",
    "                matches = re.findall(r\"<svg.*?</svg>\", output_decoded, re.DOTALL | re.IGNORECASE)\n",
    "                if matches:\n",
    "                    svg = matches[-1]\n",
    "                else:\n",
    "                    return self.default_svg\n",
    "\n",
    "                logging.debug('Unprocessed SVG: %s', svg)\n",
    "                svg = self.enforce_constraints(svg)\n",
    "                logging.debug('Processed SVG: %s', svg)\n",
    "                # Ensure the generated code can be converted by cairosvg\n",
    "                cairosvg.svg2png(bytestring=svg.encode('utf-8'))\n",
    "                return svg\n",
    "            except Exception as e:\n",
    "                logging.error('Exception during SVG generation: %s', e)\n",
    "                return self.default_svg\n",
    "\n",
    "        # Execute SVG generation in a new thread to enforce time constraints\n",
    "        with concurrent.futures.ThreadPoolExecutor(max_workers=1) as executor:\n",
    "            future = executor.submit(generate_svg)\n",
    "            try:\n",
    "                return future.result(timeout=self.timeout_seconds)\n",
    "            except concurrent.futures.TimeoutError:\n",
    "                logging.warning(\"Prediction timed out after %s seconds.\", self.timeout_seconds)\n",
    "                return self.default_svg\n",
    "            except Exception as e:\n",
    "                logging.error(f\"An unexpected error occurred: {e}\")\n",
    "                return self.default_svg\n",
    "\n",
    "    def enforce_constraints(self, svg_string: str) -> str:\n",
    "        \"\"\"Enforces constraints on an SVG string, removing disallowed elements\n",
    "        and attributes.\n",
    "\n",
    "        Parameters\n",
    "        ----------\n",
    "        svg_string : str\n",
    "            The SVG string to process.\n",
    "\n",
    "        Returns\n",
    "        -------\n",
    "        str\n",
    "            The processed SVG string, or the default SVG if constraints\n",
    "            cannot be satisfied.\n",
    "        \"\"\"\n",
    "        logging.info('Sanitizing SVG...')\n",
    "\n",
    "        try:\n",
    "            parser = etree.XMLParser(remove_blank_text=True, remove_comments=True)\n",
    "            root = etree.fromstring(svg_string, parser=parser)\n",
    "        except etree.ParseError as e:\n",
    "            logging.error('SVG Parse Error: %s. Returning default SVG.', e)\n",
    "            return self.default_svg\n",
    "    \n",
    "        elements_to_remove = []\n",
    "        for element in root.iter():\n",
    "            tag_name = etree.QName(element.tag).localname\n",
    "    \n",
    "            # Remove disallowed elements\n",
    "            if tag_name not in self.constraints.allowed_elements:\n",
    "                elements_to_remove.append(element)\n",
    "                continue  # Skip attribute checks for removed elements\n",
    "    \n",
    "            # Remove disallowed attributes\n",
    "            attrs_to_remove = []\n",
    "            for attr in element.attrib:\n",
    "                attr_name = etree.QName(attr).localname\n",
    "                if (\n",
    "                    attr_name\n",
    "                    not in self.constraints.allowed_elements[tag_name]\n",
    "                    and attr_name\n",
    "                    not in self.constraints.allowed_elements['common']\n",
    "                ):\n",
    "                    attrs_to_remove.append(attr)\n",
    "    \n",
    "            for attr in attrs_to_remove:\n",
    "                logging.debug(\n",
    "                    'Attribute \"%s\" for element \"%s\" not allowed. Removing.',\n",
    "                    attr,\n",
    "                    tag_name,\n",
    "                )\n",
    "                del element.attrib[attr]\n",
    "    \n",
    "            # Check and remove invalid href attributes\n",
    "            for attr, value in element.attrib.items():\n",
    "                 if etree.QName(attr).localname == 'href' and not value.startswith('#'):\n",
    "                    logging.debug(\n",
    "                        'Removing invalid href attribute in element \"%s\".', tag_name\n",
    "                    )\n",
    "                    del element.attrib[attr]\n",
    "\n",
    "            # Validate path elements to help ensure SVG conversion\n",
    "            if tag_name == 'path':\n",
    "                d_attribute = element.get('d')\n",
    "                if not d_attribute:\n",
    "                    logging.warning('Path element is missing \"d\" attribute. Removing path.')\n",
    "                    elements_to_remove.append(element)\n",
    "                    continue # Skip further checks for this removed element\n",
    "                # Use regex to validate 'd' attribute format\n",
    "                path_regex = re2.compile(\n",
    "                    r'^'  # Start of string\n",
    "                    r'(?:'  # Non-capturing group for each command + numbers block\n",
    "                    r'[MmZzLlHhVvCcSsQqTtAa]'  # Valid SVG path commands (adjusted to exclude extra letters)\n",
    "                    r'\\s*'  # Optional whitespace after command\n",
    "                    r'(?:'  # Non-capturing group for optional numbers\n",
    "                    r'-?\\d+(?:\\.\\d+)?(?:[Ee][+-]?\\d+)?'  # First number\n",
    "                    r'(?:[\\s,]+-?\\d+(?:\\.\\d+)?(?:[Ee][+-]?\\d+)?)*'  # Subsequent numbers with mandatory separator(s)\n",
    "                    r')?'  # Numbers are optional (e.g. for Z command)\n",
    "                    r'\\s*'  # Optional whitespace after numbers/command block\n",
    "                    r')+'  # One or more command blocks\n",
    "                    r'\\s*'  # Optional trailing whitespace\n",
    "                    r'$'  # End of string\n",
    "                )\n",
    "                if not path_regex.match(d_attribute):\n",
    "                    logging.warning(\n",
    "                        'Path element has malformed \"d\" attribute format. Removing path.'\n",
    "                    )\n",
    "                    elements_to_remove.append(element)\n",
    "                    continue\n",
    "                logging.debug('Path element \"d\" attribute validated (regex check).')\n",
    "        \n",
    "        # Remove elements marked for removal\n",
    "        for element in elements_to_remove:\n",
    "            if element.getparent() is not None:\n",
    "                element.getparent().remove(element)\n",
    "                logging.debug('Removed element: %s', element.tag)\n",
    "\n",
    "        try:\n",
    "            cleaned_svg_string = etree.tostring(root, encoding='unicode')\n",
    "            return cleaned_svg_string\n",
    "        except ValueError as e:\n",
    "            logging.error(\n",
    "                'SVG could not be sanitized to meet constraints: %s', e\n",
    "            )\n",
    "            return self.default_svg"
   ]
  },
  {
   "cell_type": "markdown",
   "id": "cd0ae3dc",
   "metadata": {
    "papermill": {
     "duration": 0.002572,
     "end_time": "2025-03-19T19:12:55.462848",
     "exception": false,
     "start_time": "2025-03-19T19:12:55.460276",
     "status": "completed"
    },
    "tags": []
   },
   "source": [
    "The following code tests the above model in a local mock-up of this competition's evaluation pipeline. It runs the model on a sample of 15 instances defined in the `test.csv` file in the `kaggle_evaluation` package folder."
   ]
  },
  {
   "cell_type": "code",
   "execution_count": 3,
   "id": "a292f623",
   "metadata": {
    "execution": {
     "iopub.execute_input": "2025-03-19T19:12:55.469662Z",
     "iopub.status.busy": "2025-03-19T19:12:55.469189Z",
     "iopub.status.idle": "2025-03-19T19:21:23.892079Z",
     "shell.execute_reply": "2025-03-19T19:21:23.890795Z"
    },
    "papermill": {
     "duration": 508.42804,
     "end_time": "2025-03-19T19:21:23.893642",
     "exception": false,
     "start_time": "2025-03-19T19:12:55.465602",
     "status": "completed"
    },
    "tags": []
   },
   "outputs": [
    {
     "name": "stdout",
     "output_type": "stream",
     "text": [
      "Creating Model instance...\n"
     ]
    },
    {
     "data": {
      "application/vnd.jupyter.widget-view+json": {
       "model_id": "7daf442ca1714bdcbec58b25ff9b4c3e",
       "version_major": 2,
       "version_minor": 0
      },
      "text/plain": [
       "Loading checkpoint shards:   0%|          | 0/4 [00:00<?, ?it/s]"
      ]
     },
     "metadata": {},
     "output_type": "display_data"
    },
    {
     "name": "stdout",
     "output_type": "stream",
     "text": [
      "Running inference tests...\n"
     ]
    },
    {
     "name": "stderr",
     "output_type": "stream",
     "text": [
      "The 'batch_size' attribute of HybridCache is deprecated and will be removed in v4.49. Use the more precisely named 'self.max_batch_size' attribute instead.\n",
      "INFO:root:Sanitizing SVG...\n",
      "INFO:root:Sanitizing SVG...\n",
      "INFO:root:Sanitizing SVG...\n",
      "INFO:root:Sanitizing SVG...\n",
      "INFO:root:Sanitizing SVG...\n",
      "INFO:root:Sanitizing SVG...\n",
      "INFO:root:Sanitizing SVG...\n",
      "INFO:root:Sanitizing SVG...\n",
      "INFO:root:Sanitizing SVG...\n",
      "INFO:root:Sanitizing SVG...\n",
      "INFO:root:Sanitizing SVG...\n",
      "INFO:root:Sanitizing SVG...\n",
      "INFO:root:Sanitizing SVG...\n",
      "INFO:root:Sanitizing SVG...\n",
      "INFO:root:Sanitizing SVG...\n",
      "ERROR:root:SVG Parse Error: error parsing attribute name, line 3, column 1 (<string>, line 3). Returning default SVG.\n"
     ]
    },
    {
     "name": "stdout",
     "output_type": "stream",
     "text": [
      "Wrote test submission file to \"/tmp/kaggle-evaluation-submission-usp4exsl.csv\".\n",
      "Success!\n"
     ]
    }
   ],
   "source": [
    "import kaggle_evaluation\n",
    "\n",
    "logging.basicConfig(level=logging.INFO, force=True)\n",
    "kaggle_evaluation.test(Model)"
   ]
  },
  {
   "cell_type": "markdown",
   "id": "aea81b6e",
   "metadata": {
    "papermill": {
     "duration": 0.003233,
     "end_time": "2025-03-19T19:21:23.900508",
     "exception": false,
     "start_time": "2025-03-19T19:21:23.897275",
     "status": "completed"
    },
    "tags": []
   },
   "source": [
    "Alternatively, you could use the code below to run the model over `train.csv` and see some generated images along with some debugging info. Feel free to turn down the logging level to `INFO` if you just want to see the images."
   ]
  },
  {
   "cell_type": "code",
   "execution_count": null,
   "id": "e1531d2d",
   "metadata": {
    "papermill": {
     "duration": 0.003016,
     "end_time": "2025-03-19T19:21:23.906666",
     "exception": false,
     "start_time": "2025-03-19T19:21:23.903650",
     "status": "completed"
    },
    "tags": []
   },
   "outputs": [],
   "source": []
  },
  {
   "cell_type": "code",
   "execution_count": 4,
   "id": "54671d67",
   "metadata": {
    "execution": {
     "iopub.execute_input": "2025-03-19T19:21:23.915625Z",
     "iopub.status.busy": "2025-03-19T19:21:23.915060Z",
     "iopub.status.idle": "2025-03-19T19:29:12.910596Z",
     "shell.execute_reply": "2025-03-19T19:29:12.909485Z"
    },
    "papermill": {
     "duration": 469.002238,
     "end_time": "2025-03-19T19:29:12.912008",
     "exception": false,
     "start_time": "2025-03-19T19:21:23.909770",
     "status": "completed"
    },
    "tags": []
   },
   "outputs": [
    {
     "data": {
      "text/html": [
       "<div><style>\n",
       ".dataframe > thead > tr,\n",
       ".dataframe > tbody > tr {\n",
       "  text-align: right;\n",
       "  white-space: pre-wrap;\n",
       "}\n",
       "</style>\n",
       "<small>shape: (5, 2)</small><table border=\"1\" class=\"dataframe\"><thead><tr><th>id</th><th>description</th></tr><tr><td>str</td><td>str</td></tr></thead><tbody><tr><td>&quot;04c411&quot;</td><td>&quot;a starlit night over snow-cove…</td></tr><tr><td>&quot;215136&quot;</td><td>&quot;black and white checkered pant…</td></tr><tr><td>&quot;3e2bc6&quot;</td><td>&quot;crimson rectangles forming a c…</td></tr><tr><td>&quot;61d7a8&quot;</td><td>&quot;burgundy corduroy pants with p…</td></tr><tr><td>&quot;6f2ca7&quot;</td><td>&quot;orange corduroy overalls&quot;</td></tr></tbody></table></div>"
      ],
      "text/plain": [
       "shape: (5, 2)\n",
       "┌────────┬─────────────────────────────────┐\n",
       "│ id     ┆ description                     │\n",
       "│ ---    ┆ ---                             │\n",
       "│ str    ┆ str                             │\n",
       "╞════════╪═════════════════════════════════╡\n",
       "│ 04c411 ┆ a starlit night over snow-cove… │\n",
       "│ 215136 ┆ black and white checkered pant… │\n",
       "│ 3e2bc6 ┆ crimson rectangles forming a c… │\n",
       "│ 61d7a8 ┆ burgundy corduroy pants with p… │\n",
       "│ 6f2ca7 ┆ orange corduroy overalls        │\n",
       "└────────┴─────────────────────────────────┘"
      ]
     },
     "metadata": {},
     "output_type": "display_data"
    },
    {
     "name": "stderr",
     "output_type": "stream",
     "text": [
      "DEBUG:urllib3.connectionpool:Starting new HTTPS connection (1): dp.kaggle.net:443\n",
      "DEBUG:urllib3.connectionpool:https://dp.kaggle.net:443 \"POST /kaggle-jwt-handler/AttachDatasourceUsingJwtRequest HTTP/1.1\" 200 None\n"
     ]
    },
    {
     "data": {
      "application/vnd.jupyter.widget-view+json": {
       "model_id": "8356222ec6604e0d9e675624b041e79e",
       "version_major": 2,
       "version_minor": 0
      },
      "text/plain": [
       "Loading checkpoint shards:   0%|          | 0/4 [00:00<?, ?it/s]"
      ]
     },
     "metadata": {},
     "output_type": "display_data"
    },
    {
     "name": "stderr",
     "output_type": "stream",
     "text": [
      "DEBUG:root:Output decoded from model: Generate SVG code to visually represent the following text description, while respecting the given constraints.\n",
      "<constraints>\n",
      "* **Allowed Elements:** `svg`, `path`, `circle`, `rect`, `ellipse`, `line`, `polyline`, `polygon`, `g`, `linearGradient`, `radialGradient`, `stop`, `defs`\n",
      "* **Allowed Attributes:** `viewBox`, `width`, `height`, `fill`, `stroke`, `stroke-width`, `d`, `cx`, `cy`, `r`, `x`, `y`, `rx`, `ry`, `x1`, `y1`, `x2`, `y2`, `points`, `transform`, `opacity`\n",
      "</constraints>\n",
      "\n",
      "<example>\n",
      "<description>\"A red circle with a blue square inside\"</description>\n",
      "```svg\n",
      "<svg viewBox=\"0 0 256 256\" width=\"256\" height=\"256\">\n",
      "  <circle cx=\"50\" cy=\"50\" r=\"40\" fill=\"red\"/>\n",
      "  <rect x=\"30\" y=\"30\" width=\"40\" height=\"40\" fill=\"blue\"/>\n",
      "</svg>\n",
      "```\n",
      "</example>\n",
      "\n",
      "\n",
      "Please ensure that the generated SVG code is well-formed, valid, and strictly adheres to these constraints. Focus on a clear and concise representation of the input description within the given limitations. Always give the complete SVG code with nothing omitted. Never use an ellipsis.\n",
      "\n",
      "<description>\"a starlit night over snow-covered peaks\"</description>\n",
      "```svg\n",
      "<svg viewBox=\"0 0 256 256\" width=\"256\" height=\"256\">\n",
      "  <defs>\n",
      "    <radialGradient id=\"stars\" cx=\"50%\" cy=\"50%\" r=\"50%\">\n",
      "      <stop offset=\"0%\" stop-color=\"white\"/>\n",
      "      <stop offset=\"100%\" stop-color=\"transparent\"/>\n",
      "    </radialGradient>\n",
      "  </defs>\n",
      "  \n",
      "  <polygon points=\"100,10 120,0 140,10 160,50 140,90 120,100 100,90\" fill=\"#e0e0f0\" stroke=\"#bdbdbd\" stroke-width=\"2\"/>\n",
      "  <polygon points=\"50,100 70,90 90,100 110,90 130,100 150,90 170,100\" fill=\"#e0e0f0\" stroke=\"#bdbdbd\" stroke-width=\"2\"/>\n",
      "  <rect x=\"0\" y=\"220\" width=\"256\" height=\"36\" fill=\"#ffffff\"/>\n",
      "  \n",
      "  <g fill=\"url(#stars)\">\n",
      "    <circle cx=\"20\" cy=\"10\" r=\"2\"/>\n",
      "    <circle cx=\"50\" cy=\"30\" r=\"3\"/>\n",
      "    <circle cx=\"100\" cy=\"50\" r=\"1\"/>\n",
      "    <circle cx=\"150\" cy=\"40\" r=\"2\"/>\n",
      "    <circle cx=\"220\" cy=\"20\" r=\"3\"/>\n",
      "  </g>\n",
      "</svg>\n",
      "```\n",
      "\n",
      "\n",
      "\n",
      "\n",
      "\n",
      "The generated code depicts snow-covered peaks against a starry sky. The white polygon shapes represent the snow-capped peaks, positioned slightly apart from each other. \n",
      "A gradient is used to create the starry sky, with small white circles scattered throughout the upper portion of the SVG.\n",
      "\n",
      "Let me know if you would like me to make any adjustments based on your feedback!\n",
      "\n",
      "DEBUG:root:Unprocessed SVG: <svg viewBox=\"0 0 256 256\" width=\"256\" height=\"256\">\n",
      "  <defs>\n",
      "    <radialGradient id=\"stars\" cx=\"50%\" cy=\"50%\" r=\"50%\">\n",
      "      <stop offset=\"0%\" stop-color=\"white\"/>\n",
      "      <stop offset=\"100%\" stop-color=\"transparent\"/>\n",
      "    </radialGradient>\n",
      "  </defs>\n",
      "  \n",
      "  <polygon points=\"100,10 120,0 140,10 160,50 140,90 120,100 100,90\" fill=\"#e0e0f0\" stroke=\"#bdbdbd\" stroke-width=\"2\"/>\n",
      "  <polygon points=\"50,100 70,90 90,100 110,90 130,100 150,90 170,100\" fill=\"#e0e0f0\" stroke=\"#bdbdbd\" stroke-width=\"2\"/>\n",
      "  <rect x=\"0\" y=\"220\" width=\"256\" height=\"36\" fill=\"#ffffff\"/>\n",
      "  \n",
      "  <g fill=\"url(#stars)\">\n",
      "    <circle cx=\"20\" cy=\"10\" r=\"2\"/>\n",
      "    <circle cx=\"50\" cy=\"30\" r=\"3\"/>\n",
      "    <circle cx=\"100\" cy=\"50\" r=\"1\"/>\n",
      "    <circle cx=\"150\" cy=\"40\" r=\"2\"/>\n",
      "    <circle cx=\"220\" cy=\"20\" r=\"3\"/>\n",
      "  </g>\n",
      "</svg>\n",
      "INFO:root:Sanitizing SVG...\n",
      "DEBUG:root:Processed SVG: <svg viewBox=\"0 0 256 256\" width=\"256\" height=\"256\"><defs><radialGradient id=\"stars\" cx=\"50%\" cy=\"50%\" r=\"50%\"><stop offset=\"0%\" stop-color=\"white\"/><stop offset=\"100%\" stop-color=\"transparent\"/></radialGradient></defs><polygon points=\"100,10 120,0 140,10 160,50 140,90 120,100 100,90\" fill=\"#e0e0f0\" stroke=\"#bdbdbd\" stroke-width=\"2\"/><polygon points=\"50,100 70,90 90,100 110,90 130,100 150,90 170,100\" fill=\"#e0e0f0\" stroke=\"#bdbdbd\" stroke-width=\"2\"/><rect x=\"0\" y=\"220\" width=\"256\" height=\"36\" fill=\"#ffffff\"/><g fill=\"url(#stars)\"><circle cx=\"20\" cy=\"10\" r=\"2\"/><circle cx=\"50\" cy=\"30\" r=\"3\"/><circle cx=\"100\" cy=\"50\" r=\"1\"/><circle cx=\"150\" cy=\"40\" r=\"2\"/><circle cx=\"220\" cy=\"20\" r=\"3\"/></g></svg>\n"
     ]
    },
    {
     "name": "stdout",
     "output_type": "stream",
     "text": [
      "Prediction time for description 'a starlit night over...': 60.6313 seconds\n"
     ]
    },
    {
     "data": {
      "image/svg+xml": [
       "<svg viewBox=\"0 0 256 256\" width=\"256\" height=\"256\"><defs><radialGradient id=\"stars\" cx=\"50%\" cy=\"50%\" r=\"50%\"><stop offset=\"0%\" stop-color=\"white\"/><stop offset=\"100%\" stop-color=\"transparent\"/></radialGradient></defs><polygon points=\"100,10 120,0 140,10 160,50 140,90 120,100 100,90\" fill=\"#e0e0f0\" stroke=\"#bdbdbd\" stroke-width=\"2\"/><polygon points=\"50,100 70,90 90,100 110,90 130,100 150,90 170,100\" fill=\"#e0e0f0\" stroke=\"#bdbdbd\" stroke-width=\"2\"/><rect x=\"0\" y=\"220\" width=\"256\" height=\"36\" fill=\"#ffffff\"/><g fill=\"url(#stars)\"><circle cx=\"20\" cy=\"10\" r=\"2\"/><circle cx=\"50\" cy=\"30\" r=\"3\"/><circle cx=\"100\" cy=\"50\" r=\"1\"/><circle cx=\"150\" cy=\"40\" r=\"2\"/><circle cx=\"220\" cy=\"20\" r=\"3\"/></g></svg>"
      ],
      "text/plain": [
       "<IPython.core.display.SVG object>"
      ]
     },
     "metadata": {},
     "output_type": "display_data"
    },
    {
     "name": "stderr",
     "output_type": "stream",
     "text": [
      "DEBUG:root:Output decoded from model: Generate SVG code to visually represent the following text description, while respecting the given constraints.\n",
      "<constraints>\n",
      "* **Allowed Elements:** `svg`, `path`, `circle`, `rect`, `ellipse`, `line`, `polyline`, `polygon`, `g`, `linearGradient`, `radialGradient`, `stop`, `defs`\n",
      "* **Allowed Attributes:** `viewBox`, `width`, `height`, `fill`, `stroke`, `stroke-width`, `d`, `cx`, `cy`, `r`, `x`, `y`, `rx`, `ry`, `x1`, `y1`, `x2`, `y2`, `points`, `transform`, `opacity`\n",
      "</constraints>\n",
      "\n",
      "<example>\n",
      "<description>\"A red circle with a blue square inside\"</description>\n",
      "```svg\n",
      "<svg viewBox=\"0 0 256 256\" width=\"256\" height=\"256\">\n",
      "  <circle cx=\"50\" cy=\"50\" r=\"40\" fill=\"red\"/>\n",
      "  <rect x=\"30\" y=\"30\" width=\"40\" height=\"40\" fill=\"blue\"/>\n",
      "</svg>\n",
      "```\n",
      "</example>\n",
      "\n",
      "\n",
      "Please ensure that the generated SVG code is well-formed, valid, and strictly adheres to these constraints. Focus on a clear and concise representation of the input description within the given limitations. Always give the complete SVG code with nothing omitted. Never use an ellipsis.\n",
      "\n",
      "<description>\"black and white checkered pants\"</description>\n",
      "```svg\n",
      "<svg viewBox=\"0 0 256 256\" width=\"256\" height=\"256\">\n",
      "  <defs>\n",
      "    <linearGradient id=\"checkerboard\" x1=\"0%\" y1=\"0%\" x2=\"100%\" y2=\"100%\">\n",
      "      <stop offset=\"0%\" stop-color=\"#000000\"/>\n",
      "      <stop offset=\"50%\" stop-color=\"#FFFFFF\"/>\n",
      "      <stop offset=\"100%\" stop-color=\"#000000\"/>\n",
      "    </linearGradient>\n",
      "  </defs>\n",
      "  <rect width=\"256\" height=\"256\" fill=\"url(#checkerboard)\"/>\n",
      "</svg> \n",
      "``` \n",
      "\n",
      "\n",
      "\n",
      "\n",
      "DEBUG:root:Unprocessed SVG: <svg viewBox=\"0 0 256 256\" width=\"256\" height=\"256\">\n",
      "  <defs>\n",
      "    <linearGradient id=\"checkerboard\" x1=\"0%\" y1=\"0%\" x2=\"100%\" y2=\"100%\">\n",
      "      <stop offset=\"0%\" stop-color=\"#000000\"/>\n",
      "      <stop offset=\"50%\" stop-color=\"#FFFFFF\"/>\n",
      "      <stop offset=\"100%\" stop-color=\"#000000\"/>\n",
      "    </linearGradient>\n",
      "  </defs>\n",
      "  <rect width=\"256\" height=\"256\" fill=\"url(#checkerboard)\"/>\n",
      "</svg>\n",
      "INFO:root:Sanitizing SVG...\n",
      "DEBUG:root:Processed SVG: <svg viewBox=\"0 0 256 256\" width=\"256\" height=\"256\"><defs><linearGradient id=\"checkerboard\" x1=\"0%\" y1=\"0%\" x2=\"100%\" y2=\"100%\"><stop offset=\"0%\" stop-color=\"#000000\"/><stop offset=\"50%\" stop-color=\"#FFFFFF\"/><stop offset=\"100%\" stop-color=\"#000000\"/></linearGradient></defs><rect width=\"256\" height=\"256\" fill=\"url(#checkerboard)\"/></svg>\n"
     ]
    },
    {
     "name": "stdout",
     "output_type": "stream",
     "text": [
      "Prediction time for description 'black and white chec...': 18.9709 seconds\n"
     ]
    },
    {
     "data": {
      "image/svg+xml": [
       "<svg viewBox=\"0 0 256 256\" width=\"256\" height=\"256\"><defs><linearGradient id=\"checkerboard\" x1=\"0%\" y1=\"0%\" x2=\"100%\" y2=\"100%\"><stop offset=\"0%\" stop-color=\"#000000\"/><stop offset=\"50%\" stop-color=\"#FFFFFF\"/><stop offset=\"100%\" stop-color=\"#000000\"/></linearGradient></defs><rect width=\"256\" height=\"256\" fill=\"url(#checkerboard)\"/></svg>"
      ],
      "text/plain": [
       "<IPython.core.display.SVG object>"
      ]
     },
     "metadata": {},
     "output_type": "display_data"
    },
    {
     "name": "stderr",
     "output_type": "stream",
     "text": [
      "DEBUG:root:Output decoded from model: Generate SVG code to visually represent the following text description, while respecting the given constraints.\n",
      "<constraints>\n",
      "* **Allowed Elements:** `svg`, `path`, `circle`, `rect`, `ellipse`, `line`, `polyline`, `polygon`, `g`, `linearGradient`, `radialGradient`, `stop`, `defs`\n",
      "* **Allowed Attributes:** `viewBox`, `width`, `height`, `fill`, `stroke`, `stroke-width`, `d`, `cx`, `cy`, `r`, `x`, `y`, `rx`, `ry`, `x1`, `y1`, `x2`, `y2`, `points`, `transform`, `opacity`\n",
      "</constraints>\n",
      "\n",
      "<example>\n",
      "<description>\"A red circle with a blue square inside\"</description>\n",
      "```svg\n",
      "<svg viewBox=\"0 0 256 256\" width=\"256\" height=\"256\">\n",
      "  <circle cx=\"50\" cy=\"50\" r=\"40\" fill=\"red\"/>\n",
      "  <rect x=\"30\" y=\"30\" width=\"40\" height=\"40\" fill=\"blue\"/>\n",
      "</svg>\n",
      "```\n",
      "</example>\n",
      "\n",
      "\n",
      "Please ensure that the generated SVG code is well-formed, valid, and strictly adheres to these constraints. Focus on a clear and concise representation of the input description within the given limitations. Always give the complete SVG code with nothing omitted. Never use an ellipsis.\n",
      "\n",
      "<description>\"crimson rectangles forming a chaotic grid\"</description>\n",
      "```svg\n",
      "<svg viewBox=\"0 0 256 256\" width=\"256\" height=\"256\">\n",
      "  <defs>\n",
      "    <linearGradient id=\"grad1\" x1=\"0\" y1=\"0\" x2=\"1\" y2=\"1\">\n",
      "      <stop offset=\"0%\" stop-color=\"crimson\"/>\n",
      "      <stop offset=\"100%\" stop-color=\"darkred\"/>\n",
      "    </linearGradient>\n",
      "  </defs>\n",
      "  <rect x=\"10\" y=\"10\" width=\"40\" height=\"40\" fill=\"url(#grad1)\"/>\n",
      "  <rect x=\"70\" y=\"10\" width=\"40\" height=\"40\" fill=\"url(#grad1)\"/>\n",
      "  <rect x=\"10\" y=\"70\" width=\"40\" height=\"40\" fill=\"url(#grad1)\"/>\n",
      "  <rect x=\"70\" y=\"70\" width=\"40\" height=\"40\" fill=\"url(#grad1)\"/>\n",
      "  <rect x=\"10\" y=\"130\" width=\"40\" height=\"40\" fill=\"url(#grad1)\"/>\n",
      "  <rect x=\"70\" y=\"130\" width=\"40\" height=\"40\" fill=\"url(#grad1)\"/>\n",
      "  <rect x=\"10\" y=\"190\" width=\"40\" height=\"40\" fill=\"url(#grad1)\"/>\n",
      "  <rect x=\"70\" y=\"190\" width=\"40\" height=\"40\" fill=\"url(#grad1)\"/>\n",
      "</svg>\n",
      "```\n",
      "\n",
      "\n",
      "DEBUG:root:Unprocessed SVG: <svg viewBox=\"0 0 256 256\" width=\"256\" height=\"256\">\n",
      "  <defs>\n",
      "    <linearGradient id=\"grad1\" x1=\"0\" y1=\"0\" x2=\"1\" y2=\"1\">\n",
      "      <stop offset=\"0%\" stop-color=\"crimson\"/>\n",
      "      <stop offset=\"100%\" stop-color=\"darkred\"/>\n",
      "    </linearGradient>\n",
      "  </defs>\n",
      "  <rect x=\"10\" y=\"10\" width=\"40\" height=\"40\" fill=\"url(#grad1)\"/>\n",
      "  <rect x=\"70\" y=\"10\" width=\"40\" height=\"40\" fill=\"url(#grad1)\"/>\n",
      "  <rect x=\"10\" y=\"70\" width=\"40\" height=\"40\" fill=\"url(#grad1)\"/>\n",
      "  <rect x=\"70\" y=\"70\" width=\"40\" height=\"40\" fill=\"url(#grad1)\"/>\n",
      "  <rect x=\"10\" y=\"130\" width=\"40\" height=\"40\" fill=\"url(#grad1)\"/>\n",
      "  <rect x=\"70\" y=\"130\" width=\"40\" height=\"40\" fill=\"url(#grad1)\"/>\n",
      "  <rect x=\"10\" y=\"190\" width=\"40\" height=\"40\" fill=\"url(#grad1)\"/>\n",
      "  <rect x=\"70\" y=\"190\" width=\"40\" height=\"40\" fill=\"url(#grad1)\"/>\n",
      "</svg>\n",
      "INFO:root:Sanitizing SVG...\n",
      "DEBUG:root:Processed SVG: <svg viewBox=\"0 0 256 256\" width=\"256\" height=\"256\"><defs><linearGradient id=\"grad1\" x1=\"0\" y1=\"0\" x2=\"1\" y2=\"1\"><stop offset=\"0%\" stop-color=\"crimson\"/><stop offset=\"100%\" stop-color=\"darkred\"/></linearGradient></defs><rect x=\"10\" y=\"10\" width=\"40\" height=\"40\" fill=\"url(#grad1)\"/><rect x=\"70\" y=\"10\" width=\"40\" height=\"40\" fill=\"url(#grad1)\"/><rect x=\"10\" y=\"70\" width=\"40\" height=\"40\" fill=\"url(#grad1)\"/><rect x=\"70\" y=\"70\" width=\"40\" height=\"40\" fill=\"url(#grad1)\"/><rect x=\"10\" y=\"130\" width=\"40\" height=\"40\" fill=\"url(#grad1)\"/><rect x=\"70\" y=\"130\" width=\"40\" height=\"40\" fill=\"url(#grad1)\"/><rect x=\"10\" y=\"190\" width=\"40\" height=\"40\" fill=\"url(#grad1)\"/><rect x=\"70\" y=\"190\" width=\"40\" height=\"40\" fill=\"url(#grad1)\"/></svg>\n"
     ]
    },
    {
     "name": "stdout",
     "output_type": "stream",
     "text": [
      "Prediction time for description 'crimson rectangles f...': 46.5294 seconds\n"
     ]
    },
    {
     "data": {
      "image/svg+xml": [
       "<svg viewBox=\"0 0 256 256\" width=\"256\" height=\"256\"><defs><linearGradient id=\"grad1\" x1=\"0\" y1=\"0\" x2=\"1\" y2=\"1\"><stop offset=\"0%\" stop-color=\"crimson\"/><stop offset=\"100%\" stop-color=\"darkred\"/></linearGradient></defs><rect x=\"10\" y=\"10\" width=\"40\" height=\"40\" fill=\"url(#grad1)\"/><rect x=\"70\" y=\"10\" width=\"40\" height=\"40\" fill=\"url(#grad1)\"/><rect x=\"10\" y=\"70\" width=\"40\" height=\"40\" fill=\"url(#grad1)\"/><rect x=\"70\" y=\"70\" width=\"40\" height=\"40\" fill=\"url(#grad1)\"/><rect x=\"10\" y=\"130\" width=\"40\" height=\"40\" fill=\"url(#grad1)\"/><rect x=\"70\" y=\"130\" width=\"40\" height=\"40\" fill=\"url(#grad1)\"/><rect x=\"10\" y=\"190\" width=\"40\" height=\"40\" fill=\"url(#grad1)\"/><rect x=\"70\" y=\"190\" width=\"40\" height=\"40\" fill=\"url(#grad1)\"/></svg>"
      ],
      "text/plain": [
       "<IPython.core.display.SVG object>"
      ]
     },
     "metadata": {},
     "output_type": "display_data"
    },
    {
     "name": "stderr",
     "output_type": "stream",
     "text": [
      "DEBUG:root:Output decoded from model: Generate SVG code to visually represent the following text description, while respecting the given constraints.\n",
      "<constraints>\n",
      "* **Allowed Elements:** `svg`, `path`, `circle`, `rect`, `ellipse`, `line`, `polyline`, `polygon`, `g`, `linearGradient`, `radialGradient`, `stop`, `defs`\n",
      "* **Allowed Attributes:** `viewBox`, `width`, `height`, `fill`, `stroke`, `stroke-width`, `d`, `cx`, `cy`, `r`, `x`, `y`, `rx`, `ry`, `x1`, `y1`, `x2`, `y2`, `points`, `transform`, `opacity`\n",
      "</constraints>\n",
      "\n",
      "<example>\n",
      "<description>\"A red circle with a blue square inside\"</description>\n",
      "```svg\n",
      "<svg viewBox=\"0 0 256 256\" width=\"256\" height=\"256\">\n",
      "  <circle cx=\"50\" cy=\"50\" r=\"40\" fill=\"red\"/>\n",
      "  <rect x=\"30\" y=\"30\" width=\"40\" height=\"40\" fill=\"blue\"/>\n",
      "</svg>\n",
      "```\n",
      "</example>\n",
      "\n",
      "\n",
      "Please ensure that the generated SVG code is well-formed, valid, and strictly adheres to these constraints. Focus on a clear and concise representation of the input description within the given limitations. Always give the complete SVG code with nothing omitted. Never use an ellipsis.\n",
      "\n",
      "<description>\"burgundy corduroy pants with patch pockets and silver buttons\"</description>\n",
      "```svg\n",
      "<svg viewBox=\"0 0 256 256\" width=\"256\" height=\"256\">\n",
      "  <rect x=\"20\" y=\"20\" width=\"216\" height=\"196\" fill=\"url(#burgundy-corduroy)\"/>\n",
      "  <defs>\n",
      "    <linearGradient id=\"burgundy-corduroy\" x1=\"0\" y1=\"0\" x2=\"0\" y2=\"1\">\n",
      "      <stop offset=\"0\" stop-color=\"rgb(88,41,27)\"/>\n",
      "      <stop offset=\"100%\" stop-color=\"rgb(136,69,46)\"/>\n",
      "    </linearGradient>\n",
      "  </defs>\n",
      "  <rect x=\"50\" y=\"100\" width=\"40\" height=\"40\" fill=\"white\" stroke=\"silver\" stroke-width=\"2\"/>\n",
      "  <rect x=\"160\" y=\"100\" width=\"40\" height=\"40\" fill=\"white\" stroke=\"silver\" stroke-width=\"2\"/>\n",
      "</svg>\n",
      "\n",
      "\n",
      "```\n",
      "\n",
      "DEBUG:root:Unprocessed SVG: <svg viewBox=\"0 0 256 256\" width=\"256\" height=\"256\">\n",
      "  <rect x=\"20\" y=\"20\" width=\"216\" height=\"196\" fill=\"url(#burgundy-corduroy)\"/>\n",
      "  <defs>\n",
      "    <linearGradient id=\"burgundy-corduroy\" x1=\"0\" y1=\"0\" x2=\"0\" y2=\"1\">\n",
      "      <stop offset=\"0\" stop-color=\"rgb(88,41,27)\"/>\n",
      "      <stop offset=\"100%\" stop-color=\"rgb(136,69,46)\"/>\n",
      "    </linearGradient>\n",
      "  </defs>\n",
      "  <rect x=\"50\" y=\"100\" width=\"40\" height=\"40\" fill=\"white\" stroke=\"silver\" stroke-width=\"2\"/>\n",
      "  <rect x=\"160\" y=\"100\" width=\"40\" height=\"40\" fill=\"white\" stroke=\"silver\" stroke-width=\"2\"/>\n",
      "</svg>\n",
      "INFO:root:Sanitizing SVG...\n",
      "DEBUG:root:Processed SVG: <svg viewBox=\"0 0 256 256\" width=\"256\" height=\"256\"><rect x=\"20\" y=\"20\" width=\"216\" height=\"196\" fill=\"url(#burgundy-corduroy)\"/><defs><linearGradient id=\"burgundy-corduroy\" x1=\"0\" y1=\"0\" x2=\"0\" y2=\"1\"><stop offset=\"0\" stop-color=\"rgb(88,41,27)\"/><stop offset=\"100%\" stop-color=\"rgb(136,69,46)\"/></linearGradient></defs><rect x=\"50\" y=\"100\" width=\"40\" height=\"40\" fill=\"white\" stroke=\"silver\" stroke-width=\"2\"/><rect x=\"160\" y=\"100\" width=\"40\" height=\"40\" fill=\"white\" stroke=\"silver\" stroke-width=\"2\"/></svg>\n"
     ]
    },
    {
     "name": "stdout",
     "output_type": "stream",
     "text": [
      "Prediction time for description 'burgundy corduroy pa...': 30.3771 seconds\n"
     ]
    },
    {
     "data": {
      "image/svg+xml": [
       "<svg viewBox=\"0 0 256 256\" width=\"256\" height=\"256\"><rect x=\"20\" y=\"20\" width=\"216\" height=\"196\" fill=\"url(#burgundy-corduroy)\"/><defs><linearGradient id=\"burgundy-corduroy\" x1=\"0\" y1=\"0\" x2=\"0\" y2=\"1\"><stop offset=\"0\" stop-color=\"rgb(88,41,27)\"/><stop offset=\"100%\" stop-color=\"rgb(136,69,46)\"/></linearGradient></defs><rect x=\"50\" y=\"100\" width=\"40\" height=\"40\" fill=\"white\" stroke=\"silver\" stroke-width=\"2\"/><rect x=\"160\" y=\"100\" width=\"40\" height=\"40\" fill=\"white\" stroke=\"silver\" stroke-width=\"2\"/></svg>"
      ],
      "text/plain": [
       "<IPython.core.display.SVG object>"
      ]
     },
     "metadata": {},
     "output_type": "display_data"
    },
    {
     "name": "stderr",
     "output_type": "stream",
     "text": [
      "DEBUG:root:Output decoded from model: Generate SVG code to visually represent the following text description, while respecting the given constraints.\n",
      "<constraints>\n",
      "* **Allowed Elements:** `svg`, `path`, `circle`, `rect`, `ellipse`, `line`, `polyline`, `polygon`, `g`, `linearGradient`, `radialGradient`, `stop`, `defs`\n",
      "* **Allowed Attributes:** `viewBox`, `width`, `height`, `fill`, `stroke`, `stroke-width`, `d`, `cx`, `cy`, `r`, `x`, `y`, `rx`, `ry`, `x1`, `y1`, `x2`, `y2`, `points`, `transform`, `opacity`\n",
      "</constraints>\n",
      "\n",
      "<example>\n",
      "<description>\"A red circle with a blue square inside\"</description>\n",
      "```svg\n",
      "<svg viewBox=\"0 0 256 256\" width=\"256\" height=\"256\">\n",
      "  <circle cx=\"50\" cy=\"50\" r=\"40\" fill=\"red\"/>\n",
      "  <rect x=\"30\" y=\"30\" width=\"40\" height=\"40\" fill=\"blue\"/>\n",
      "</svg>\n",
      "```\n",
      "</example>\n",
      "\n",
      "\n",
      "Please ensure that the generated SVG code is well-formed, valid, and strictly adheres to these constraints. Focus on a clear and concise representation of the input description within the given limitations. Always give the complete SVG code with nothing omitted. Never use an ellipsis.\n",
      "\n",
      "<description>\"orange corduroy overalls\"</description>\n",
      "```svg\n",
      "<svg viewBox=\"0 0 256 256\" width=\"256\" height=\"256\">\n",
      "<rect x=\"50\" y=\"50\" width=\"100\" height=\"100\" fill=\"orange\"></rect>\n",
      "<path d=\"M70 90 H180 V190 H70 Z\" fill=\"orange\"/>\n",
      "<path d=\"M70 140 H180 V140\" stroke=\"orange\" stroke-width=\"5\"/>\n",
      "</svg>\n",
      "```\n",
      "DEBUG:root:Unprocessed SVG: <svg viewBox=\"0 0 256 256\" width=\"256\" height=\"256\">\n",
      "<rect x=\"50\" y=\"50\" width=\"100\" height=\"100\" fill=\"orange\"></rect>\n",
      "<path d=\"M70 90 H180 V190 H70 Z\" fill=\"orange\"/>\n",
      "<path d=\"M70 140 H180 V140\" stroke=\"orange\" stroke-width=\"5\"/>\n",
      "</svg>\n",
      "INFO:root:Sanitizing SVG...\n",
      "DEBUG:root:Path element \"d\" attribute validated (regex check).\n",
      "DEBUG:root:Path element \"d\" attribute validated (regex check).\n",
      "DEBUG:root:Processed SVG: <svg viewBox=\"0 0 256 256\" width=\"256\" height=\"256\"><rect x=\"50\" y=\"50\" width=\"100\" height=\"100\" fill=\"orange\"/><path d=\"M70 90 H180 V190 H70 Z\" fill=\"orange\"/><path d=\"M70 140 H180 V140\" stroke=\"orange\" stroke-width=\"5\"/></svg>\n"
     ]
    },
    {
     "name": "stdout",
     "output_type": "stream",
     "text": [
      "Prediction time for description 'orange corduroy over...': 13.4718 seconds\n"
     ]
    },
    {
     "data": {
      "image/svg+xml": [
       "<svg viewBox=\"0 0 256 256\" width=\"256\" height=\"256\"><rect x=\"50\" y=\"50\" width=\"100\" height=\"100\" fill=\"orange\"/><path d=\"M70 90 H180 V190 H70 Z\" fill=\"orange\"/><path d=\"M70 140 H180 V140\" stroke=\"orange\" stroke-width=\"5\"/></svg>"
      ],
      "text/plain": [
       "<IPython.core.display.SVG object>"
      ]
     },
     "metadata": {},
     "output_type": "display_data"
    },
    {
     "name": "stderr",
     "output_type": "stream",
     "text": [
      "DEBUG:root:Output decoded from model: Generate SVG code to visually represent the following text description, while respecting the given constraints.\n",
      "<constraints>\n",
      "* **Allowed Elements:** `svg`, `path`, `circle`, `rect`, `ellipse`, `line`, `polyline`, `polygon`, `g`, `linearGradient`, `radialGradient`, `stop`, `defs`\n",
      "* **Allowed Attributes:** `viewBox`, `width`, `height`, `fill`, `stroke`, `stroke-width`, `d`, `cx`, `cy`, `r`, `x`, `y`, `rx`, `ry`, `x1`, `y1`, `x2`, `y2`, `points`, `transform`, `opacity`\n",
      "</constraints>\n",
      "\n",
      "<example>\n",
      "<description>\"A red circle with a blue square inside\"</description>\n",
      "```svg\n",
      "<svg viewBox=\"0 0 256 256\" width=\"256\" height=\"256\">\n",
      "  <circle cx=\"50\" cy=\"50\" r=\"40\" fill=\"red\"/>\n",
      "  <rect x=\"30\" y=\"30\" width=\"40\" height=\"40\" fill=\"blue\"/>\n",
      "</svg>\n",
      "```\n",
      "</example>\n",
      "\n",
      "\n",
      "Please ensure that the generated SVG code is well-formed, valid, and strictly adheres to these constraints. Focus on a clear and concise representation of the input description within the given limitations. Always give the complete SVG code with nothing omitted. Never use an ellipsis.\n",
      "\n",
      "<description>\"a lighthouse overlooking the ocean\"</description>\n",
      "```svg\n",
      "<svg viewBox=\"0 0 256 256\" width=\"256\" height=\"256\">\n",
      "  <circle cx=\"50\" cy=\"200\" r=\"30\" fill=\"black\"/>\n",
      "  <rect x=\"50\" y=\"230\" width=\"100\" height=\"20\" fill=\"white\"/>\n",
      "  <rect x=\"80\" y=\"220\" width=\"40\" height=\"10\" fill=\"gray\"/>\n",
      "  \n",
      "  <polygon points=\"0,256 128,128 256,256\" fill=\"blue\" stroke=\"black\"/> \n",
      "\n",
      "</svg>\n",
      "```\n",
      "\n",
      "\n",
      "\n",
      "DEBUG:root:Unprocessed SVG: <svg viewBox=\"0 0 256 256\" width=\"256\" height=\"256\">\n",
      "  <circle cx=\"50\" cy=\"200\" r=\"30\" fill=\"black\"/>\n",
      "  <rect x=\"50\" y=\"230\" width=\"100\" height=\"20\" fill=\"white\"/>\n",
      "  <rect x=\"80\" y=\"220\" width=\"40\" height=\"10\" fill=\"gray\"/>\n",
      "  \n",
      "  <polygon points=\"0,256 128,128 256,256\" fill=\"blue\" stroke=\"black\"/> \n",
      "\n",
      "</svg>\n",
      "INFO:root:Sanitizing SVG...\n",
      "DEBUG:root:Processed SVG: <svg viewBox=\"0 0 256 256\" width=\"256\" height=\"256\"><circle cx=\"50\" cy=\"200\" r=\"30\" fill=\"black\"/><rect x=\"50\" y=\"230\" width=\"100\" height=\"20\" fill=\"white\"/><rect x=\"80\" y=\"220\" width=\"40\" height=\"10\" fill=\"gray\"/><polygon points=\"0,256 128,128 256,256\" fill=\"blue\" stroke=\"black\"/></svg>\n"
     ]
    },
    {
     "name": "stdout",
     "output_type": "stream",
     "text": [
      "Prediction time for description 'a lighthouse overloo...': 18.1228 seconds\n"
     ]
    },
    {
     "data": {
      "image/svg+xml": [
       "<svg viewBox=\"0 0 256 256\" width=\"256\" height=\"256\"><circle cx=\"50\" cy=\"200\" r=\"30\" fill=\"black\"/><rect x=\"50\" y=\"230\" width=\"100\" height=\"20\" fill=\"white\"/><rect x=\"80\" y=\"220\" width=\"40\" height=\"10\" fill=\"gray\"/><polygon points=\"0,256 128,128 256,256\" fill=\"blue\" stroke=\"black\"/></svg>"
      ],
      "text/plain": [
       "<IPython.core.display.SVG object>"
      ]
     },
     "metadata": {},
     "output_type": "display_data"
    },
    {
     "name": "stderr",
     "output_type": "stream",
     "text": [
      "DEBUG:root:Output decoded from model: Generate SVG code to visually represent the following text description, while respecting the given constraints.\n",
      "<constraints>\n",
      "* **Allowed Elements:** `svg`, `path`, `circle`, `rect`, `ellipse`, `line`, `polyline`, `polygon`, `g`, `linearGradient`, `radialGradient`, `stop`, `defs`\n",
      "* **Allowed Attributes:** `viewBox`, `width`, `height`, `fill`, `stroke`, `stroke-width`, `d`, `cx`, `cy`, `r`, `x`, `y`, `rx`, `ry`, `x1`, `y1`, `x2`, `y2`, `points`, `transform`, `opacity`\n",
      "</constraints>\n",
      "\n",
      "<example>\n",
      "<description>\"A red circle with a blue square inside\"</description>\n",
      "```svg\n",
      "<svg viewBox=\"0 0 256 256\" width=\"256\" height=\"256\">\n",
      "  <circle cx=\"50\" cy=\"50\" r=\"40\" fill=\"red\"/>\n",
      "  <rect x=\"30\" y=\"30\" width=\"40\" height=\"40\" fill=\"blue\"/>\n",
      "</svg>\n",
      "```\n",
      "</example>\n",
      "\n",
      "\n",
      "Please ensure that the generated SVG code is well-formed, valid, and strictly adheres to these constraints. Focus on a clear and concise representation of the input description within the given limitations. Always give the complete SVG code with nothing omitted. Never use an ellipsis.\n",
      "\n",
      "<description>\"a green lagoon under a cloudy sky\"</description>\n",
      "```svg\n",
      "<svg viewBox=\"0 0 256 256\" width=\"256\" height=\"256\">\n",
      "  <rect x=\"0\" y=\"128\" width=\"256\" height=\"128\" fill=\"lightblue\"/>\n",
      "  <circle cx=\"50\" cy=\"50\" r=\"5\" fill=\"white\"/>\n",
      "  <circle cx=\"150\" cy=\"50\" r=\"5\" fill=\"white\"/>\n",
      "  <circle cx=\"100\" cy=\"100\" r=\"5\" fill=\"white\"/>\n",
      "  <rect x=\"0\" y=\"0\" width=\"256\" height=\"128\" fill=\"lightgreen\"/>\n",
      "\n",
      "</svg> \n",
      "```\n",
      "\n",
      "DEBUG:root:Unprocessed SVG: <svg viewBox=\"0 0 256 256\" width=\"256\" height=\"256\">\n",
      "  <rect x=\"0\" y=\"128\" width=\"256\" height=\"128\" fill=\"lightblue\"/>\n",
      "  <circle cx=\"50\" cy=\"50\" r=\"5\" fill=\"white\"/>\n",
      "  <circle cx=\"150\" cy=\"50\" r=\"5\" fill=\"white\"/>\n",
      "  <circle cx=\"100\" cy=\"100\" r=\"5\" fill=\"white\"/>\n",
      "  <rect x=\"0\" y=\"0\" width=\"256\" height=\"128\" fill=\"lightgreen\"/>\n",
      "\n",
      "</svg>\n",
      "INFO:root:Sanitizing SVG...\n",
      "DEBUG:root:Processed SVG: <svg viewBox=\"0 0 256 256\" width=\"256\" height=\"256\"><rect x=\"0\" y=\"128\" width=\"256\" height=\"128\" fill=\"lightblue\"/><circle cx=\"50\" cy=\"50\" r=\"5\" fill=\"white\"/><circle cx=\"150\" cy=\"50\" r=\"5\" fill=\"white\"/><circle cx=\"100\" cy=\"100\" r=\"5\" fill=\"white\"/><rect x=\"0\" y=\"0\" width=\"256\" height=\"128\" fill=\"lightgreen\"/></svg>\n"
     ]
    },
    {
     "name": "stdout",
     "output_type": "stream",
     "text": [
      "Prediction time for description 'a green lagoon under...': 18.9295 seconds\n"
     ]
    },
    {
     "data": {
      "image/svg+xml": [
       "<svg viewBox=\"0 0 256 256\" width=\"256\" height=\"256\"><rect x=\"0\" y=\"128\" width=\"256\" height=\"128\" fill=\"lightblue\"/><circle cx=\"50\" cy=\"50\" r=\"5\" fill=\"white\"/><circle cx=\"150\" cy=\"50\" r=\"5\" fill=\"white\"/><circle cx=\"100\" cy=\"100\" r=\"5\" fill=\"white\"/><rect x=\"0\" y=\"0\" width=\"256\" height=\"128\" fill=\"lightgreen\"/></svg>"
      ],
      "text/plain": [
       "<IPython.core.display.SVG object>"
      ]
     },
     "metadata": {},
     "output_type": "display_data"
    },
    {
     "name": "stderr",
     "output_type": "stream",
     "text": [
      "DEBUG:root:Output decoded from model: Generate SVG code to visually represent the following text description, while respecting the given constraints.\n",
      "<constraints>\n",
      "* **Allowed Elements:** `svg`, `path`, `circle`, `rect`, `ellipse`, `line`, `polyline`, `polygon`, `g`, `linearGradient`, `radialGradient`, `stop`, `defs`\n",
      "* **Allowed Attributes:** `viewBox`, `width`, `height`, `fill`, `stroke`, `stroke-width`, `d`, `cx`, `cy`, `r`, `x`, `y`, `rx`, `ry`, `x1`, `y1`, `x2`, `y2`, `points`, `transform`, `opacity`\n",
      "</constraints>\n",
      "\n",
      "<example>\n",
      "<description>\"A red circle with a blue square inside\"</description>\n",
      "```svg\n",
      "<svg viewBox=\"0 0 256 256\" width=\"256\" height=\"256\">\n",
      "  <circle cx=\"50\" cy=\"50\" r=\"40\" fill=\"red\"/>\n",
      "  <rect x=\"30\" y=\"30\" width=\"40\" height=\"40\" fill=\"blue\"/>\n",
      "</svg>\n",
      "```\n",
      "</example>\n",
      "\n",
      "\n",
      "Please ensure that the generated SVG code is well-formed, valid, and strictly adheres to these constraints. Focus on a clear and concise representation of the input description within the given limitations. Always give the complete SVG code with nothing omitted. Never use an ellipsis.\n",
      "\n",
      "<description>\"a snowy plain\"</description>\n",
      "```svg\n",
      "<svg viewBox=\"0 0 256 256\" width=\"256\" height=\"256\">\n",
      "  <defs>\n",
      "    <radialGradient id=\"snow\">\n",
      "      <stop offset=\"0%\" stop-color=\"#f5f5dc\"/>\n",
      "      <stop offset=\"50%\" stop-color=\"#fff\"/>\n",
      "      <stop offset=\"100%\" stop-color=\"#f5f5dc\"/>\n",
      "    </radialGradient>\n",
      "  </defs>\n",
      "  <rect x=\"0\" y=\"0\" width=\"256\" height=\"256\" fill=\"url(#snow)\"/>\n",
      "</svg>\n",
      "```\n",
      "DEBUG:root:Unprocessed SVG: <svg viewBox=\"0 0 256 256\" width=\"256\" height=\"256\">\n",
      "  <defs>\n",
      "    <radialGradient id=\"snow\">\n",
      "      <stop offset=\"0%\" stop-color=\"#f5f5dc\"/>\n",
      "      <stop offset=\"50%\" stop-color=\"#fff\"/>\n",
      "      <stop offset=\"100%\" stop-color=\"#f5f5dc\"/>\n",
      "    </radialGradient>\n",
      "  </defs>\n",
      "  <rect x=\"0\" y=\"0\" width=\"256\" height=\"256\" fill=\"url(#snow)\"/>\n",
      "</svg>\n",
      "INFO:root:Sanitizing SVG...\n",
      "DEBUG:root:Processed SVG: <svg viewBox=\"0 0 256 256\" width=\"256\" height=\"256\"><defs><radialGradient id=\"snow\"><stop offset=\"0%\" stop-color=\"#f5f5dc\"/><stop offset=\"50%\" stop-color=\"#fff\"/><stop offset=\"100%\" stop-color=\"#f5f5dc\"/></radialGradient></defs><rect x=\"0\" y=\"0\" width=\"256\" height=\"256\" fill=\"url(#snow)\"/></svg>\n"
     ]
    },
    {
     "name": "stdout",
     "output_type": "stream",
     "text": [
      "Prediction time for description 'a snowy plain...': 16.5651 seconds\n"
     ]
    },
    {
     "data": {
      "image/svg+xml": [
       "<svg viewBox=\"0 0 256 256\" width=\"256\" height=\"256\"><defs><radialGradient id=\"snow\"><stop offset=\"0%\" stop-color=\"#f5f5dc\"/><stop offset=\"50%\" stop-color=\"#fff\"/><stop offset=\"100%\" stop-color=\"#f5f5dc\"/></radialGradient></defs><rect x=\"0\" y=\"0\" width=\"256\" height=\"256\" fill=\"url(#snow)\"/></svg>"
      ],
      "text/plain": [
       "<IPython.core.display.SVG object>"
      ]
     },
     "metadata": {},
     "output_type": "display_data"
    },
    {
     "name": "stderr",
     "output_type": "stream",
     "text": [
      "DEBUG:root:Output decoded from model: Generate SVG code to visually represent the following text description, while respecting the given constraints.\n",
      "<constraints>\n",
      "* **Allowed Elements:** `svg`, `path`, `circle`, `rect`, `ellipse`, `line`, `polyline`, `polygon`, `g`, `linearGradient`, `radialGradient`, `stop`, `defs`\n",
      "* **Allowed Attributes:** `viewBox`, `width`, `height`, `fill`, `stroke`, `stroke-width`, `d`, `cx`, `cy`, `r`, `x`, `y`, `rx`, `ry`, `x1`, `y1`, `x2`, `y2`, `points`, `transform`, `opacity`\n",
      "</constraints>\n",
      "\n",
      "<example>\n",
      "<description>\"A red circle with a blue square inside\"</description>\n",
      "```svg\n",
      "<svg viewBox=\"0 0 256 256\" width=\"256\" height=\"256\">\n",
      "  <circle cx=\"50\" cy=\"50\" r=\"40\" fill=\"red\"/>\n",
      "  <rect x=\"30\" y=\"30\" width=\"40\" height=\"40\" fill=\"blue\"/>\n",
      "</svg>\n",
      "```\n",
      "</example>\n",
      "\n",
      "\n",
      "Please ensure that the generated SVG code is well-formed, valid, and strictly adheres to these constraints. Focus on a clear and concise representation of the input description within the given limitations. Always give the complete SVG code with nothing omitted. Never use an ellipsis.\n",
      "\n",
      "<description>\"a maroon dodecahedron interwoven with teal threads\"</description>\n",
      "```svg\n",
      "<svg viewBox=\"0 0 256 256\" width=\"256\" height=\"256\">\n",
      "  <polygon points=\"128,128 100, 8   156, 8   133,40   156,72   133,104   156,136   133,168   156,200   133,232   156,264   133,296   156,328   100,328   128,296   100,264   128,232   \".transform=\"translate(128, 128)\" fill=\"maroon\"/>\n",
      "  <polygon points=\"128,128 100,224   156,224   133,192   156,160   133,128   156,96   133,64   156,32   133,0   156,32   133,64   156,96   133,128\" .transform=\"translate(128, 128)\" fill=\"teal\"/>\n",
      "  <polygon points=\"128,128 100,192   156,192   133,160   156,128   133,96   156,64   133,32   156,0   133,32   156,64   133,96   156,128\" .transform=\"translate(128, 128)\" fill=\"teal\"/>\n",
      "  <polygon points=\"128,128 100,40   156,40   133,16   156,32   133,0   156,160   133,128\" .transform=\"translate(128, 128)\" fill=\"teal\"/>\n",
      "</svg>\n",
      "\n",
      "\n",
      "\n",
      "```\n",
      "\n",
      "\n",
      "\n",
      "\n",
      "\n",
      "DEBUG:root:Unprocessed SVG: <svg viewBox=\"0 0 256 256\" width=\"256\" height=\"256\">\n",
      "  <polygon points=\"128,128 100, 8   156, 8   133,40   156,72   133,104   156,136   133,168   156,200   133,232   156,264   133,296   156,328   100,328   128,296   100,264   128,232   \".transform=\"translate(128, 128)\" fill=\"maroon\"/>\n",
      "  <polygon points=\"128,128 100,224   156,224   133,192   156,160   133,128   156,96   133,64   156,32   133,0   156,32   133,64   156,96   133,128\" .transform=\"translate(128, 128)\" fill=\"teal\"/>\n",
      "  <polygon points=\"128,128 100,192   156,192   133,160   156,128   133,96   156,64   133,32   156,0   133,32   156,64   133,96   156,128\" .transform=\"translate(128, 128)\" fill=\"teal\"/>\n",
      "  <polygon points=\"128,128 100,40   156,40   133,16   156,32   133,0   156,160   133,128\" .transform=\"translate(128, 128)\" fill=\"teal\"/>\n",
      "</svg>\n",
      "INFO:root:Sanitizing SVG...\n",
      "ERROR:root:SVG Parse Error: attributes construct error, line 2, column 185 (<string>, line 2). Returning default SVG.\n",
      "DEBUG:root:Processed SVG: <svg width=\"256\" height=\"256\" viewBox=\"0 0 256 256\"><circle cx=\"50\" cy=\"50\" r=\"40\" fill=\"red\" /></svg>\n"
     ]
    },
    {
     "name": "stdout",
     "output_type": "stream",
     "text": [
      "Prediction time for description 'a maroon dodecahedro...': 66.7716 seconds\n"
     ]
    },
    {
     "data": {
      "image/svg+xml": [
       "<svg width=\"256\" height=\"256\" viewBox=\"0 0 256 256\"><circle cx=\"50\" cy=\"50\" r=\"40\" fill=\"red\"/></svg>"
      ],
      "text/plain": [
       "<IPython.core.display.SVG object>"
      ]
     },
     "metadata": {},
     "output_type": "display_data"
    },
    {
     "name": "stderr",
     "output_type": "stream",
     "text": [
      "DEBUG:root:Output decoded from model: Generate SVG code to visually represent the following text description, while respecting the given constraints.\n",
      "<constraints>\n",
      "* **Allowed Elements:** `svg`, `path`, `circle`, `rect`, `ellipse`, `line`, `polyline`, `polygon`, `g`, `linearGradient`, `radialGradient`, `stop`, `defs`\n",
      "* **Allowed Attributes:** `viewBox`, `width`, `height`, `fill`, `stroke`, `stroke-width`, `d`, `cx`, `cy`, `r`, `x`, `y`, `rx`, `ry`, `x1`, `y1`, `x2`, `y2`, `points`, `transform`, `opacity`\n",
      "</constraints>\n",
      "\n",
      "<example>\n",
      "<description>\"A red circle with a blue square inside\"</description>\n",
      "```svg\n",
      "<svg viewBox=\"0 0 256 256\" width=\"256\" height=\"256\">\n",
      "  <circle cx=\"50\" cy=\"50\" r=\"40\" fill=\"red\"/>\n",
      "  <rect x=\"30\" y=\"30\" width=\"40\" height=\"40\" fill=\"blue\"/>\n",
      "</svg>\n",
      "```\n",
      "</example>\n",
      "\n",
      "\n",
      "Please ensure that the generated SVG code is well-formed, valid, and strictly adheres to these constraints. Focus on a clear and concise representation of the input description within the given limitations. Always give the complete SVG code with nothing omitted. Never use an ellipsis.\n",
      "\n",
      "<description>\"a purple silk scarf with tassel trim\"</description>\n",
      "```svg\n",
      "<svg viewBox=\"0 0 256 256\" width=\"256\" height=\"256\">\n",
      "  <rect x=\"30\" y=\"30\" width=\"196\" height=\"196\" fill=\"#800080\" rx=\"10\"/>\n",
      "  <rect x=\"30\" y=\"180\" width=\"30\" height=\"30\" fill=\"#800080\"/>\n",
      "  <rect x=\"200\" y=\"180\" width=\"30\" height=\"30\" fill=\"#800080\"/>\n",
      "  \n",
      "</svg>\n",
      "```\n",
      "\n",
      "\n",
      "\n",
      "\n",
      "\n",
      "DEBUG:root:Unprocessed SVG: <svg viewBox=\"0 0 256 256\" width=\"256\" height=\"256\">\n",
      "  <rect x=\"30\" y=\"30\" width=\"196\" height=\"196\" fill=\"#800080\" rx=\"10\"/>\n",
      "  <rect x=\"30\" y=\"180\" width=\"30\" height=\"30\" fill=\"#800080\"/>\n",
      "  <rect x=\"200\" y=\"180\" width=\"30\" height=\"30\" fill=\"#800080\"/>\n",
      "  \n",
      "</svg>\n",
      "INFO:root:Sanitizing SVG...\n",
      "DEBUG:root:Processed SVG: <svg viewBox=\"0 0 256 256\" width=\"256\" height=\"256\"><rect x=\"30\" y=\"30\" width=\"196\" height=\"196\" fill=\"#800080\" rx=\"10\"/><rect x=\"30\" y=\"180\" width=\"30\" height=\"30\" fill=\"#800080\"/><rect x=\"200\" y=\"180\" width=\"30\" height=\"30\" fill=\"#800080\"/></svg>\n"
     ]
    },
    {
     "name": "stdout",
     "output_type": "stream",
     "text": [
      "Prediction time for description 'a purple silk scarf ...': 16.6598 seconds\n"
     ]
    },
    {
     "data": {
      "image/svg+xml": [
       "<svg viewBox=\"0 0 256 256\" width=\"256\" height=\"256\"><rect x=\"30\" y=\"30\" width=\"196\" height=\"196\" fill=\"#800080\" rx=\"10\"/><rect x=\"30\" y=\"180\" width=\"30\" height=\"30\" fill=\"#800080\"/><rect x=\"200\" y=\"180\" width=\"30\" height=\"30\" fill=\"#800080\"/></svg>"
      ],
      "text/plain": [
       "<IPython.core.display.SVG object>"
      ]
     },
     "metadata": {},
     "output_type": "display_data"
    },
    {
     "name": "stderr",
     "output_type": "stream",
     "text": [
      "DEBUG:root:Output decoded from model: Generate SVG code to visually represent the following text description, while respecting the given constraints.\n",
      "<constraints>\n",
      "* **Allowed Elements:** `svg`, `path`, `circle`, `rect`, `ellipse`, `line`, `polyline`, `polygon`, `g`, `linearGradient`, `radialGradient`, `stop`, `defs`\n",
      "* **Allowed Attributes:** `viewBox`, `width`, `height`, `fill`, `stroke`, `stroke-width`, `d`, `cx`, `cy`, `r`, `x`, `y`, `rx`, `ry`, `x1`, `y1`, `x2`, `y2`, `points`, `transform`, `opacity`\n",
      "</constraints>\n",
      "\n",
      "<example>\n",
      "<description>\"A red circle with a blue square inside\"</description>\n",
      "```svg\n",
      "<svg viewBox=\"0 0 256 256\" width=\"256\" height=\"256\">\n",
      "  <circle cx=\"50\" cy=\"50\" r=\"40\" fill=\"red\"/>\n",
      "  <rect x=\"30\" y=\"30\" width=\"40\" height=\"40\" fill=\"blue\"/>\n",
      "</svg>\n",
      "```\n",
      "</example>\n",
      "\n",
      "\n",
      "Please ensure that the generated SVG code is well-formed, valid, and strictly adheres to these constraints. Focus on a clear and concise representation of the input description within the given limitations. Always give the complete SVG code with nothing omitted. Never use an ellipsis.\n",
      "\n",
      "<description>\"magenta trapezoids layered on a transluscent silver sheet\"</description>\n",
      "```svg\n",
      "<svg viewBox=\"0 0 256 256\" width=\"256\" height=\"256\">\n",
      "  <rect x=\"0\" y=\"0\" width=\"256\" height=\"256\" fill=\"url(#silver)\"/>\n",
      "  <defs>\n",
      "    <linearGradient id=\"silver\" x1=\"0%\" y1=\"0%\" x2=\"100%\" y2=\"100%\">\n",
      "      <stop offset=\"0%\"  stop-color=\"#C0C0C0\"/>\n",
      "      <stop offset=\"100%\" stop-color=\"#808080\"/>\n",
      "    </linearGradient>\n",
      "  </defs>\n",
      "  <polygon points=\"10,10 100,10 150,70 20,70\" fill=\"magenta\"/>\n",
      "  <polygon points=\"50,20 120,20 170,80 90,80\" fill=\"magenta\"/>\n",
      "</svg>\n",
      "\n",
      "```\n",
      "\n",
      "\n",
      "\n",
      "\n",
      "DEBUG:root:Unprocessed SVG: <svg viewBox=\"0 0 256 256\" width=\"256\" height=\"256\">\n",
      "  <rect x=\"0\" y=\"0\" width=\"256\" height=\"256\" fill=\"url(#silver)\"/>\n",
      "  <defs>\n",
      "    <linearGradient id=\"silver\" x1=\"0%\" y1=\"0%\" x2=\"100%\" y2=\"100%\">\n",
      "      <stop offset=\"0%\"  stop-color=\"#C0C0C0\"/>\n",
      "      <stop offset=\"100%\" stop-color=\"#808080\"/>\n",
      "    </linearGradient>\n",
      "  </defs>\n",
      "  <polygon points=\"10,10 100,10 150,70 20,70\" fill=\"magenta\"/>\n",
      "  <polygon points=\"50,20 120,20 170,80 90,80\" fill=\"magenta\"/>\n",
      "</svg>\n",
      "INFO:root:Sanitizing SVG...\n",
      "DEBUG:root:Processed SVG: <svg viewBox=\"0 0 256 256\" width=\"256\" height=\"256\"><rect x=\"0\" y=\"0\" width=\"256\" height=\"256\" fill=\"url(#silver)\"/><defs><linearGradient id=\"silver\" x1=\"0%\" y1=\"0%\" x2=\"100%\" y2=\"100%\"><stop offset=\"0%\" stop-color=\"#C0C0C0\"/><stop offset=\"100%\" stop-color=\"#808080\"/></linearGradient></defs><polygon points=\"10,10 100,10 150,70 20,70\" fill=\"magenta\"/><polygon points=\"50,20 120,20 170,80 90,80\" fill=\"magenta\"/></svg>\n"
     ]
    },
    {
     "name": "stdout",
     "output_type": "stream",
     "text": [
      "Prediction time for description 'magenta trapezoids l...': 27.0906 seconds\n"
     ]
    },
    {
     "data": {
      "image/svg+xml": [
       "<svg viewBox=\"0 0 256 256\" width=\"256\" height=\"256\"><rect x=\"0\" y=\"0\" width=\"256\" height=\"256\" fill=\"url(#silver)\"/><defs><linearGradient id=\"silver\" x1=\"0%\" y1=\"0%\" x2=\"100%\" y2=\"100%\"><stop offset=\"0%\" stop-color=\"#C0C0C0\"/><stop offset=\"100%\" stop-color=\"#808080\"/></linearGradient></defs><polygon points=\"10,10 100,10 150,70 20,70\" fill=\"magenta\"/><polygon points=\"50,20 120,20 170,80 90,80\" fill=\"magenta\"/></svg>"
      ],
      "text/plain": [
       "<IPython.core.display.SVG object>"
      ]
     },
     "metadata": {},
     "output_type": "display_data"
    },
    {
     "name": "stderr",
     "output_type": "stream",
     "text": [
      "DEBUG:root:Output decoded from model: Generate SVG code to visually represent the following text description, while respecting the given constraints.\n",
      "<constraints>\n",
      "* **Allowed Elements:** `svg`, `path`, `circle`, `rect`, `ellipse`, `line`, `polyline`, `polygon`, `g`, `linearGradient`, `radialGradient`, `stop`, `defs`\n",
      "* **Allowed Attributes:** `viewBox`, `width`, `height`, `fill`, `stroke`, `stroke-width`, `d`, `cx`, `cy`, `r`, `x`, `y`, `rx`, `ry`, `x1`, `y1`, `x2`, `y2`, `points`, `transform`, `opacity`\n",
      "</constraints>\n",
      "\n",
      "<example>\n",
      "<description>\"A red circle with a blue square inside\"</description>\n",
      "```svg\n",
      "<svg viewBox=\"0 0 256 256\" width=\"256\" height=\"256\">\n",
      "  <circle cx=\"50\" cy=\"50\" r=\"40\" fill=\"red\"/>\n",
      "  <rect x=\"30\" y=\"30\" width=\"40\" height=\"40\" fill=\"blue\"/>\n",
      "</svg>\n",
      "```\n",
      "</example>\n",
      "\n",
      "\n",
      "Please ensure that the generated SVG code is well-formed, valid, and strictly adheres to these constraints. Focus on a clear and concise representation of the input description within the given limitations. Always give the complete SVG code with nothing omitted. Never use an ellipsis.\n",
      "\n",
      "<description>\"gray wool coat with a faux fur collar\"</description>\n",
      "```svg\n",
      "<svg viewBox=\"0 0 256 256\" width=\"256\" height=\"256\">\n",
      "  <rect x=\"20\" y=\"20\" width=\"216\" height=\"216\" fill=\"#808080\" stroke=\"black\" stroke-width=\"2\"/>\n",
      "  <polygon points=\"50,100 100,100 100,70 50,70\" fill=\"#F2F2F2\"  />\n",
      "</svg>\n",
      "```\n",
      "\n",
      "\n",
      "\n",
      "You're on the right track! \n",
      "\n",
      "Here's an improved version, focusing on a more visual representation of the \"faux fur\" collar:\n",
      "\n",
      "```xml\n",
      "<svg viewBox=\"0 0 256 256\" width=\"256\" height=\"256\">\n",
      "  <rect x=\"20\" y=\"20\" width=\"216\" height=\"216\" fill=\"#808080\" stroke=\"black\" stroke-width=\"2\"/>\n",
      "  <polygon points=\"50,100 100,100 100,70 50,70\" fill=\"#F2F2F2\"/>\n",
      "  <g transform=\"translate(60,80)\">\n",
      "    <path d=\"M 0,0 L 10,5 L 15,0 Z\" fill=\"#FFFFFF\" stroke=\"#000000\" stroke-width=\"1\"/>\n",
      "    <path d=\"M 10,5 L 20,10 L 15,5 Z\" fill=\"#FFFFFF\" stroke=\"#000000\" stroke-width=\"1\"/>\n",
      "    <path d=\"M 20,10 L 30,15 L 25,10 Z\" fill=\"#FFFFFF\" stroke=\"#000000\" stroke-width=\"1\"/>\n",
      "    <path d=\"M 30,15 L 40,20 L 35,15 Z\" fill=\"#FFFFFF\" stroke=\"#000000\" stroke-width=\"1\"/>\n",
      "  </g>\n",
      "</svg>\n",
      "``` \n",
      "\n",
      "**Explanation:**\n",
      "\n",
      "* **Main Shapes:** The base coat is represented by the `rect`, and the collar by the simple `polygon`.\n",
      "* **Faux Fur Texture:** The `g` element with `transform` is used to center the fur\n",
      "DEBUG:root:Unprocessed SVG: <svg viewBox=\"0 0 256 256\" width=\"256\" height=\"256\">\n",
      "  <rect x=\"20\" y=\"20\" width=\"216\" height=\"216\" fill=\"#808080\" stroke=\"black\" stroke-width=\"2\"/>\n",
      "  <polygon points=\"50,100 100,100 100,70 50,70\" fill=\"#F2F2F2\"/>\n",
      "  <g transform=\"translate(60,80)\">\n",
      "    <path d=\"M 0,0 L 10,5 L 15,0 Z\" fill=\"#FFFFFF\" stroke=\"#000000\" stroke-width=\"1\"/>\n",
      "    <path d=\"M 10,5 L 20,10 L 15,5 Z\" fill=\"#FFFFFF\" stroke=\"#000000\" stroke-width=\"1\"/>\n",
      "    <path d=\"M 20,10 L 30,15 L 25,10 Z\" fill=\"#FFFFFF\" stroke=\"#000000\" stroke-width=\"1\"/>\n",
      "    <path d=\"M 30,15 L 40,20 L 35,15 Z\" fill=\"#FFFFFF\" stroke=\"#000000\" stroke-width=\"1\"/>\n",
      "  </g>\n",
      "</svg>\n",
      "INFO:root:Sanitizing SVG...\n",
      "DEBUG:root:Path element \"d\" attribute validated (regex check).\n",
      "DEBUG:root:Path element \"d\" attribute validated (regex check).\n",
      "DEBUG:root:Path element \"d\" attribute validated (regex check).\n",
      "DEBUG:root:Path element \"d\" attribute validated (regex check).\n",
      "DEBUG:root:Processed SVG: <svg viewBox=\"0 0 256 256\" width=\"256\" height=\"256\"><rect x=\"20\" y=\"20\" width=\"216\" height=\"216\" fill=\"#808080\" stroke=\"black\" stroke-width=\"2\"/><polygon points=\"50,100 100,100 100,70 50,70\" fill=\"#F2F2F2\"/><g transform=\"translate(60,80)\"><path d=\"M 0,0 L 10,5 L 15,0 Z\" fill=\"#FFFFFF\" stroke=\"#000000\" stroke-width=\"1\"/><path d=\"M 10,5 L 20,10 L 15,5 Z\" fill=\"#FFFFFF\" stroke=\"#000000\" stroke-width=\"1\"/><path d=\"M 20,10 L 30,15 L 25,10 Z\" fill=\"#FFFFFF\" stroke=\"#000000\" stroke-width=\"1\"/><path d=\"M 30,15 L 40,20 L 35,15 Z\" fill=\"#FFFFFF\" stroke=\"#000000\" stroke-width=\"1\"/></g></svg>\n"
     ]
    },
    {
     "name": "stdout",
     "output_type": "stream",
     "text": [
      "Prediction time for description 'gray wool coat with ...': 69.0999 seconds\n"
     ]
    },
    {
     "data": {
      "image/svg+xml": [
       "<svg viewBox=\"0 0 256 256\" width=\"256\" height=\"256\"><rect x=\"20\" y=\"20\" width=\"216\" height=\"216\" fill=\"#808080\" stroke=\"black\" stroke-width=\"2\"/><polygon points=\"50,100 100,100 100,70 50,70\" fill=\"#F2F2F2\"/><g transform=\"translate(60,80)\"><path d=\"M 0,0 L 10,5 L 15,0 Z\" fill=\"#FFFFFF\" stroke=\"#000000\" stroke-width=\"1\"/><path d=\"M 10,5 L 20,10 L 15,5 Z\" fill=\"#FFFFFF\" stroke=\"#000000\" stroke-width=\"1\"/><path d=\"M 20,10 L 30,15 L 25,10 Z\" fill=\"#FFFFFF\" stroke=\"#000000\" stroke-width=\"1\"/><path d=\"M 30,15 L 40,20 L 35,15 Z\" fill=\"#FFFFFF\" stroke=\"#000000\" stroke-width=\"1\"/></g></svg>"
      ],
      "text/plain": [
       "<IPython.core.display.SVG object>"
      ]
     },
     "metadata": {},
     "output_type": "display_data"
    },
    {
     "name": "stderr",
     "output_type": "stream",
     "text": [
      "DEBUG:root:Output decoded from model: Generate SVG code to visually represent the following text description, while respecting the given constraints.\n",
      "<constraints>\n",
      "* **Allowed Elements:** `svg`, `path`, `circle`, `rect`, `ellipse`, `line`, `polyline`, `polygon`, `g`, `linearGradient`, `radialGradient`, `stop`, `defs`\n",
      "* **Allowed Attributes:** `viewBox`, `width`, `height`, `fill`, `stroke`, `stroke-width`, `d`, `cx`, `cy`, `r`, `x`, `y`, `rx`, `ry`, `x1`, `y1`, `x2`, `y2`, `points`, `transform`, `opacity`\n",
      "</constraints>\n",
      "\n",
      "<example>\n",
      "<description>\"A red circle with a blue square inside\"</description>\n",
      "```svg\n",
      "<svg viewBox=\"0 0 256 256\" width=\"256\" height=\"256\">\n",
      "  <circle cx=\"50\" cy=\"50\" r=\"40\" fill=\"red\"/>\n",
      "  <rect x=\"30\" y=\"30\" width=\"40\" height=\"40\" fill=\"blue\"/>\n",
      "</svg>\n",
      "```\n",
      "</example>\n",
      "\n",
      "\n",
      "Please ensure that the generated SVG code is well-formed, valid, and strictly adheres to these constraints. Focus on a clear and concise representation of the input description within the given limitations. Always give the complete SVG code with nothing omitted. Never use an ellipsis.\n",
      "\n",
      "<description>\"a purple forest at dusk\"</description>\n",
      "```svg\n",
      "<svg viewBox=\"0 0 256 256\" width=\"256\" height=\"256\">\n",
      "</svg>\n",
      "``` \n",
      "\n",
      "\n",
      "DEBUG:root:Unprocessed SVG: <svg viewBox=\"0 0 256 256\" width=\"256\" height=\"256\">\n",
      "</svg>\n",
      "INFO:root:Sanitizing SVG...\n",
      "DEBUG:root:Processed SVG: <svg viewBox=\"0 0 256 256\" width=\"256\" height=\"256\">\n",
      "</svg>\n"
     ]
    },
    {
     "name": "stdout",
     "output_type": "stream",
     "text": [
      "Prediction time for description 'a purple forest at d...': 1.7872 seconds\n"
     ]
    },
    {
     "data": {
      "image/svg+xml": [
       "<svg viewBox=\"0 0 256 256\" width=\"256\" height=\"256\">\n",
       "</svg>"
      ],
      "text/plain": [
       "<IPython.core.display.SVG object>"
      ]
     },
     "metadata": {},
     "output_type": "display_data"
    },
    {
     "name": "stderr",
     "output_type": "stream",
     "text": [
      "DEBUG:root:Output decoded from model: Generate SVG code to visually represent the following text description, while respecting the given constraints.\n",
      "<constraints>\n",
      "* **Allowed Elements:** `svg`, `path`, `circle`, `rect`, `ellipse`, `line`, `polyline`, `polygon`, `g`, `linearGradient`, `radialGradient`, `stop`, `defs`\n",
      "* **Allowed Attributes:** `viewBox`, `width`, `height`, `fill`, `stroke`, `stroke-width`, `d`, `cx`, `cy`, `r`, `x`, `y`, `rx`, `ry`, `x1`, `y1`, `x2`, `y2`, `points`, `transform`, `opacity`\n",
      "</constraints>\n",
      "\n",
      "<example>\n",
      "<description>\"A red circle with a blue square inside\"</description>\n",
      "```svg\n",
      "<svg viewBox=\"0 0 256 256\" width=\"256\" height=\"256\">\n",
      "  <circle cx=\"50\" cy=\"50\" r=\"40\" fill=\"red\"/>\n",
      "  <rect x=\"30\" y=\"30\" width=\"40\" height=\"40\" fill=\"blue\"/>\n",
      "</svg>\n",
      "```\n",
      "</example>\n",
      "\n",
      "\n",
      "Please ensure that the generated SVG code is well-formed, valid, and strictly adheres to these constraints. Focus on a clear and concise representation of the input description within the given limitations. Always give the complete SVG code with nothing omitted. Never use an ellipsis.\n",
      "\n",
      "<description>\"purple pyramids spiraling around a bronze cone\"</description>\n",
      "```svg\n",
      "<svg viewBox=\"0 0 256 256\" width=\"256\" height=\"256\">\n",
      "  <circle cx=\"128\" cy=\"128\" r=\"50\" fill=\"bronze\" />\n",
      "  <polygon points=\"100,50 100,150 150,100\" fill=\"purple\" transform=\"rotate(30 128 128)\"/>\n",
      "  <polygon points=\"200,50 200,150 150,100\" fill=\"purple\" transform=\"rotate(60 128 128)\"/>\n",
      "  <polygon points=\"100,200 100,250 150,225\" fill=\"purple\" transform=\"rotate(90 128 128)\"/>\n",
      "  <polygon points=\"200,200 200,250 150,225\" fill=\"purple\" transform=\"rotate(120 128 128)\"/>\n",
      "</svg>\n",
      "\n",
      "``` \n",
      "\n",
      "\n",
      "\n",
      "\n",
      "\n",
      "DEBUG:root:Unprocessed SVG: <svg viewBox=\"0 0 256 256\" width=\"256\" height=\"256\">\n",
      "  <circle cx=\"128\" cy=\"128\" r=\"50\" fill=\"bronze\" />\n",
      "  <polygon points=\"100,50 100,150 150,100\" fill=\"purple\" transform=\"rotate(30 128 128)\"/>\n",
      "  <polygon points=\"200,50 200,150 150,100\" fill=\"purple\" transform=\"rotate(60 128 128)\"/>\n",
      "  <polygon points=\"100,200 100,250 150,225\" fill=\"purple\" transform=\"rotate(90 128 128)\"/>\n",
      "  <polygon points=\"200,200 200,250 150,225\" fill=\"purple\" transform=\"rotate(120 128 128)\"/>\n",
      "</svg>\n",
      "INFO:root:Sanitizing SVG...\n",
      "DEBUG:root:Processed SVG: <svg viewBox=\"0 0 256 256\" width=\"256\" height=\"256\"><circle cx=\"128\" cy=\"128\" r=\"50\" fill=\"bronze\"/><polygon points=\"100,50 100,150 150,100\" fill=\"purple\" transform=\"rotate(30 128 128)\"/><polygon points=\"200,50 200,150 150,100\" fill=\"purple\" transform=\"rotate(60 128 128)\"/><polygon points=\"100,200 100,250 150,225\" fill=\"purple\" transform=\"rotate(90 128 128)\"/><polygon points=\"200,200 200,250 150,225\" fill=\"purple\" transform=\"rotate(120 128 128)\"/></svg>\n"
     ]
    },
    {
     "name": "stdout",
     "output_type": "stream",
     "text": [
      "Prediction time for description 'purple pyramids spir...': 31.8078 seconds\n"
     ]
    },
    {
     "data": {
      "image/svg+xml": [
       "<svg viewBox=\"0 0 256 256\" width=\"256\" height=\"256\"><circle cx=\"128\" cy=\"128\" r=\"50\" fill=\"bronze\"/><polygon points=\"100,50 100,150 150,100\" fill=\"purple\" transform=\"rotate(30 128 128)\"/><polygon points=\"200,50 200,150 150,100\" fill=\"purple\" transform=\"rotate(60 128 128)\"/><polygon points=\"100,200 100,250 150,225\" fill=\"purple\" transform=\"rotate(90 128 128)\"/><polygon points=\"200,200 200,250 150,225\" fill=\"purple\" transform=\"rotate(120 128 128)\"/></svg>"
      ],
      "text/plain": [
       "<IPython.core.display.SVG object>"
      ]
     },
     "metadata": {},
     "output_type": "display_data"
    },
    {
     "name": "stderr",
     "output_type": "stream",
     "text": [
      "DEBUG:root:Output decoded from model: Generate SVG code to visually represent the following text description, while respecting the given constraints.\n",
      "<constraints>\n",
      "* **Allowed Elements:** `svg`, `path`, `circle`, `rect`, `ellipse`, `line`, `polyline`, `polygon`, `g`, `linearGradient`, `radialGradient`, `stop`, `defs`\n",
      "* **Allowed Attributes:** `viewBox`, `width`, `height`, `fill`, `stroke`, `stroke-width`, `d`, `cx`, `cy`, `r`, `x`, `y`, `rx`, `ry`, `x1`, `y1`, `x2`, `y2`, `points`, `transform`, `opacity`\n",
      "</constraints>\n",
      "\n",
      "<example>\n",
      "<description>\"A red circle with a blue square inside\"</description>\n",
      "```svg\n",
      "<svg viewBox=\"0 0 256 256\" width=\"256\" height=\"256\">\n",
      "  <circle cx=\"50\" cy=\"50\" r=\"40\" fill=\"red\"/>\n",
      "  <rect x=\"30\" y=\"30\" width=\"40\" height=\"40\" fill=\"blue\"/>\n",
      "</svg>\n",
      "```\n",
      "</example>\n",
      "\n",
      "\n",
      "Please ensure that the generated SVG code is well-formed, valid, and strictly adheres to these constraints. Focus on a clear and concise representation of the input description within the given limitations. Always give the complete SVG code with nothing omitted. Never use an ellipsis.\n",
      "\n",
      "<description>\"khaki triangles and azure crescents\"</description>\n",
      "```svg\n",
      "<svg viewBox=\"0 0 256 256\" width=\"256\" height=\"256\">\n",
      "  <polygon points=\"50,10 100,180 150,10\" fill=\"khaki\"/>\n",
      "  <ellipse cx=\"128\" cy=\"128\" rx=\"64\" ry=\"32\" fill=\"azure\"/>\n",
      "</svg>\n",
      "```\n",
      "\n",
      "DEBUG:root:Unprocessed SVG: <svg viewBox=\"0 0 256 256\" width=\"256\" height=\"256\">\n",
      "  <polygon points=\"50,10 100,180 150,10\" fill=\"khaki\"/>\n",
      "  <ellipse cx=\"128\" cy=\"128\" rx=\"64\" ry=\"32\" fill=\"azure\"/>\n",
      "</svg>\n",
      "INFO:root:Sanitizing SVG...\n",
      "DEBUG:root:Processed SVG: <svg viewBox=\"0 0 256 256\" width=\"256\" height=\"256\"><polygon points=\"50,10 100,180 150,10\" fill=\"khaki\"/><ellipse cx=\"128\" cy=\"128\" rx=\"64\" ry=\"32\" fill=\"azure\"/></svg>\n"
     ]
    },
    {
     "name": "stdout",
     "output_type": "stream",
     "text": [
      "Prediction time for description 'khaki triangles and ...': 9.8965 seconds\n"
     ]
    },
    {
     "data": {
      "image/svg+xml": [
       "<svg viewBox=\"0 0 256 256\" width=\"256\" height=\"256\"><polygon points=\"50,10 100,180 150,10\" fill=\"khaki\"/><ellipse cx=\"128\" cy=\"128\" rx=\"64\" ry=\"32\" fill=\"azure\"/></svg>"
      ],
      "text/plain": [
       "<IPython.core.display.SVG object>"
      ]
     },
     "metadata": {},
     "output_type": "display_data"
    }
   ],
   "source": [
    "def generate():\n",
    "    import polars as pl\n",
    "    from IPython.display import SVG\n",
    "    import time  # Import the time module\n",
    "    \n",
    "    logging.basicConfig(level=logging.DEBUG, force=True)\n",
    "    \n",
    "    train = pl.read_csv('/kaggle/input/drawing-with-llms/train.csv')\n",
    "    display(train.head())\n",
    "    \n",
    "    model = Model()\n",
    "    svgs = []\n",
    "    for desc in train.get_column('description'):\n",
    "        start_time = time.time()  # Record start time\n",
    "        svg = model.predict(desc)\n",
    "        end_time = time.time()    # Record end time\n",
    "        elapsed_time = end_time - start_time # Calculate elapsed time\n",
    "        print(f\"Prediction time for description '{desc[:20]}...': {elapsed_time:.4f} seconds\") # Print time\n",
    "    \n",
    "        try:\n",
    "            display(SVG(svg))\n",
    "        except Exception as e:\n",
    "            print(e)\n",
    "            continue\n",
    "\n",
    "# Uncomment and run the line below to see some generated images\n",
    "generate()"
   ]
  },
  {
   "cell_type": "code",
   "execution_count": null,
   "id": "25cd8b6d",
   "metadata": {
    "papermill": {
     "duration": 0.00896,
     "end_time": "2025-03-19T19:29:12.930489",
     "exception": false,
     "start_time": "2025-03-19T19:29:12.921529",
     "status": "completed"
    },
    "tags": []
   },
   "outputs": [],
   "source": []
  }
 ],
 "metadata": {
  "kaggle": {
   "accelerator": "nvidiaTeslaT4",
   "dataSources": [
    {
     "databundleVersionId": 11228460,
     "sourceId": 89659,
     "sourceType": "competition"
    },
    {
     "sourceId": 224423433,
     "sourceType": "kernelVersion"
    },
    {
     "modelId": 76277,
     "modelInstanceId": 72256,
     "sourceId": 104453,
     "sourceType": "modelInstanceVersion"
    },
    {
     "modelId": 271077,
     "modelInstanceId": 249562,
     "sourceId": 291259,
     "sourceType": "modelInstanceVersion"
    }
   ],
   "dockerImageVersionId": 30919,
   "isGpuEnabled": true,
   "isInternetEnabled": false,
   "language": "python",
   "sourceType": "notebook"
  },
  "kernelspec": {
   "display_name": "Python 3",
   "language": "python",
   "name": "python3"
  },
  "language_info": {
   "codemirror_mode": {
    "name": "ipython",
    "version": 3
   },
   "file_extension": ".py",
   "mimetype": "text/x-python",
   "name": "python",
   "nbconvert_exporter": "python",
   "pygments_lexer": "ipython3",
   "version": "3.10.12"
  },
  "papermill": {
   "default_parameters": {},
   "duration": 996.296633,
   "end_time": "2025-03-19T19:29:16.809596",
   "environment_variables": {},
   "exception": null,
   "input_path": "__notebook__.ipynb",
   "output_path": "__notebook__.ipynb",
   "parameters": {},
   "start_time": "2025-03-19T19:12:40.512963",
   "version": "2.6.0"
  },
  "widgets": {
   "application/vnd.jupyter.widget-state+json": {
    "state": {
     "02b72e5e00714ee09dc5eba61476ac98": {
      "model_module": "@jupyter-widgets/controls",
      "model_module_version": "2.0.0",
      "model_name": "HTMLModel",
      "state": {
       "_dom_classes": [],
       "_model_module": "@jupyter-widgets/controls",
       "_model_module_version": "2.0.0",
       "_model_name": "HTMLModel",
       "_view_count": null,
       "_view_module": "@jupyter-widgets/controls",
       "_view_module_version": "2.0.0",
       "_view_name": "HTMLView",
       "description": "",
       "description_allow_html": false,
       "layout": "IPY_MODEL_3328e19a617a4a86bda7124c5f4f86e7",
       "placeholder": "​",
       "style": "IPY_MODEL_d0cc31a6e9e5431fa8b591579e95284f",
       "tabbable": null,
       "tooltip": null,
       "value": " 4/4 [01:52&lt;00:00, 27.34s/it]"
      }
     },
     "04f3c6adbc0f428d8103ee006583bcbf": {
      "model_module": "@jupyter-widgets/base",
      "model_module_version": "2.0.0",
      "model_name": "LayoutModel",
      "state": {
       "_model_module": "@jupyter-widgets/base",
       "_model_module_version": "2.0.0",
       "_model_name": "LayoutModel",
       "_view_count": null,
       "_view_module": "@jupyter-widgets/base",
       "_view_module_version": "2.0.0",
       "_view_name": "LayoutView",
       "align_content": null,
       "align_items": null,
       "align_self": null,
       "border_bottom": null,
       "border_left": null,
       "border_right": null,
       "border_top": null,
       "bottom": null,
       "display": null,
       "flex": null,
       "flex_flow": null,
       "grid_area": null,
       "grid_auto_columns": null,
       "grid_auto_flow": null,
       "grid_auto_rows": null,
       "grid_column": null,
       "grid_gap": null,
       "grid_row": null,
       "grid_template_areas": null,
       "grid_template_columns": null,
       "grid_template_rows": null,
       "height": null,
       "justify_content": null,
       "justify_items": null,
       "left": null,
       "margin": null,
       "max_height": null,
       "max_width": null,
       "min_height": null,
       "min_width": null,
       "object_fit": null,
       "object_position": null,
       "order": null,
       "overflow": null,
       "padding": null,
       "right": null,
       "top": null,
       "visibility": null,
       "width": null
      }
     },
     "2f1b52c773f349039cf22f43cc4027a3": {
      "model_module": "@jupyter-widgets/controls",
      "model_module_version": "2.0.0",
      "model_name": "HTMLStyleModel",
      "state": {
       "_model_module": "@jupyter-widgets/controls",
       "_model_module_version": "2.0.0",
       "_model_name": "HTMLStyleModel",
       "_view_count": null,
       "_view_module": "@jupyter-widgets/base",
       "_view_module_version": "2.0.0",
       "_view_name": "StyleView",
       "background": null,
       "description_width": "",
       "font_size": null,
       "text_color": null
      }
     },
     "3328e19a617a4a86bda7124c5f4f86e7": {
      "model_module": "@jupyter-widgets/base",
      "model_module_version": "2.0.0",
      "model_name": "LayoutModel",
      "state": {
       "_model_module": "@jupyter-widgets/base",
       "_model_module_version": "2.0.0",
       "_model_name": "LayoutModel",
       "_view_count": null,
       "_view_module": "@jupyter-widgets/base",
       "_view_module_version": "2.0.0",
       "_view_name": "LayoutView",
       "align_content": null,
       "align_items": null,
       "align_self": null,
       "border_bottom": null,
       "border_left": null,
       "border_right": null,
       "border_top": null,
       "bottom": null,
       "display": null,
       "flex": null,
       "flex_flow": null,
       "grid_area": null,
       "grid_auto_columns": null,
       "grid_auto_flow": null,
       "grid_auto_rows": null,
       "grid_column": null,
       "grid_gap": null,
       "grid_row": null,
       "grid_template_areas": null,
       "grid_template_columns": null,
       "grid_template_rows": null,
       "height": null,
       "justify_content": null,
       "justify_items": null,
       "left": null,
       "margin": null,
       "max_height": null,
       "max_width": null,
       "min_height": null,
       "min_width": null,
       "object_fit": null,
       "object_position": null,
       "order": null,
       "overflow": null,
       "padding": null,
       "right": null,
       "top": null,
       "visibility": null,
       "width": null
      }
     },
     "44e2fe3d8b4342ca8dc8a07e3fc6b22d": {
      "model_module": "@jupyter-widgets/base",
      "model_module_version": "2.0.0",
      "model_name": "LayoutModel",
      "state": {
       "_model_module": "@jupyter-widgets/base",
       "_model_module_version": "2.0.0",
       "_model_name": "LayoutModel",
       "_view_count": null,
       "_view_module": "@jupyter-widgets/base",
       "_view_module_version": "2.0.0",
       "_view_name": "LayoutView",
       "align_content": null,
       "align_items": null,
       "align_self": null,
       "border_bottom": null,
       "border_left": null,
       "border_right": null,
       "border_top": null,
       "bottom": null,
       "display": null,
       "flex": null,
       "flex_flow": null,
       "grid_area": null,
       "grid_auto_columns": null,
       "grid_auto_flow": null,
       "grid_auto_rows": null,
       "grid_column": null,
       "grid_gap": null,
       "grid_row": null,
       "grid_template_areas": null,
       "grid_template_columns": null,
       "grid_template_rows": null,
       "height": null,
       "justify_content": null,
       "justify_items": null,
       "left": null,
       "margin": null,
       "max_height": null,
       "max_width": null,
       "min_height": null,
       "min_width": null,
       "object_fit": null,
       "object_position": null,
       "order": null,
       "overflow": null,
       "padding": null,
       "right": null,
       "top": null,
       "visibility": null,
       "width": null
      }
     },
     "4b7ab3d53db54e29ac4fe1ce5b834365": {
      "model_module": "@jupyter-widgets/base",
      "model_module_version": "2.0.0",
      "model_name": "LayoutModel",
      "state": {
       "_model_module": "@jupyter-widgets/base",
       "_model_module_version": "2.0.0",
       "_model_name": "LayoutModel",
       "_view_count": null,
       "_view_module": "@jupyter-widgets/base",
       "_view_module_version": "2.0.0",
       "_view_name": "LayoutView",
       "align_content": null,
       "align_items": null,
       "align_self": null,
       "border_bottom": null,
       "border_left": null,
       "border_right": null,
       "border_top": null,
       "bottom": null,
       "display": null,
       "flex": null,
       "flex_flow": null,
       "grid_area": null,
       "grid_auto_columns": null,
       "grid_auto_flow": null,
       "grid_auto_rows": null,
       "grid_column": null,
       "grid_gap": null,
       "grid_row": null,
       "grid_template_areas": null,
       "grid_template_columns": null,
       "grid_template_rows": null,
       "height": null,
       "justify_content": null,
       "justify_items": null,
       "left": null,
       "margin": null,
       "max_height": null,
       "max_width": null,
       "min_height": null,
       "min_width": null,
       "object_fit": null,
       "object_position": null,
       "order": null,
       "overflow": null,
       "padding": null,
       "right": null,
       "top": null,
       "visibility": null,
       "width": null
      }
     },
     "52d67318f7754e0f8f565e4c22e2ac7c": {
      "model_module": "@jupyter-widgets/controls",
      "model_module_version": "2.0.0",
      "model_name": "ProgressStyleModel",
      "state": {
       "_model_module": "@jupyter-widgets/controls",
       "_model_module_version": "2.0.0",
       "_model_name": "ProgressStyleModel",
       "_view_count": null,
       "_view_module": "@jupyter-widgets/base",
       "_view_module_version": "2.0.0",
       "_view_name": "StyleView",
       "bar_color": null,
       "description_width": ""
      }
     },
     "5ba5a53fe7f9498697d9466c02014c6f": {
      "model_module": "@jupyter-widgets/base",
      "model_module_version": "2.0.0",
      "model_name": "LayoutModel",
      "state": {
       "_model_module": "@jupyter-widgets/base",
       "_model_module_version": "2.0.0",
       "_model_name": "LayoutModel",
       "_view_count": null,
       "_view_module": "@jupyter-widgets/base",
       "_view_module_version": "2.0.0",
       "_view_name": "LayoutView",
       "align_content": null,
       "align_items": null,
       "align_self": null,
       "border_bottom": null,
       "border_left": null,
       "border_right": null,
       "border_top": null,
       "bottom": null,
       "display": null,
       "flex": null,
       "flex_flow": null,
       "grid_area": null,
       "grid_auto_columns": null,
       "grid_auto_flow": null,
       "grid_auto_rows": null,
       "grid_column": null,
       "grid_gap": null,
       "grid_row": null,
       "grid_template_areas": null,
       "grid_template_columns": null,
       "grid_template_rows": null,
       "height": null,
       "justify_content": null,
       "justify_items": null,
       "left": null,
       "margin": null,
       "max_height": null,
       "max_width": null,
       "min_height": null,
       "min_width": null,
       "object_fit": null,
       "object_position": null,
       "order": null,
       "overflow": null,
       "padding": null,
       "right": null,
       "top": null,
       "visibility": null,
       "width": null
      }
     },
     "6d505c5d185544708991638c63d9a130": {
      "model_module": "@jupyter-widgets/controls",
      "model_module_version": "2.0.0",
      "model_name": "FloatProgressModel",
      "state": {
       "_dom_classes": [],
       "_model_module": "@jupyter-widgets/controls",
       "_model_module_version": "2.0.0",
       "_model_name": "FloatProgressModel",
       "_view_count": null,
       "_view_module": "@jupyter-widgets/controls",
       "_view_module_version": "2.0.0",
       "_view_name": "ProgressView",
       "bar_style": "success",
       "description": "",
       "description_allow_html": false,
       "layout": "IPY_MODEL_4b7ab3d53db54e29ac4fe1ce5b834365",
       "max": 4.0,
       "min": 0.0,
       "orientation": "horizontal",
       "style": "IPY_MODEL_52d67318f7754e0f8f565e4c22e2ac7c",
       "tabbable": null,
       "tooltip": null,
       "value": 4.0
      }
     },
     "6fb9b19b8b7f45c3b2a6824579735dfa": {
      "model_module": "@jupyter-widgets/controls",
      "model_module_version": "2.0.0",
      "model_name": "FloatProgressModel",
      "state": {
       "_dom_classes": [],
       "_model_module": "@jupyter-widgets/controls",
       "_model_module_version": "2.0.0",
       "_model_name": "FloatProgressModel",
       "_view_count": null,
       "_view_module": "@jupyter-widgets/controls",
       "_view_module_version": "2.0.0",
       "_view_name": "ProgressView",
       "bar_style": "success",
       "description": "",
       "description_allow_html": false,
       "layout": "IPY_MODEL_a5f18bc8a1254e32ad6af18ad3297f5b",
       "max": 4.0,
       "min": 0.0,
       "orientation": "horizontal",
       "style": "IPY_MODEL_f9b18e2f708b42b8a469e42356c37b86",
       "tabbable": null,
       "tooltip": null,
       "value": 4.0
      }
     },
     "7daf442ca1714bdcbec58b25ff9b4c3e": {
      "model_module": "@jupyter-widgets/controls",
      "model_module_version": "2.0.0",
      "model_name": "HBoxModel",
      "state": {
       "_dom_classes": [],
       "_model_module": "@jupyter-widgets/controls",
       "_model_module_version": "2.0.0",
       "_model_name": "HBoxModel",
       "_view_count": null,
       "_view_module": "@jupyter-widgets/controls",
       "_view_module_version": "2.0.0",
       "_view_name": "HBoxView",
       "box_style": "",
       "children": [
        "IPY_MODEL_ea9606ef3e634cb39672f6b95c3415bf",
        "IPY_MODEL_6d505c5d185544708991638c63d9a130",
        "IPY_MODEL_02b72e5e00714ee09dc5eba61476ac98"
       ],
       "layout": "IPY_MODEL_44e2fe3d8b4342ca8dc8a07e3fc6b22d",
       "tabbable": null,
       "tooltip": null
      }
     },
     "7ef6fb7318c4465091f164fe6566f193": {
      "model_module": "@jupyter-widgets/controls",
      "model_module_version": "2.0.0",
      "model_name": "HTMLStyleModel",
      "state": {
       "_model_module": "@jupyter-widgets/controls",
       "_model_module_version": "2.0.0",
       "_model_name": "HTMLStyleModel",
       "_view_count": null,
       "_view_module": "@jupyter-widgets/base",
       "_view_module_version": "2.0.0",
       "_view_name": "StyleView",
       "background": null,
       "description_width": "",
       "font_size": null,
       "text_color": null
      }
     },
     "8356222ec6604e0d9e675624b041e79e": {
      "model_module": "@jupyter-widgets/controls",
      "model_module_version": "2.0.0",
      "model_name": "HBoxModel",
      "state": {
       "_dom_classes": [],
       "_model_module": "@jupyter-widgets/controls",
       "_model_module_version": "2.0.0",
       "_model_name": "HBoxModel",
       "_view_count": null,
       "_view_module": "@jupyter-widgets/controls",
       "_view_module_version": "2.0.0",
       "_view_name": "HBoxView",
       "box_style": "",
       "children": [
        "IPY_MODEL_ca33bbcfa469458c84a7351e5089ed4e",
        "IPY_MODEL_6fb9b19b8b7f45c3b2a6824579735dfa",
        "IPY_MODEL_a3d249c671bc44fc8ebb19bb6145c3fc"
       ],
       "layout": "IPY_MODEL_d0b5867903d544c1a2a86172181f0475",
       "tabbable": null,
       "tooltip": null
      }
     },
     "a3d249c671bc44fc8ebb19bb6145c3fc": {
      "model_module": "@jupyter-widgets/controls",
      "model_module_version": "2.0.0",
      "model_name": "HTMLModel",
      "state": {
       "_dom_classes": [],
       "_model_module": "@jupyter-widgets/controls",
       "_model_module_version": "2.0.0",
       "_model_name": "HTMLModel",
       "_view_count": null,
       "_view_module": "@jupyter-widgets/controls",
       "_view_module_version": "2.0.0",
       "_view_name": "HTMLView",
       "description": "",
       "description_allow_html": false,
       "layout": "IPY_MODEL_d3503e9b10dc4d69b80af23cf7ab1769",
       "placeholder": "​",
       "style": "IPY_MODEL_2f1b52c773f349039cf22f43cc4027a3",
       "tabbable": null,
       "tooltip": null,
       "value": " 4/4 [00:19&lt;00:00,  4.70s/it]"
      }
     },
     "a5f18bc8a1254e32ad6af18ad3297f5b": {
      "model_module": "@jupyter-widgets/base",
      "model_module_version": "2.0.0",
      "model_name": "LayoutModel",
      "state": {
       "_model_module": "@jupyter-widgets/base",
       "_model_module_version": "2.0.0",
       "_model_name": "LayoutModel",
       "_view_count": null,
       "_view_module": "@jupyter-widgets/base",
       "_view_module_version": "2.0.0",
       "_view_name": "LayoutView",
       "align_content": null,
       "align_items": null,
       "align_self": null,
       "border_bottom": null,
       "border_left": null,
       "border_right": null,
       "border_top": null,
       "bottom": null,
       "display": null,
       "flex": null,
       "flex_flow": null,
       "grid_area": null,
       "grid_auto_columns": null,
       "grid_auto_flow": null,
       "grid_auto_rows": null,
       "grid_column": null,
       "grid_gap": null,
       "grid_row": null,
       "grid_template_areas": null,
       "grid_template_columns": null,
       "grid_template_rows": null,
       "height": null,
       "justify_content": null,
       "justify_items": null,
       "left": null,
       "margin": null,
       "max_height": null,
       "max_width": null,
       "min_height": null,
       "min_width": null,
       "object_fit": null,
       "object_position": null,
       "order": null,
       "overflow": null,
       "padding": null,
       "right": null,
       "top": null,
       "visibility": null,
       "width": null
      }
     },
     "b96d34b185314a8889579b0fb7d2a976": {
      "model_module": "@jupyter-widgets/controls",
      "model_module_version": "2.0.0",
      "model_name": "HTMLStyleModel",
      "state": {
       "_model_module": "@jupyter-widgets/controls",
       "_model_module_version": "2.0.0",
       "_model_name": "HTMLStyleModel",
       "_view_count": null,
       "_view_module": "@jupyter-widgets/base",
       "_view_module_version": "2.0.0",
       "_view_name": "StyleView",
       "background": null,
       "description_width": "",
       "font_size": null,
       "text_color": null
      }
     },
     "ca33bbcfa469458c84a7351e5089ed4e": {
      "model_module": "@jupyter-widgets/controls",
      "model_module_version": "2.0.0",
      "model_name": "HTMLModel",
      "state": {
       "_dom_classes": [],
       "_model_module": "@jupyter-widgets/controls",
       "_model_module_version": "2.0.0",
       "_model_name": "HTMLModel",
       "_view_count": null,
       "_view_module": "@jupyter-widgets/controls",
       "_view_module_version": "2.0.0",
       "_view_name": "HTMLView",
       "description": "",
       "description_allow_html": false,
       "layout": "IPY_MODEL_5ba5a53fe7f9498697d9466c02014c6f",
       "placeholder": "​",
       "style": "IPY_MODEL_b96d34b185314a8889579b0fb7d2a976",
       "tabbable": null,
       "tooltip": null,
       "value": "Loading checkpoint shards: 100%"
      }
     },
     "d0b5867903d544c1a2a86172181f0475": {
      "model_module": "@jupyter-widgets/base",
      "model_module_version": "2.0.0",
      "model_name": "LayoutModel",
      "state": {
       "_model_module": "@jupyter-widgets/base",
       "_model_module_version": "2.0.0",
       "_model_name": "LayoutModel",
       "_view_count": null,
       "_view_module": "@jupyter-widgets/base",
       "_view_module_version": "2.0.0",
       "_view_name": "LayoutView",
       "align_content": null,
       "align_items": null,
       "align_self": null,
       "border_bottom": null,
       "border_left": null,
       "border_right": null,
       "border_top": null,
       "bottom": null,
       "display": null,
       "flex": null,
       "flex_flow": null,
       "grid_area": null,
       "grid_auto_columns": null,
       "grid_auto_flow": null,
       "grid_auto_rows": null,
       "grid_column": null,
       "grid_gap": null,
       "grid_row": null,
       "grid_template_areas": null,
       "grid_template_columns": null,
       "grid_template_rows": null,
       "height": null,
       "justify_content": null,
       "justify_items": null,
       "left": null,
       "margin": null,
       "max_height": null,
       "max_width": null,
       "min_height": null,
       "min_width": null,
       "object_fit": null,
       "object_position": null,
       "order": null,
       "overflow": null,
       "padding": null,
       "right": null,
       "top": null,
       "visibility": null,
       "width": null
      }
     },
     "d0cc31a6e9e5431fa8b591579e95284f": {
      "model_module": "@jupyter-widgets/controls",
      "model_module_version": "2.0.0",
      "model_name": "HTMLStyleModel",
      "state": {
       "_model_module": "@jupyter-widgets/controls",
       "_model_module_version": "2.0.0",
       "_model_name": "HTMLStyleModel",
       "_view_count": null,
       "_view_module": "@jupyter-widgets/base",
       "_view_module_version": "2.0.0",
       "_view_name": "StyleView",
       "background": null,
       "description_width": "",
       "font_size": null,
       "text_color": null
      }
     },
     "d3503e9b10dc4d69b80af23cf7ab1769": {
      "model_module": "@jupyter-widgets/base",
      "model_module_version": "2.0.0",
      "model_name": "LayoutModel",
      "state": {
       "_model_module": "@jupyter-widgets/base",
       "_model_module_version": "2.0.0",
       "_model_name": "LayoutModel",
       "_view_count": null,
       "_view_module": "@jupyter-widgets/base",
       "_view_module_version": "2.0.0",
       "_view_name": "LayoutView",
       "align_content": null,
       "align_items": null,
       "align_self": null,
       "border_bottom": null,
       "border_left": null,
       "border_right": null,
       "border_top": null,
       "bottom": null,
       "display": null,
       "flex": null,
       "flex_flow": null,
       "grid_area": null,
       "grid_auto_columns": null,
       "grid_auto_flow": null,
       "grid_auto_rows": null,
       "grid_column": null,
       "grid_gap": null,
       "grid_row": null,
       "grid_template_areas": null,
       "grid_template_columns": null,
       "grid_template_rows": null,
       "height": null,
       "justify_content": null,
       "justify_items": null,
       "left": null,
       "margin": null,
       "max_height": null,
       "max_width": null,
       "min_height": null,
       "min_width": null,
       "object_fit": null,
       "object_position": null,
       "order": null,
       "overflow": null,
       "padding": null,
       "right": null,
       "top": null,
       "visibility": null,
       "width": null
      }
     },
     "ea9606ef3e634cb39672f6b95c3415bf": {
      "model_module": "@jupyter-widgets/controls",
      "model_module_version": "2.0.0",
      "model_name": "HTMLModel",
      "state": {
       "_dom_classes": [],
       "_model_module": "@jupyter-widgets/controls",
       "_model_module_version": "2.0.0",
       "_model_name": "HTMLModel",
       "_view_count": null,
       "_view_module": "@jupyter-widgets/controls",
       "_view_module_version": "2.0.0",
       "_view_name": "HTMLView",
       "description": "",
       "description_allow_html": false,
       "layout": "IPY_MODEL_04f3c6adbc0f428d8103ee006583bcbf",
       "placeholder": "​",
       "style": "IPY_MODEL_7ef6fb7318c4465091f164fe6566f193",
       "tabbable": null,
       "tooltip": null,
       "value": "Loading checkpoint shards: 100%"
      }
     },
     "f9b18e2f708b42b8a469e42356c37b86": {
      "model_module": "@jupyter-widgets/controls",
      "model_module_version": "2.0.0",
      "model_name": "ProgressStyleModel",
      "state": {
       "_model_module": "@jupyter-widgets/controls",
       "_model_module_version": "2.0.0",
       "_model_name": "ProgressStyleModel",
       "_view_count": null,
       "_view_module": "@jupyter-widgets/base",
       "_view_module_version": "2.0.0",
       "_view_name": "StyleView",
       "bar_color": null,
       "description_width": ""
      }
     }
    },
    "version_major": 2,
    "version_minor": 0
   }
  }
 },
 "nbformat": 4,
 "nbformat_minor": 5
}
