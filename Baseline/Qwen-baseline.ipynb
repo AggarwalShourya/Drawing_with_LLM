{
 "cells": [
  {
   "cell_type": "markdown",
   "id": "378b4b96",
   "metadata": {
    "papermill": {
     "duration": 0.003839,
     "end_time": "2025-03-28T12:19:26.775726",
     "exception": false,
     "start_time": "2025-03-28T12:19:26.771887",
     "status": "completed"
    },
    "tags": []
   },
   "source": [
    "This is the infer notebook.\n",
    "For evaluation on training set, refer to [Getting Started Qwen2.5-32b-instruct-awq [eval]](https://www.kaggle.com/code/jiazhuang/getting-started-qwen2-5-32b-instruct-awq-eval)"
   ]
  },
  {
   "cell_type": "code",
   "execution_count": 1,
   "id": "04622b7b",
   "metadata": {
    "execution": {
     "iopub.execute_input": "2025-03-28T12:19:26.783312Z",
     "iopub.status.busy": "2025-03-28T12:19:26.783012Z",
     "iopub.status.idle": "2025-03-28T12:19:26.786929Z",
     "shell.execute_reply": "2025-03-28T12:19:26.786301Z"
    },
    "papermill": {
     "duration": 0.009066,
     "end_time": "2025-03-28T12:19:26.788162",
     "exception": false,
     "start_time": "2025-03-28T12:19:26.779096",
     "status": "completed"
    },
    "tags": []
   },
   "outputs": [],
   "source": [
    "#| default_exp core"
   ]
  },
  {
   "cell_type": "code",
   "execution_count": 2,
   "id": "5f174edf",
   "metadata": {
    "execution": {
     "iopub.execute_input": "2025-03-28T12:19:26.795101Z",
     "iopub.status.busy": "2025-03-28T12:19:26.794886Z",
     "iopub.status.idle": "2025-03-28T12:19:48.895300Z",
     "shell.execute_reply": "2025-03-28T12:19:48.894592Z"
    },
    "papermill": {
     "duration": 22.105414,
     "end_time": "2025-03-28T12:19:48.896746",
     "exception": false,
     "start_time": "2025-03-28T12:19:26.791332",
     "status": "completed"
    },
    "tags": []
   },
   "outputs": [
    {
     "name": "stdout",
     "output_type": "stream",
     "text": [
      "INFO 03-28 12:19:46 [__init__.py:239] Automatically detected platform cuda.\n"
     ]
    }
   ],
   "source": [
    "#| export\n",
    "\n",
    "import vllm\n",
    "\n",
    "import concurrent\n",
    "import io\n",
    "import logging\n",
    "import re\n",
    "import re2\n",
    "\n",
    "import cairosvg\n",
    "import kagglehub\n",
    "import torch\n",
    "from lxml import etree\n",
    "\n",
    "svg_constraints = kagglehub.package_import('metric/svg-constraints')"
   ]
  },
  {
   "cell_type": "code",
   "execution_count": 3,
   "id": "9cc3c4a7",
   "metadata": {
    "execution": {
     "iopub.execute_input": "2025-03-28T12:19:48.904859Z",
     "iopub.status.busy": "2025-03-28T12:19:48.904298Z",
     "iopub.status.idle": "2025-03-28T12:19:48.918705Z",
     "shell.execute_reply": "2025-03-28T12:19:48.917969Z"
    },
    "papermill": {
     "duration": 0.019682,
     "end_time": "2025-03-28T12:19:48.919968",
     "exception": false,
     "start_time": "2025-03-28T12:19:48.900286",
     "status": "completed"
    },
    "tags": []
   },
   "outputs": [],
   "source": [
    "#| export\n",
    "\n",
    "num_attempt = 6\n",
    "\n",
    "class Model:\n",
    "    def __init__(self):\n",
    "        self.model_path = kagglehub.model_download('qwen-lm/qwen2.5/Transformers/32b-instruct-awq/1')\n",
    "        self.llm = vllm.LLM(\n",
    "            self.model_path,\n",
    "            quantization=\"awq\",\n",
    "            tensor_parallel_size=2,\n",
    "            gpu_memory_utilization=0.95,\n",
    "            trust_remote_code=True,\n",
    "            dtype=\"half\",\n",
    "            enforce_eager=True,\n",
    "            max_model_len=5120,\n",
    "            disable_log_stats=True\n",
    "        )\n",
    "        self.sampling_params = vllm.SamplingParams(\n",
    "            n=1,  # Number of output sequences to return for each prompt.\n",
    "            top_k=20,  # Float that controls the cumulative probability of the top tokens to consider.\n",
    "            top_p=0.8,\n",
    "            temperature=0.7,  # randomness of the sampling\n",
    "            repetition_penalty=1.05,\n",
    "            # seed=777, # Seed for reprodicibility\n",
    "            skip_special_tokens=False,  # Whether to skip special tokens in the output.\n",
    "            max_tokens=512,  # Maximum number of tokens to generate per output sequence.\n",
    "        )\n",
    "        self.tokenizer = self.llm.get_tokenizer()\n",
    "        self.prompt_template = \"\"\"Generate SVG code to visually represent the following text description, while respecting the given constraints.\n",
    "<constraints>\n",
    "* **Allowed Elements:** `svg`, `path`, `circle`, `rect`, `ellipse`, `line`, `polyline`, `polygon`, `g`, `linearGradient`, `radialGradient`, `stop`, `defs`\n",
    "* **Allowed Attributes:** `viewBox`, `width`, `height`, `fill`, `stroke`, `stroke-width`, `d`, `cx`, `cy`, `r`, `x`, `y`, `rx`, `ry`, `x1`, `y1`, `x2`, `y2`, `points`, `transform`, `opacity`\n",
    "</constraints>\n",
    "\n",
    "<example>\n",
    "<description>\"A red circle with a blue square inside\"</description>\n",
    "```svg\n",
    "<svg viewBox=\"0 0 256 256\" width=\"256\" height=\"256\">\n",
    "  <circle cx=\"50\" cy=\"50\" r=\"40\" fill=\"red\"/>\n",
    "  <rect x=\"30\" y=\"30\" width=\"40\" height=\"40\" fill=\"blue\"/>\n",
    "</svg>\n",
    "```\n",
    "</example>\n",
    "\n",
    "\n",
    "Please ensure that the generated SVG code is well-formed, valid, and strictly adheres to these constraints. Focus on a clear and concise representation of the input description within the given limitations. Always give the complete SVG code with nothing omitted. Never use an ellipsis.\n",
    "\n",
    "<description>\"{}\"</description>\n",
    "```svg\n",
    "<svg viewBox=\"0 0 256 256\" width=\"256\" height=\"256\">\n",
    "\"\"\"\n",
    "        self.default_svg = \"\"\"<svg width=\"256\" height=\"256\" viewBox=\"0 0 256 256\"><circle cx=\"50\" cy=\"50\" r=\"40\" fill=\"red\" /></svg>\"\"\"\n",
    "        self.constraints = svg_constraints.SVGConstraints()\n",
    "        self.timeout_seconds = 90\n",
    "\n",
    "    # You could try increasing `max_new_tokens`\n",
    "    def predict(self, description: str, max_new_tokens=512) -> str:\n",
    "        def apply_template(prompt, tokenizer):\n",
    "            messages = [\n",
    "                {\"role\": \"user\", \"content\": prompt},\n",
    "            ]\n",
    "            text = tokenizer.apply_chat_template(messages, tokenize=False, add_generation_prompt=True)\n",
    "            return text\n",
    "        \n",
    "        def parse_svg_from_response(response):\n",
    "            matchs = re.findall(r'<svg.*?</svg>', response, re.S)\n",
    "            if matchs:\n",
    "                return matchs[-1].strip()\n",
    "            else:\n",
    "                return ''\n",
    "        \n",
    "        def check_svg_valid(svg):\n",
    "            try:\n",
    "                cairosvg.svg2png(bytestring=svg.encode('utf-8'))\n",
    "                return True\n",
    "            except:\n",
    "                return False\n",
    "        \n",
    "        def generate_svg():\n",
    "            try:\n",
    "                prompt = self.prompt_template.format(description)\n",
    "                inputs = [apply_template(prompt, self.tokenizer)] * num_attempt\n",
    "                responses = self.llm.generate(inputs, self.sampling_params, use_tqdm=False)\n",
    "                responses = [x.outputs[0].text for x in responses]\n",
    "                svgs = [parse_svg_from_response(x) for x in responses]\n",
    "                # use the first valid svg\n",
    "                choosen_svg = None\n",
    "                for svg in svgs:\n",
    "                    if check_svg_valid(svg):\n",
    "                        svg = self.enforce_constraints(svg)\n",
    "                        if check_svg_valid(svg):\n",
    "                            choosen_svg = svg\n",
    "                            break\n",
    "                \n",
    "                assert choosen_svg is not None\n",
    "                return svg\n",
    "\n",
    "            except Exception as e:\n",
    "                logging.error('Exception during SVG generation: %s', e)\n",
    "                return self.default_svg\n",
    "        \n",
    "        return generate_svg()\n",
    "\n",
    "        # # Execute SVG generation in a new thread to enforce time constraints\n",
    "        # with concurrent.futures.ThreadPoolExecutor(max_workers=1) as executor:\n",
    "        #     future = executor.submit(generate_svg)\n",
    "        #     try:\n",
    "        #         return future.result(timeout=self.timeout_seconds)\n",
    "        #     except concurrent.futures.TimeoutError:\n",
    "        #         logging.warning(\"Prediction timed out after %s seconds.\", self.timeout_seconds)\n",
    "        #         return self.default_svg\n",
    "        #     except Exception as e:\n",
    "        #         logging.error(f\"An unexpected error occurred: {e}\")\n",
    "        #         return self.default_svg\n",
    "\n",
    "    def enforce_constraints(self, svg_string: str) -> str:\n",
    "        \"\"\"Enforces constraints on an SVG string, removing disallowed elements\n",
    "        and attributes.\n",
    "\n",
    "        Parameters\n",
    "        ----------\n",
    "        svg_string : str\n",
    "            The SVG string to process.\n",
    "\n",
    "        Returns\n",
    "        -------\n",
    "        str\n",
    "            The processed SVG string, or the default SVG if constraints\n",
    "            cannot be satisfied.\n",
    "        \"\"\"\n",
    "        logging.info('Sanitizing SVG...')\n",
    "\n",
    "        try:\n",
    "            parser = etree.XMLParser(remove_blank_text=True, remove_comments=True)\n",
    "            root = etree.fromstring(svg_string, parser=parser)\n",
    "        except etree.ParseError as e:\n",
    "            logging.error('SVG Parse Error: %s. Returning default SVG.', e)\n",
    "            return self.default_svg\n",
    "    \n",
    "        elements_to_remove = []\n",
    "        for element in root.iter():\n",
    "            tag_name = etree.QName(element.tag).localname\n",
    "    \n",
    "            # Remove disallowed elements\n",
    "            if tag_name not in self.constraints.allowed_elements:\n",
    "                elements_to_remove.append(element)\n",
    "                continue  # Skip attribute checks for removed elements\n",
    "    \n",
    "            # Remove disallowed attributes\n",
    "            attrs_to_remove = []\n",
    "            for attr in element.attrib:\n",
    "                attr_name = etree.QName(attr).localname\n",
    "                if (\n",
    "                    attr_name\n",
    "                    not in self.constraints.allowed_elements[tag_name]\n",
    "                    and attr_name\n",
    "                    not in self.constraints.allowed_elements['common']\n",
    "                ):\n",
    "                    attrs_to_remove.append(attr)\n",
    "    \n",
    "            for attr in attrs_to_remove:\n",
    "                logging.debug(\n",
    "                    'Attribute \"%s\" for element \"%s\" not allowed. Removing.',\n",
    "                    attr,\n",
    "                    tag_name,\n",
    "                )\n",
    "                del element.attrib[attr]\n",
    "    \n",
    "            # Check and remove invalid href attributes\n",
    "            for attr, value in element.attrib.items():\n",
    "                 if etree.QName(attr).localname == 'href' and not value.startswith('#'):\n",
    "                    logging.debug(\n",
    "                        'Removing invalid href attribute in element \"%s\".', tag_name\n",
    "                    )\n",
    "                    del element.attrib[attr]\n",
    "\n",
    "            # Validate path elements to help ensure SVG conversion\n",
    "            if tag_name == 'path':\n",
    "                d_attribute = element.get('d')\n",
    "                if not d_attribute:\n",
    "                    logging.warning('Path element is missing \"d\" attribute. Removing path.')\n",
    "                    elements_to_remove.append(element)\n",
    "                    continue # Skip further checks for this removed element\n",
    "                # Use regex to validate 'd' attribute format\n",
    "                path_regex = re2.compile(\n",
    "                    r'^'  # Start of string\n",
    "                    r'(?:'  # Non-capturing group for each command + numbers block\n",
    "                    r'[MmZzLlHhVvCcSsQqTtAa]'  # Valid SVG path commands (adjusted to exclude extra letters)\n",
    "                    r'\\s*'  # Optional whitespace after command\n",
    "                    r'(?:'  # Non-capturing group for optional numbers\n",
    "                    r'-?\\d+(?:\\.\\d+)?(?:[Ee][+-]?\\d+)?'  # First number\n",
    "                    r'(?:[\\s,]+-?\\d+(?:\\.\\d+)?(?:[Ee][+-]?\\d+)?)*'  # Subsequent numbers with mandatory separator(s)\n",
    "                    r')?'  # Numbers are optional (e.g. for Z command)\n",
    "                    r'\\s*'  # Optional whitespace after numbers/command block\n",
    "                    r')+'  # One or more command blocks\n",
    "                    r'\\s*'  # Optional trailing whitespace\n",
    "                    r'$'  # End of string\n",
    "                )\n",
    "                if not path_regex.match(d_attribute):\n",
    "                    logging.warning(\n",
    "                        'Path element has malformed \"d\" attribute format. Removing path.'\n",
    "                    )\n",
    "                    elements_to_remove.append(element)\n",
    "                    continue\n",
    "                logging.debug('Path element \"d\" attribute validated (regex check).')\n",
    "        \n",
    "        # Remove elements marked for removal\n",
    "        for element in elements_to_remove:\n",
    "            if element.getparent() is not None:\n",
    "                element.getparent().remove(element)\n",
    "                logging.debug('Removed element: %s', element.tag)\n",
    "\n",
    "        try:\n",
    "            cleaned_svg_string = etree.tostring(root, encoding='unicode')\n",
    "            return cleaned_svg_string\n",
    "        except ValueError as e:\n",
    "            logging.error(\n",
    "                'SVG could not be sanitized to meet constraints: %s', e\n",
    "            )\n",
    "            return self.default_svg"
   ]
  },
  {
   "cell_type": "code",
   "execution_count": 4,
   "id": "38741b0b",
   "metadata": {
    "execution": {
     "iopub.execute_input": "2025-03-28T12:19:48.926681Z",
     "iopub.status.busy": "2025-03-28T12:19:48.926458Z",
     "iopub.status.idle": "2025-03-28T12:23:50.025281Z",
     "shell.execute_reply": "2025-03-28T12:23:50.024168Z"
    },
    "papermill": {
     "duration": 241.104082,
     "end_time": "2025-03-28T12:23:50.027103",
     "exception": false,
     "start_time": "2025-03-28T12:19:48.923021",
     "status": "completed"
    },
    "tags": []
   },
   "outputs": [
    {
     "name": "stdout",
     "output_type": "stream",
     "text": [
      "INFO 03-28 12:20:00 [config.py:585] This model supports multiple tasks: {'reward', 'classify', 'embed', 'generate', 'score'}. Defaulting to 'generate'.\n",
      "WARNING 03-28 12:20:02 [config.py:664] awq quantization is not fully optimized yet. The speed can be slower than non-quantized models.\n",
      "WARNING 03-28 12:20:02 [arg_utils.py:1854] Compute Capability < 8.0 is not supported by the V1 Engine. Falling back to V0. \n",
      "INFO 03-28 12:20:02 [config.py:1519] Defaulting to use mp for distributed inference\n",
      "WARNING 03-28 12:20:02 [cuda.py:95] To see benefits of async output processing, enable CUDA graph. Since, enforce-eager is enabled, async output processor cannot be used\n",
      "INFO 03-28 12:20:02 [llm_engine.py:241] Initializing a V0 LLM engine (v0.8.2) with config: model='/kaggle/input/qwen2.5/transformers/32b-instruct-awq/1', speculative_config=None, tokenizer='/kaggle/input/qwen2.5/transformers/32b-instruct-awq/1', skip_tokenizer_init=False, tokenizer_mode=auto, revision=None, override_neuron_config=None, tokenizer_revision=None, trust_remote_code=True, dtype=torch.float16, max_seq_len=5120, download_dir=None, load_format=auto, tensor_parallel_size=2, pipeline_parallel_size=1, disable_custom_all_reduce=False, quantization=awq, enforce_eager=True, kv_cache_dtype=auto,  device_config=cuda, decoding_config=DecodingConfig(guided_decoding_backend='xgrammar', reasoning_backend=None), observability_config=ObservabilityConfig(show_hidden_metrics=False, otlp_traces_endpoint=None, collect_model_forward_time=False, collect_model_execute_time=False), seed=None, served_model_name=/kaggle/input/qwen2.5/transformers/32b-instruct-awq/1, num_scheduler_steps=1, multi_step_stream_outputs=True, enable_prefix_caching=None, chunked_prefill_enabled=False, use_async_output_proc=False, disable_mm_preprocessor_cache=False, mm_processor_kwargs=None, pooler_config=None, compilation_config={\"splitting_ops\":[],\"compile_sizes\":[],\"cudagraph_capture_sizes\":[],\"max_capture_size\":0}, use_cached_outputs=False, \n",
      "WARNING 03-28 12:20:03 [multiproc_worker_utils.py:306] Reducing Torch parallelism from 2 threads to 1 to avoid unnecessary CPU contention. Set OMP_NUM_THREADS in the external environment to tune this value as needed.\n",
      "\u001b[1;36m(VllmWorkerProcess pid=83)\u001b[0;0m INFO 03-28 12:20:03 [multiproc_worker_utils.py:225] Worker ready; awaiting tasks\n",
      "INFO 03-28 12:20:03 [cuda.py:239] Cannot use FlashAttention-2 backend for Volta and Turing GPUs.\n",
      "INFO 03-28 12:20:03 [cuda.py:288] Using XFormers backend.\n",
      "\u001b[1;36m(VllmWorkerProcess pid=83)\u001b[0;0m INFO 03-28 12:20:03 [cuda.py:239] Cannot use FlashAttention-2 backend for Volta and Turing GPUs.\n",
      "\u001b[1;36m(VllmWorkerProcess pid=83)\u001b[0;0m INFO 03-28 12:20:03 [cuda.py:288] Using XFormers backend.\n",
      "INFO 03-28 12:20:34 [utils.py:931] Found nccl from library libnccl.so.2\n",
      "INFO 03-28 12:20:34 [pynccl.py:69] vLLM is using nccl==2.21.5\n",
      "\u001b[1;36m(VllmWorkerProcess pid=83)\u001b[0;0m INFO 03-28 12:20:34 [utils.py:931] Found nccl from library libnccl.so.2\n",
      "\u001b[1;36m(VllmWorkerProcess pid=83)\u001b[0;0m INFO 03-28 12:20:34 [pynccl.py:69] vLLM is using nccl==2.21.5\n",
      "INFO 03-28 12:20:34 [custom_all_reduce_utils.py:206] generating GPU P2P access cache in /root/.cache/vllm/gpu_p2p_access_cache_for_0,1.json\n",
      "INFO 03-28 12:20:55 [custom_all_reduce_utils.py:244] reading GPU P2P access cache from /root/.cache/vllm/gpu_p2p_access_cache_for_0,1.json\n",
      "\u001b[1;36m(VllmWorkerProcess pid=83)\u001b[0;0m INFO 03-28 12:20:55 [custom_all_reduce_utils.py:244] reading GPU P2P access cache from /root/.cache/vllm/gpu_p2p_access_cache_for_0,1.json\n",
      "INFO 03-28 12:20:55 [shm_broadcast.py:259] vLLM message queue communication handle: Handle(local_reader_ranks=[1], buffer_handle=(1, 4194304, 6, 'psm_5cf5c48d'), local_subscribe_addr='ipc:///tmp/2483298f-2ac8-47e9-a8b4-36ab87d08bf2', remote_subscribe_addr=None, remote_addr_ipv6=False)\n",
      "INFO 03-28 12:20:55 [parallel_state.py:954] rank 0 in world size 2 is assigned as DP rank 0, PP rank 0, TP rank 0\n",
      "\u001b[1;36m(VllmWorkerProcess pid=83)\u001b[0;0m INFO 03-28 12:20:55 [parallel_state.py:954] rank 1 in world size 2 is assigned as DP rank 0, PP rank 0, TP rank 1\n",
      "INFO 03-28 12:20:55 [model_runner.py:1110] Starting to load model /kaggle/input/qwen2.5/transformers/32b-instruct-awq/1...\n",
      "\u001b[1;36m(VllmWorkerProcess pid=83)\u001b[0;0m INFO 03-28 12:20:55 [model_runner.py:1110] Starting to load model /kaggle/input/qwen2.5/transformers/32b-instruct-awq/1...\n"
     ]
    },
    {
     "data": {
      "application/vnd.jupyter.widget-view+json": {
       "model_id": "872ea7e217094f0db091b0e33058aa4e",
       "version_major": 2,
       "version_minor": 0
      },
      "text/plain": [
       "Loading safetensors checkpoint shards:   0% Completed | 0/5 [00:00<?, ?it/s]\n"
      ]
     },
     "metadata": {},
     "output_type": "display_data"
    },
    {
     "name": "stdout",
     "output_type": "stream",
     "text": [
      "\u001b[1;36m(VllmWorkerProcess pid=83)\u001b[0;0m INFO 03-28 12:23:28 [loader.py:447] Loading weights took 153.32 seconds\n",
      "INFO 03-28 12:23:29 [loader.py:447] Loading weights took 153.58 seconds\n",
      "\u001b[1;36m(VllmWorkerProcess pid=83)\u001b[0;0m INFO 03-28 12:23:29 [model_runner.py:1146] Model loading took 9.0925 GB and 153.601594 seconds\n",
      "INFO 03-28 12:23:29 [model_runner.py:1146] Model loading took 9.0925 GB and 153.854572 seconds\n",
      "\u001b[1;36m(VllmWorkerProcess pid=83)\u001b[0;0m INFO 03-28 12:23:45 [worker.py:267] Memory profiling takes 15.33 seconds\r\n",
      "\u001b[1;36m(VllmWorkerProcess pid=83)\u001b[0;0m INFO 03-28 12:23:45 [worker.py:267] the current vLLM instance can use total_gpu_memory (14.74GiB) x gpu_memory_utilization (0.95) = 14.00GiB\r\n",
      "\u001b[1;36m(VllmWorkerProcess pid=83)\u001b[0;0m INFO 03-28 12:23:45 [worker.py:267] model weights take 9.09GiB; non_torch_memory takes 0.12GiB; PyTorch activation peak memory takes 0.73GiB; the rest of the memory reserved for KV Cache is 4.06GiB.\n",
      "INFO 03-28 12:23:45 [worker.py:267] Memory profiling takes 15.46 seconds\r\n",
      "INFO 03-28 12:23:45 [worker.py:267] the current vLLM instance can use total_gpu_memory (14.74GiB) x gpu_memory_utilization (0.95) = 14.00GiB\r\n",
      "INFO 03-28 12:23:45 [worker.py:267] model weights take 9.09GiB; non_torch_memory takes 0.12GiB; PyTorch activation peak memory takes 1.44GiB; the rest of the memory reserved for KV Cache is 3.35GiB.\n",
      "INFO 03-28 12:23:45 [executor_base.py:111] # cuda blocks: 1717, # CPU blocks: 2048\n",
      "INFO 03-28 12:23:45 [executor_base.py:116] Maximum concurrency for 5120 tokens per request: 5.37x\n",
      "INFO 03-28 12:23:49 [llm_engine.py:447] init engine (profile, create kv cache, warmup model) took 20.32 seconds\n"
     ]
    }
   ],
   "source": [
    "model = Model()"
   ]
  },
  {
   "cell_type": "markdown",
   "id": "5695ab56",
   "metadata": {
    "papermill": {
     "duration": 0.005381,
     "end_time": "2025-03-28T12:23:50.038393",
     "exception": false,
     "start_time": "2025-03-28T12:23:50.033012",
     "status": "completed"
    },
    "tags": []
   },
   "source": [
    "## Generate on training data"
   ]
  },
  {
   "cell_type": "code",
   "execution_count": 5,
   "id": "80252336",
   "metadata": {
    "execution": {
     "iopub.execute_input": "2025-03-28T12:23:50.050076Z",
     "iopub.status.busy": "2025-03-28T12:23:50.049775Z",
     "iopub.status.idle": "2025-03-28T12:23:50.054565Z",
     "shell.execute_reply": "2025-03-28T12:23:50.053796Z"
    },
    "papermill": {
     "duration": 0.01226,
     "end_time": "2025-03-28T12:23:50.055868",
     "exception": false,
     "start_time": "2025-03-28T12:23:50.043608",
     "status": "completed"
    },
    "tags": []
   },
   "outputs": [],
   "source": [
    "from IPython.display import SVG, display\n",
    "\n",
    "import pandas as pd\n",
    "from tqdm.auto import tqdm\n",
    "tqdm.pandas()"
   ]
  },
  {
   "cell_type": "code",
   "execution_count": 6,
   "id": "a373beee",
   "metadata": {
    "execution": {
     "iopub.execute_input": "2025-03-28T12:23:50.067315Z",
     "iopub.status.busy": "2025-03-28T12:23:50.067079Z",
     "iopub.status.idle": "2025-03-28T12:23:50.218722Z",
     "shell.execute_reply": "2025-03-28T12:23:50.217751Z"
    },
    "papermill": {
     "duration": 0.159575,
     "end_time": "2025-03-28T12:23:50.220744",
     "exception": false,
     "start_time": "2025-03-28T12:23:50.061169",
     "status": "completed"
    },
    "tags": []
   },
   "outputs": [],
   "source": [
    "drawing_with_llms_path = kagglehub.competition_download('drawing-with-llms')\n",
    "train_df = pd.read_csv(f'{drawing_with_llms_path}/train.csv')"
   ]
  },
  {
   "cell_type": "code",
   "execution_count": 7,
   "id": "d07dcc53",
   "metadata": {
    "execution": {
     "iopub.execute_input": "2025-03-28T12:23:50.244738Z",
     "iopub.status.busy": "2025-03-28T12:23:50.244392Z",
     "iopub.status.idle": "2025-03-28T12:23:50.266326Z",
     "shell.execute_reply": "2025-03-28T12:23:50.265369Z"
    },
    "papermill": {
     "duration": 0.035233,
     "end_time": "2025-03-28T12:23:50.267591",
     "exception": false,
     "start_time": "2025-03-28T12:23:50.232358",
     "status": "completed"
    },
    "tags": []
   },
   "outputs": [
    {
     "data": {
      "text/html": [
       "<div>\n",
       "<style scoped>\n",
       "    .dataframe tbody tr th:only-of-type {\n",
       "        vertical-align: middle;\n",
       "    }\n",
       "\n",
       "    .dataframe tbody tr th {\n",
       "        vertical-align: top;\n",
       "    }\n",
       "\n",
       "    .dataframe thead th {\n",
       "        text-align: right;\n",
       "    }\n",
       "</style>\n",
       "<table border=\"1\" class=\"dataframe\">\n",
       "  <thead>\n",
       "    <tr style=\"text-align: right;\">\n",
       "      <th></th>\n",
       "      <th>id</th>\n",
       "      <th>description</th>\n",
       "    </tr>\n",
       "  </thead>\n",
       "  <tbody>\n",
       "    <tr>\n",
       "      <th>0</th>\n",
       "      <td>02d892</td>\n",
       "      <td>a purple forest at dusk</td>\n",
       "    </tr>\n",
       "    <tr>\n",
       "      <th>1</th>\n",
       "      <td>0dcd2e</td>\n",
       "      <td>gray wool coat with a faux fur collar</td>\n",
       "    </tr>\n",
       "    <tr>\n",
       "      <th>2</th>\n",
       "      <td>1e9ac1</td>\n",
       "      <td>a lighthouse overlooking the ocean</td>\n",
       "    </tr>\n",
       "    <tr>\n",
       "      <th>3</th>\n",
       "      <td>2b25db</td>\n",
       "      <td>burgundy corduroy pants with patch pockets and...</td>\n",
       "    </tr>\n",
       "    <tr>\n",
       "      <th>4</th>\n",
       "      <td>4e6a54</td>\n",
       "      <td>orange corduroy overalls</td>\n",
       "    </tr>\n",
       "  </tbody>\n",
       "</table>\n",
       "</div>"
      ],
      "text/plain": [
       "       id                                        description\n",
       "0  02d892                            a purple forest at dusk\n",
       "1  0dcd2e              gray wool coat with a faux fur collar\n",
       "2  1e9ac1                 a lighthouse overlooking the ocean\n",
       "3  2b25db  burgundy corduroy pants with patch pockets and...\n",
       "4  4e6a54                           orange corduroy overalls"
      ]
     },
     "execution_count": 7,
     "metadata": {},
     "output_type": "execute_result"
    }
   ],
   "source": [
    "train_df.head()"
   ]
  },
  {
   "cell_type": "code",
   "execution_count": 8,
   "id": "2c83bc11",
   "metadata": {
    "execution": {
     "iopub.execute_input": "2025-03-28T12:23:50.280264Z",
     "iopub.status.busy": "2025-03-28T12:23:50.279928Z",
     "iopub.status.idle": "2025-03-28T12:23:50.285391Z",
     "shell.execute_reply": "2025-03-28T12:23:50.284588Z"
    },
    "papermill": {
     "duration": 0.013173,
     "end_time": "2025-03-28T12:23:50.286581",
     "exception": false,
     "start_time": "2025-03-28T12:23:50.273408",
     "status": "completed"
    },
    "tags": []
   },
   "outputs": [
    {
     "data": {
      "text/plain": [
       "'a lighthouse overlooking the ocean'"
      ]
     },
     "execution_count": 8,
     "metadata": {},
     "output_type": "execute_result"
    }
   ],
   "source": [
    "r = train_df.iloc[2]\n",
    "r.description"
   ]
  },
  {
   "cell_type": "code",
   "execution_count": 9,
   "id": "c1599f3b",
   "metadata": {
    "execution": {
     "iopub.execute_input": "2025-03-28T12:23:50.298791Z",
     "iopub.status.busy": "2025-03-28T12:23:50.298463Z",
     "iopub.status.idle": "2025-03-28T12:24:30.187588Z",
     "shell.execute_reply": "2025-03-28T12:24:30.186613Z"
    },
    "papermill": {
     "duration": 39.901981,
     "end_time": "2025-03-28T12:24:30.194153",
     "exception": false,
     "start_time": "2025-03-28T12:23:50.292172",
     "status": "completed"
    },
    "tags": []
   },
   "outputs": [
    {
     "name": "stdout",
     "output_type": "stream",
     "text": [
      "CPU times: user 38.9 s, sys: 418 ms, total: 39.3 s\n",
      "Wall time: 39.9 s\n"
     ]
    }
   ],
   "source": [
    "%%time\n",
    "svg = model.predict(r.description)"
   ]
  },
  {
   "cell_type": "code",
   "execution_count": 10,
   "id": "ae7dcc12",
   "metadata": {
    "execution": {
     "iopub.execute_input": "2025-03-28T12:24:30.207411Z",
     "iopub.status.busy": "2025-03-28T12:24:30.207130Z",
     "iopub.status.idle": "2025-03-28T12:38:29.912175Z",
     "shell.execute_reply": "2025-03-28T12:38:29.911261Z"
    },
    "papermill": {
     "duration": 839.722842,
     "end_time": "2025-03-28T12:38:29.923754",
     "exception": false,
     "start_time": "2025-03-28T12:24:30.200912",
     "status": "completed"
    },
    "tags": []
   },
   "outputs": [
    {
     "data": {
      "application/vnd.jupyter.widget-view+json": {
       "model_id": "14da05cd0f42412090ebc230665d89d8",
       "version_major": 2,
       "version_minor": 0
      },
      "text/plain": [
       "  0%|          | 0/15 [00:00<?, ?it/s]"
      ]
     },
     "metadata": {},
     "output_type": "display_data"
    }
   ],
   "source": [
    "train_df['svg'] = train_df.description.progress_apply(model.predict)"
   ]
  },
  {
   "cell_type": "code",
   "execution_count": 11,
   "id": "537b9b85",
   "metadata": {
    "execution": {
     "iopub.execute_input": "2025-03-28T12:38:29.947424Z",
     "iopub.status.busy": "2025-03-28T12:38:29.947116Z",
     "iopub.status.idle": "2025-03-28T12:38:29.953129Z",
     "shell.execute_reply": "2025-03-28T12:38:29.952296Z"
    },
    "papermill": {
     "duration": 0.019881,
     "end_time": "2025-03-28T12:38:29.954782",
     "exception": false,
     "start_time": "2025-03-28T12:38:29.934901",
     "status": "completed"
    },
    "tags": []
   },
   "outputs": [],
   "source": [
    "train_df.to_json('train_svg.jsonl', orient='records', lines=True, force_ascii=False)"
   ]
  },
  {
   "cell_type": "markdown",
   "id": "4552f81a",
   "metadata": {
    "papermill": {
     "duration": 0.010373,
     "end_time": "2025-03-28T12:38:29.976263",
     "exception": false,
     "start_time": "2025-03-28T12:38:29.965890",
     "status": "completed"
    },
    "tags": []
   },
   "source": [
    "## Display"
   ]
  },
  {
   "cell_type": "code",
   "execution_count": 12,
   "id": "c584dab4",
   "metadata": {
    "execution": {
     "iopub.execute_input": "2025-03-28T12:38:29.988581Z",
     "iopub.status.busy": "2025-03-28T12:38:29.988279Z",
     "iopub.status.idle": "2025-03-28T12:38:29.993876Z",
     "shell.execute_reply": "2025-03-28T12:38:29.993014Z"
    },
    "papermill": {
     "duration": 0.013115,
     "end_time": "2025-03-28T12:38:29.995133",
     "exception": false,
     "start_time": "2025-03-28T12:38:29.982018",
     "status": "completed"
    },
    "tags": []
   },
   "outputs": [],
   "source": [
    "import matplotlib.pyplot as plt\n",
    "%matplotlib inline"
   ]
  },
  {
   "cell_type": "code",
   "execution_count": 13,
   "id": "21c22650",
   "metadata": {
    "execution": {
     "iopub.execute_input": "2025-03-28T12:38:30.007706Z",
     "iopub.status.busy": "2025-03-28T12:38:30.007409Z",
     "iopub.status.idle": "2025-03-28T12:38:30.013253Z",
     "shell.execute_reply": "2025-03-28T12:38:30.012488Z"
    },
    "papermill": {
     "duration": 0.013465,
     "end_time": "2025-03-28T12:38:30.014429",
     "exception": false,
     "start_time": "2025-03-28T12:38:30.000964",
     "status": "completed"
    },
    "tags": []
   },
   "outputs": [],
   "source": [
    "from PIL import Image\n",
    "import cairosvg\n",
    "\n",
    "def svg_to_png(svg_code: str, size: tuple = (384, 384)) -> Image.Image:\n",
    "    \"\"\"\n",
    "    Converts an SVG string to a PNG image using CairoSVG.\n",
    "\n",
    "    If the SVG does not define a `viewBox`, it will add one using the provided size.\n",
    "\n",
    "    Parameters\n",
    "    ----------\n",
    "    svg_code : str\n",
    "        The SVG string to convert.\n",
    "    size : tuple[int, int], default=(384, 384)\n",
    "        The desired size of the output PNG image (width, height).\n",
    "\n",
    "    Returns\n",
    "    -------\n",
    "    PIL.Image.Image\n",
    "        The generated PNG image.\n",
    "    \"\"\"\n",
    "    # Ensure SVG has proper size attributes\n",
    "    if 'viewBox' not in svg_code:\n",
    "        svg_code = svg_code.replace('<svg', f'<svg viewBox=\"0 0 {size[0]} {size[1]}\"')\n",
    "\n",
    "    # Convert SVG to PNG\n",
    "    png_data = cairosvg.svg2png(bytestring=svg_code.encode('utf-8'))\n",
    "    return Image.open(io.BytesIO(png_data)).convert('RGB').resize(size)"
   ]
  },
  {
   "cell_type": "code",
   "execution_count": 14,
   "id": "c73843e2",
   "metadata": {
    "execution": {
     "iopub.execute_input": "2025-03-28T12:38:30.026744Z",
     "iopub.status.busy": "2025-03-28T12:38:30.026457Z",
     "iopub.status.idle": "2025-03-28T12:38:31.771132Z",
     "shell.execute_reply": "2025-03-28T12:38:31.770225Z"
    },
    "papermill": {
     "duration": 1.753491,
     "end_time": "2025-03-28T12:38:31.773696",
     "exception": false,
     "start_time": "2025-03-28T12:38:30.020205",
     "status": "completed"
    },
    "tags": []
   },
   "outputs": [
    {
     "data": {
      "image/png": "[encoded data removed]",
      "text/plain": [
       "<Figure size 1200x2000 with 15 Axes>"
      ]
     },
     "metadata": {},
     "output_type": "display_data"
    }
   ],
   "source": [
    "plt.figure(figsize=(12, 20))\n",
    "for i, r in enumerate(train_df.itertuples(), 1):\n",
    "    plt.subplot(5, 3, i)\n",
    "    img = svg_to_png(r.svg)\n",
    "    plt.imshow(img)\n",
    "    plt.axis('off')\n",
    "    plt.title(r.description, fontdict={'fontsize': 8})"
   ]
  },
  {
   "cell_type": "code",
   "execution_count": null,
   "id": "10de31ff",
   "metadata": {
    "papermill": {
     "duration": 0.00761,
     "end_time": "2025-03-28T12:38:31.789458",
     "exception": false,
     "start_time": "2025-03-28T12:38:31.781848",
     "status": "completed"
    },
    "tags": []
   },
   "outputs": [],
   "source": []
  }
 ],
 "metadata": {
  "kaggle": {
   "accelerator": "nvidiaTeslaT4",
   "dataSources": [
    {
     "databundleVersionId": 11522106,
     "sourceId": 89659,
     "sourceType": "competition"
    },
    {
     "sourceId": 224423433,
     "sourceType": "kernelVersion"
    },
    {
     "modelId": 164048,
     "modelInstanceId": 141565,
     "sourceId": 166368,
     "sourceType": "modelInstanceVersion"
    }
   ],
   "dockerImageVersionId": 30919,
   "isGpuEnabled": true,
   "isInternetEnabled": false,
   "language": "python",
   "sourceType": "notebook"
  },
  "kernelspec": {
   "display_name": "Python 3",
   "language": "python",
   "name": "python3"
  },
  "language_info": {
   "codemirror_mode": {
    "name": "ipython",
    "version": 3
   },
   "file_extension": ".py",
   "mimetype": "text/x-python",
   "name": "python",
   "nbconvert_exporter": "python",
   "pygments_lexer": "ipython3",
   "version": "3.10.12"
  },
  "papermill": {
   "default_parameters": {},
   "duration": 1152.204338,
   "end_time": "2025-03-28T12:38:36.509036",
   "environment_variables": {},
   "exception": null,
   "input_path": "__notebook__.ipynb",
   "output_path": "__notebook__.ipynb",
   "parameters": {},
   "start_time": "2025-03-28T12:19:24.304698",
   "version": "2.6.0"
  },
  "widgets": {
   "application/vnd.jupyter.widget-state+json": {
    "state": {
     "04899820512443e9b59de57f0909558d": {
      "model_module": "@jupyter-widgets/controls",
      "model_module_version": "2.0.0",
      "model_name": "HTMLStyleModel",
      "state": {
       "_model_module": "@jupyter-widgets/controls",
       "_model_module_version": "2.0.0",
       "_model_name": "HTMLStyleModel",
       "_view_count": null,
       "_view_module": "@jupyter-widgets/base",
       "_view_module_version": "2.0.0",
       "_view_name": "StyleView",
       "background": null,
       "description_width": "",
       "font_size": null,
       "text_color": null
      }
     },
     "0751632758964bf9ae0c9c20f7b8736c": {
      "model_module": "@jupyter-widgets/controls",
      "model_module_version": "2.0.0",
      "model_name": "ProgressStyleModel",
      "state": {
       "_model_module": "@jupyter-widgets/controls",
       "_model_module_version": "2.0.0",
       "_model_name": "ProgressStyleModel",
       "_view_count": null,
       "_view_module": "@jupyter-widgets/base",
       "_view_module_version": "2.0.0",
       "_view_name": "StyleView",
       "bar_color": null,
       "description_width": ""
      }
     },
     "14da05cd0f42412090ebc230665d89d8": {
      "model_module": "@jupyter-widgets/controls",
      "model_module_version": "2.0.0",
      "model_name": "HBoxModel",
      "state": {
       "_dom_classes": [],
       "_model_module": "@jupyter-widgets/controls",
       "_model_module_version": "2.0.0",
       "_model_name": "HBoxModel",
       "_view_count": null,
       "_view_module": "@jupyter-widgets/controls",
       "_view_module_version": "2.0.0",
       "_view_name": "HBoxView",
       "box_style": "",
       "children": [
        "IPY_MODEL_adf107a6c00f47a79db0f8c70fd4f4ae",
        "IPY_MODEL_f9a3e9e02c304770a70d42590fadf473",
        "IPY_MODEL_b355b538ba2d4c5cb5c5e51fedb5be38"
       ],
       "layout": "IPY_MODEL_1a16acf0c50f43b5a085396a98b4da0a",
       "tabbable": null,
       "tooltip": null
      }
     },
     "1a16acf0c50f43b5a085396a98b4da0a": {
      "model_module": "@jupyter-widgets/base",
      "model_module_version": "2.0.0",
      "model_name": "LayoutModel",
      "state": {
       "_model_module": "@jupyter-widgets/base",
       "_model_module_version": "2.0.0",
       "_model_name": "LayoutModel",
       "_view_count": null,
       "_view_module": "@jupyter-widgets/base",
       "_view_module_version": "2.0.0",
       "_view_name": "LayoutView",
       "align_content": null,
       "align_items": null,
       "align_self": null,
       "border_bottom": null,
       "border_left": null,
       "border_right": null,
       "border_top": null,
       "bottom": null,
       "display": null,
       "flex": null,
       "flex_flow": null,
       "grid_area": null,
       "grid_auto_columns": null,
       "grid_auto_flow": null,
       "grid_auto_rows": null,
       "grid_column": null,
       "grid_gap": null,
       "grid_row": null,
       "grid_template_areas": null,
       "grid_template_columns": null,
       "grid_template_rows": null,
       "height": null,
       "justify_content": null,
       "justify_items": null,
       "left": null,
       "margin": null,
       "max_height": null,
       "max_width": null,
       "min_height": null,
       "min_width": null,
       "object_fit": null,
       "object_position": null,
       "order": null,
       "overflow": null,
       "padding": null,
       "right": null,
       "top": null,
       "visibility": null,
       "width": null
      }
     },
     "22a5e255751a462890c2ee89470c0a64": {
      "model_module": "@jupyter-widgets/base",
      "model_module_version": "2.0.0",
      "model_name": "LayoutModel",
      "state": {
       "_model_module": "@jupyter-widgets/base",
       "_model_module_version": "2.0.0",
       "_model_name": "LayoutModel",
       "_view_count": null,
       "_view_module": "@jupyter-widgets/base",
       "_view_module_version": "2.0.0",
       "_view_name": "LayoutView",
       "align_content": null,
       "align_items": null,
       "align_self": null,
       "border_bottom": null,
       "border_left": null,
       "border_right": null,
       "border_top": null,
       "bottom": null,
       "display": null,
       "flex": null,
       "flex_flow": null,
       "grid_area": null,
       "grid_auto_columns": null,
       "grid_auto_flow": null,
       "grid_auto_rows": null,
       "grid_column": null,
       "grid_gap": null,
       "grid_row": null,
       "grid_template_areas": null,
       "grid_template_columns": null,
       "grid_template_rows": null,
       "height": null,
       "justify_content": null,
       "justify_items": null,
       "left": null,
       "margin": null,
       "max_height": null,
       "max_width": null,
       "min_height": null,
       "min_width": null,
       "object_fit": null,
       "object_position": null,
       "order": null,
       "overflow": null,
       "padding": null,
       "right": null,
       "top": null,
       "visibility": null,
       "width": null
      }
     },
     "2363857b19cf4273b8fe32a17568c582": {
      "model_module": "@jupyter-widgets/controls",
      "model_module_version": "2.0.0",
      "model_name": "HTMLStyleModel",
      "state": {
       "_model_module": "@jupyter-widgets/controls",
       "_model_module_version": "2.0.0",
       "_model_name": "HTMLStyleModel",
       "_view_count": null,
       "_view_module": "@jupyter-widgets/base",
       "_view_module_version": "2.0.0",
       "_view_name": "StyleView",
       "background": null,
       "description_width": "",
       "font_size": null,
       "text_color": null
      }
     },
     "478127dfac434d0d8b48a7c7473a69af": {
      "model_module": "@jupyter-widgets/controls",
      "model_module_version": "2.0.0",
      "model_name": "FloatProgressModel",
      "state": {
       "_dom_classes": [],
       "_model_module": "@jupyter-widgets/controls",
       "_model_module_version": "2.0.0",
       "_model_name": "FloatProgressModel",
       "_view_count": null,
       "_view_module": "@jupyter-widgets/controls",
       "_view_module_version": "2.0.0",
       "_view_name": "ProgressView",
       "bar_style": "success",
       "description": "",
       "description_allow_html": false,
       "layout": "IPY_MODEL_4e402d26736844d0a2a3fc1ff0a18cdf",
       "max": 5.0,
       "min": 0.0,
       "orientation": "horizontal",
       "style": "IPY_MODEL_0751632758964bf9ae0c9c20f7b8736c",
       "tabbable": null,
       "tooltip": null,
       "value": 5.0
      }
     },
     "4c8e9140387343829b96561de513a69e": {
      "model_module": "@jupyter-widgets/base",
      "model_module_version": "2.0.0",
      "model_name": "LayoutModel",
      "state": {
       "_model_module": "@jupyter-widgets/base",
       "_model_module_version": "2.0.0",
       "_model_name": "LayoutModel",
       "_view_count": null,
       "_view_module": "@jupyter-widgets/base",
       "_view_module_version": "2.0.0",
       "_view_name": "LayoutView",
       "align_content": null,
       "align_items": null,
       "align_self": null,
       "border_bottom": null,
       "border_left": null,
       "border_right": null,
       "border_top": null,
       "bottom": null,
       "display": null,
       "flex": null,
       "flex_flow": null,
       "grid_area": null,
       "grid_auto_columns": null,
       "grid_auto_flow": null,
       "grid_auto_rows": null,
       "grid_column": null,
       "grid_gap": null,
       "grid_row": null,
       "grid_template_areas": null,
       "grid_template_columns": null,
       "grid_template_rows": null,
       "height": null,
       "justify_content": null,
       "justify_items": null,
       "left": null,
       "margin": null,
       "max_height": null,
       "max_width": null,
       "min_height": null,
       "min_width": null,
       "object_fit": null,
       "object_position": null,
       "order": null,
       "overflow": null,
       "padding": null,
       "right": null,
       "top": null,
       "visibility": null,
       "width": null
      }
     },
     "4e402d26736844d0a2a3fc1ff0a18cdf": {
      "model_module": "@jupyter-widgets/base",
      "model_module_version": "2.0.0",
      "model_name": "LayoutModel",
      "state": {
       "_model_module": "@jupyter-widgets/base",
       "_model_module_version": "2.0.0",
       "_model_name": "LayoutModel",
       "_view_count": null,
       "_view_module": "@jupyter-widgets/base",
       "_view_module_version": "2.0.0",
       "_view_name": "LayoutView",
       "align_content": null,
       "align_items": null,
       "align_self": null,
       "border_bottom": null,
       "border_left": null,
       "border_right": null,
       "border_top": null,
       "bottom": null,
       "display": null,
       "flex": null,
       "flex_flow": null,
       "grid_area": null,
       "grid_auto_columns": null,
       "grid_auto_flow": null,
       "grid_auto_rows": null,
       "grid_column": null,
       "grid_gap": null,
       "grid_row": null,
       "grid_template_areas": null,
       "grid_template_columns": null,
       "grid_template_rows": null,
       "height": null,
       "justify_content": null,
       "justify_items": null,
       "left": null,
       "margin": null,
       "max_height": null,
       "max_width": null,
       "min_height": null,
       "min_width": null,
       "object_fit": null,
       "object_position": null,
       "order": null,
       "overflow": null,
       "padding": null,
       "right": null,
       "top": null,
       "visibility": null,
       "width": null
      }
     },
     "5cfb3591bc054048aa83d4e1d2c1ee42": {
      "model_module": "@jupyter-widgets/controls",
      "model_module_version": "2.0.0",
      "model_name": "HTMLModel",
      "state": {
       "_dom_classes": [],
       "_model_module": "@jupyter-widgets/controls",
       "_model_module_version": "2.0.0",
       "_model_name": "HTMLModel",
       "_view_count": null,
       "_view_module": "@jupyter-widgets/controls",
       "_view_module_version": "2.0.0",
       "_view_name": "HTMLView",
       "description": "",
       "description_allow_html": false,
       "layout": "IPY_MODEL_4c8e9140387343829b96561de513a69e",
       "placeholder": "​",
       "style": "IPY_MODEL_2363857b19cf4273b8fe32a17568c582",
       "tabbable": null,
       "tooltip": null,
       "value": "Loading safetensors checkpoint shards: 100% Completed | 5/5 [02:33&lt;00:00, 32.70s/it]\n"
      }
     },
     "5fb71dd6e31b420ab9fb06755733d321": {
      "model_module": "@jupyter-widgets/controls",
      "model_module_version": "2.0.0",
      "model_name": "ProgressStyleModel",
      "state": {
       "_model_module": "@jupyter-widgets/controls",
       "_model_module_version": "2.0.0",
       "_model_name": "ProgressStyleModel",
       "_view_count": null,
       "_view_module": "@jupyter-widgets/base",
       "_view_module_version": "2.0.0",
       "_view_name": "StyleView",
       "bar_color": null,
       "description_width": ""
      }
     },
     "776228b71ac04a748cd8d8be9e42731d": {
      "model_module": "@jupyter-widgets/base",
      "model_module_version": "2.0.0",
      "model_name": "LayoutModel",
      "state": {
       "_model_module": "@jupyter-widgets/base",
       "_model_module_version": "2.0.0",
       "_model_name": "LayoutModel",
       "_view_count": null,
       "_view_module": "@jupyter-widgets/base",
       "_view_module_version": "2.0.0",
       "_view_name": "LayoutView",
       "align_content": null,
       "align_items": null,
       "align_self": null,
       "border_bottom": null,
       "border_left": null,
       "border_right": null,
       "border_top": null,
       "bottom": null,
       "display": null,
       "flex": null,
       "flex_flow": null,
       "grid_area": null,
       "grid_auto_columns": null,
       "grid_auto_flow": null,
       "grid_auto_rows": null,
       "grid_column": null,
       "grid_gap": null,
       "grid_row": null,
       "grid_template_areas": null,
       "grid_template_columns": null,
       "grid_template_rows": null,
       "height": null,
       "justify_content": null,
       "justify_items": null,
       "left": null,
       "margin": null,
       "max_height": null,
       "max_width": null,
       "min_height": null,
       "min_width": null,
       "object_fit": null,
       "object_position": null,
       "order": null,
       "overflow": null,
       "padding": null,
       "right": null,
       "top": null,
       "visibility": null,
       "width": null
      }
     },
     "872ea7e217094f0db091b0e33058aa4e": {
      "model_module": "@jupyter-widgets/controls",
      "model_module_version": "2.0.0",
      "model_name": "HBoxModel",
      "state": {
       "_dom_classes": [],
       "_model_module": "@jupyter-widgets/controls",
       "_model_module_version": "2.0.0",
       "_model_name": "HBoxModel",
       "_view_count": null,
       "_view_module": "@jupyter-widgets/controls",
       "_view_module_version": "2.0.0",
       "_view_name": "HBoxView",
       "box_style": "",
       "children": [
        "IPY_MODEL_dbdf951e714448868cd0d043b308c86e",
        "IPY_MODEL_478127dfac434d0d8b48a7c7473a69af",
        "IPY_MODEL_5cfb3591bc054048aa83d4e1d2c1ee42"
       ],
       "layout": "IPY_MODEL_d5b5a5662d3c4917a899e173089daa57",
       "tabbable": null,
       "tooltip": null
      }
     },
     "98639dcafb38497a93df25ca24c33a6a": {
      "model_module": "@jupyter-widgets/base",
      "model_module_version": "2.0.0",
      "model_name": "LayoutModel",
      "state": {
       "_model_module": "@jupyter-widgets/base",
       "_model_module_version": "2.0.0",
       "_model_name": "LayoutModel",
       "_view_count": null,
       "_view_module": "@jupyter-widgets/base",
       "_view_module_version": "2.0.0",
       "_view_name": "LayoutView",
       "align_content": null,
       "align_items": null,
       "align_self": null,
       "border_bottom": null,
       "border_left": null,
       "border_right": null,
       "border_top": null,
       "bottom": null,
       "display": null,
       "flex": null,
       "flex_flow": null,
       "grid_area": null,
       "grid_auto_columns": null,
       "grid_auto_flow": null,
       "grid_auto_rows": null,
       "grid_column": null,
       "grid_gap": null,
       "grid_row": null,
       "grid_template_areas": null,
       "grid_template_columns": null,
       "grid_template_rows": null,
       "height": null,
       "justify_content": null,
       "justify_items": null,
       "left": null,
       "margin": null,
       "max_height": null,
       "max_width": null,
       "min_height": null,
       "min_width": null,
       "object_fit": null,
       "object_position": null,
       "order": null,
       "overflow": null,
       "padding": null,
       "right": null,
       "top": null,
       "visibility": null,
       "width": null
      }
     },
     "9eec7084b7c44c87ab76a9be2686eb7b": {
      "model_module": "@jupyter-widgets/base",
      "model_module_version": "2.0.0",
      "model_name": "LayoutModel",
      "state": {
       "_model_module": "@jupyter-widgets/base",
       "_model_module_version": "2.0.0",
       "_model_name": "LayoutModel",
       "_view_count": null,
       "_view_module": "@jupyter-widgets/base",
       "_view_module_version": "2.0.0",
       "_view_name": "LayoutView",
       "align_content": null,
       "align_items": null,
       "align_self": null,
       "border_bottom": null,
       "border_left": null,
       "border_right": null,
       "border_top": null,
       "bottom": null,
       "display": null,
       "flex": null,
       "flex_flow": null,
       "grid_area": null,
       "grid_auto_columns": null,
       "grid_auto_flow": null,
       "grid_auto_rows": null,
       "grid_column": null,
       "grid_gap": null,
       "grid_row": null,
       "grid_template_areas": null,
       "grid_template_columns": null,
       "grid_template_rows": null,
       "height": null,
       "justify_content": null,
       "justify_items": null,
       "left": null,
       "margin": null,
       "max_height": null,
       "max_width": null,
       "min_height": null,
       "min_width": null,
       "object_fit": null,
       "object_position": null,
       "order": null,
       "overflow": null,
       "padding": null,
       "right": null,
       "top": null,
       "visibility": null,
       "width": null
      }
     },
     "adf107a6c00f47a79db0f8c70fd4f4ae": {
      "model_module": "@jupyter-widgets/controls",
      "model_module_version": "2.0.0",
      "model_name": "HTMLModel",
      "state": {
       "_dom_classes": [],
       "_model_module": "@jupyter-widgets/controls",
       "_model_module_version": "2.0.0",
       "_model_name": "HTMLModel",
       "_view_count": null,
       "_view_module": "@jupyter-widgets/controls",
       "_view_module_version": "2.0.0",
       "_view_name": "HTMLView",
       "description": "",
       "description_allow_html": false,
       "layout": "IPY_MODEL_9eec7084b7c44c87ab76a9be2686eb7b",
       "placeholder": "​",
       "style": "IPY_MODEL_e5b9cb87839a47b684510e41ee16258f",
       "tabbable": null,
       "tooltip": null,
       "value": "100%"
      }
     },
     "b355b538ba2d4c5cb5c5e51fedb5be38": {
      "model_module": "@jupyter-widgets/controls",
      "model_module_version": "2.0.0",
      "model_name": "HTMLModel",
      "state": {
       "_dom_classes": [],
       "_model_module": "@jupyter-widgets/controls",
       "_model_module_version": "2.0.0",
       "_model_name": "HTMLModel",
       "_view_count": null,
       "_view_module": "@jupyter-widgets/controls",
       "_view_module_version": "2.0.0",
       "_view_name": "HTMLView",
       "description": "",
       "description_allow_html": false,
       "layout": "IPY_MODEL_98639dcafb38497a93df25ca24c33a6a",
       "placeholder": "​",
       "style": "IPY_MODEL_e9e893c0ab1849f3a33410b36e572e57",
       "tabbable": null,
       "tooltip": null,
       "value": " 15/15 [13:59&lt;00:00, 53.79s/it]"
      }
     },
     "d5b5a5662d3c4917a899e173089daa57": {
      "model_module": "@jupyter-widgets/base",
      "model_module_version": "2.0.0",
      "model_name": "LayoutModel",
      "state": {
       "_model_module": "@jupyter-widgets/base",
       "_model_module_version": "2.0.0",
       "_model_name": "LayoutModel",
       "_view_count": null,
       "_view_module": "@jupyter-widgets/base",
       "_view_module_version": "2.0.0",
       "_view_name": "LayoutView",
       "align_content": null,
       "align_items": null,
       "align_self": null,
       "border_bottom": null,
       "border_left": null,
       "border_right": null,
       "border_top": null,
       "bottom": null,
       "display": null,
       "flex": null,
       "flex_flow": null,
       "grid_area": null,
       "grid_auto_columns": null,
       "grid_auto_flow": null,
       "grid_auto_rows": null,
       "grid_column": null,
       "grid_gap": null,
       "grid_row": null,
       "grid_template_areas": null,
       "grid_template_columns": null,
       "grid_template_rows": null,
       "height": null,
       "justify_content": null,
       "justify_items": null,
       "left": null,
       "margin": null,
       "max_height": null,
       "max_width": null,
       "min_height": null,
       "min_width": null,
       "object_fit": null,
       "object_position": null,
       "order": null,
       "overflow": null,
       "padding": null,
       "right": null,
       "top": null,
       "visibility": null,
       "width": null
      }
     },
     "dbdf951e714448868cd0d043b308c86e": {
      "model_module": "@jupyter-widgets/controls",
      "model_module_version": "2.0.0",
      "model_name": "HTMLModel",
      "state": {
       "_dom_classes": [],
       "_model_module": "@jupyter-widgets/controls",
       "_model_module_version": "2.0.0",
       "_model_name": "HTMLModel",
       "_view_count": null,
       "_view_module": "@jupyter-widgets/controls",
       "_view_module_version": "2.0.0",
       "_view_name": "HTMLView",
       "description": "",
       "description_allow_html": false,
       "layout": "IPY_MODEL_776228b71ac04a748cd8d8be9e42731d",
       "placeholder": "​",
       "style": "IPY_MODEL_04899820512443e9b59de57f0909558d",
       "tabbable": null,
       "tooltip": null,
       "value": ""
      }
     },
     "e5b9cb87839a47b684510e41ee16258f": {
      "model_module": "@jupyter-widgets/controls",
      "model_module_version": "2.0.0",
      "model_name": "HTMLStyleModel",
      "state": {
       "_model_module": "@jupyter-widgets/controls",
       "_model_module_version": "2.0.0",
       "_model_name": "HTMLStyleModel",
       "_view_count": null,
       "_view_module": "@jupyter-widgets/base",
       "_view_module_version": "2.0.0",
       "_view_name": "StyleView",
       "background": null,
       "description_width": "",
       "font_size": null,
       "text_color": null
      }
     },
     "e9e893c0ab1849f3a33410b36e572e57": {
      "model_module": "@jupyter-widgets/controls",
      "model_module_version": "2.0.0",
      "model_name": "HTMLStyleModel",
      "state": {
       "_model_module": "@jupyter-widgets/controls",
       "_model_module_version": "2.0.0",
       "_model_name": "HTMLStyleModel",
       "_view_count": null,
       "_view_module": "@jupyter-widgets/base",
       "_view_module_version": "2.0.0",
       "_view_name": "StyleView",
       "background": null,
       "description_width": "",
       "font_size": null,
       "text_color": null
      }
     },
     "f9a3e9e02c304770a70d42590fadf473": {
      "model_module": "@jupyter-widgets/controls",
      "model_module_version": "2.0.0",
      "model_name": "FloatProgressModel",
      "state": {
       "_dom_classes": [],
       "_model_module": "@jupyter-widgets/controls",
       "_model_module_version": "2.0.0",
       "_model_name": "FloatProgressModel",
       "_view_count": null,
       "_view_module": "@jupyter-widgets/controls",
       "_view_module_version": "2.0.0",
       "_view_name": "ProgressView",
       "bar_style": "success",
       "description": "",
       "description_allow_html": false,
       "layout": "IPY_MODEL_22a5e255751a462890c2ee89470c0a64",
       "max": 15.0,
       "min": 0.0,
       "orientation": "horizontal",
       "style": "IPY_MODEL_5fb71dd6e31b420ab9fb06755733d321",
       "tabbable": null,
       "tooltip": null,
       "value": 15.0
      }
     }
    },
    "version_major": 2,
    "version_minor": 0
   }
  }
 },
 "nbformat": 4,
 "nbformat_minor": 5
}
