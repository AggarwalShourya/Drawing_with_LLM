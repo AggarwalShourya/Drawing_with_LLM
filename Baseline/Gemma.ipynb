{
 "cells": [
  {
   "cell_type": "code",
   "execution_count": 1,
   "id": "684d3399",
   "metadata": {
    "_cell_guid": "b1076dfc-b9ad-4769-8c92-a6c4dae69d19",
    "_uuid": "8f2839f25d086af736a60e9eeb907d3b93b6e0e5",
    "execution": {
     "iopub.execute_input": "2025-03-23T04:36:16.339858Z",
     "iopub.status.busy": "2025-03-23T04:36:16.339602Z",
     "iopub.status.idle": "2025-03-23T04:36:16.343955Z",
     "shell.execute_reply": "2025-03-23T04:36:16.343221Z"
    },
    "papermill": {
     "duration": 0.008361,
     "end_time": "2025-03-23T04:36:16.345172",
     "exception": false,
     "start_time": "2025-03-23T04:36:16.336811",
     "status": "completed"
    },
    "tags": []
   },
   "outputs": [],
   "source": [
    "#| default_exp core"
   ]
  },
  {
   "cell_type": "code",
   "execution_count": 2,
   "id": "b1fb878d",
   "metadata": {
    "execution": {
     "iopub.execute_input": "2025-03-23T04:36:16.348975Z",
     "iopub.status.busy": "2025-03-23T04:36:16.348763Z",
     "iopub.status.idle": "2025-03-23T04:36:27.089418Z",
     "shell.execute_reply": "2025-03-23T04:36:27.088449Z"
    },
    "papermill": {
     "duration": 10.744136,
     "end_time": "2025-03-23T04:36:27.091083",
     "exception": false,
     "start_time": "2025-03-23T04:36:16.346947",
     "status": "completed"
    },
    "tags": []
   },
   "outputs": [],
   "source": [
    "#| export\n",
    "import kagglehub\n",
    "import re\n",
    "import torch\n",
    "from transformers import AutoTokenizer, AutoModelForCausalLM\n",
    "from IPython.display import SVG\n",
    "\n",
    "DEVICE = torch.device(\"cuda\" if torch.cuda.is_available() else \"cpu\")\n",
    "# svg_constraints = kagglehub.package_import('metric/svg-constraints')\n",
    "    \n",
    "class Model:\n",
    "    def __init__(self):\n",
    "        self.model_path = kagglehub.model_download(\"google/gemma-2/transformers/gemma-2-2b-it\")\n",
    "        self.tokenizer = AutoTokenizer.from_pretrained(self.model_path)\n",
    "        self.model = AutoModelForCausalLM.from_pretrained(\n",
    "            self.model_path,\n",
    "            device_map=\"auto\",\n",
    "            torch_dtype=torch.bfloat16,)\n",
    "        self.prompt_template = self.prompt_template = \"\"\"Generate a valid and complete SVG code using given <description>. The output must be started with <svg> element and ended with </svg> element. Use only the following allowed elements and attributes:\n",
    "        \n",
    "        <allowed_elements>: dict[str, set[str]] = {\n",
    "            'common': {\n",
    "                'id', 'clip-path', 'clip-rule', 'color', 'color-interpolation', 'color-interpolation-filters',\n",
    "                'color-rendering', 'display', 'fill', 'fill-opacity', 'fill-rule', 'filter', 'flood-color',\n",
    "                'flood-opacity', 'lighting-color', 'marker-end', 'marker-mid', 'marker-start', 'mask', 'opacity',\n",
    "                'paint-order', 'stop-color', 'stop-opacity', 'stroke', 'stroke-dasharray', 'stroke-dashoffset',\n",
    "                'stroke-linecap', 'stroke-linejoin', 'stroke-miterlimit', 'stroke-opacity', 'stroke-width', 'transform'\n",
    "            },\n",
    "            'svg': {'width', 'height', 'viewBox', 'preserveAspectRatio'},\n",
    "            'g': {'viewBox'},\n",
    "            'defs': set(),\n",
    "            'symbol': {'viewBox', 'x', 'y', 'width', 'height'},\n",
    "            'use': {'x', 'y', 'width', 'height', 'href'},\n",
    "            'marker': {'viewBox', 'preserveAspectRatio', 'refX', 'refY', 'markerUnits', 'markerWidth', 'markerHeight', 'orient'},\n",
    "            'pattern': {'viewBox', 'preserveAspectRatio', 'x', 'y', 'width', 'height', 'patternUnits', 'patternContentUnits', 'patternTransform', 'href'},\n",
    "            'linearGradient': {'x1', 'x2', 'y1', 'y2', 'gradientUnits', 'gradientTransform', 'spreadMethod', 'href'},\n",
    "            'radialGradient': {'cx', 'cy', 'r', 'fx', 'fy', 'fr', 'gradientUnits', 'gradientTransform', 'spreadMethod', 'href'},\n",
    "            'stop': {'offset'},\n",
    "            'filter': {'x', 'y', 'width', 'height', 'filterUnits', 'primitiveUnits'},\n",
    "            'feBlend': {'result', 'in', 'in2', 'mode'},\n",
    "            'feFlood': {'result'},\n",
    "            'feOffset': {'result', 'in', 'dx', 'dy'},\n",
    "            'path': {'d'},\n",
    "            'rect': {'x', 'y', 'width', 'height', 'rx', 'ry'},\n",
    "            'circle': {'cx', 'cy', 'r'},\n",
    "            'ellipse': {'cx', 'cy', 'rx', 'ry'},\n",
    "            'line': {'x1', 'y1', 'x2', 'y2'},\n",
    "            'polyline': {'points'},\n",
    "            'polygon': {'points'}\n",
    "        }\n",
    "           </allowed_elements>\"\"\"\n",
    "        self.svg_default = '<svg width=\"100\" height=\"100\" viewBox=\"0 0 100 100\"><circle cx=\"50\" cy=\"50\" r=\"40\" fill=\"red\" /></svg>'\n",
    "        # self.constraints = svg_constraints.SVGConstraints()\n",
    "        pass\n",
    "        \n",
    "    def predict(self, prompt: str) -> str:\n",
    "        formatted_description = f\"<description>{prompt}</description>\"\n",
    "        inputs = self.tokenizer(self.prompt_template + formatted_description, return_tensors=\"pt\", max_length = 1024, truncation=True).to(DEVICE)\n",
    "        \n",
    "        output = self.model.generate(**inputs, max_new_tokens=900)\n",
    "        output_decoded = self.tokenizer.decode(output[0], skip_special_tokens=True)\n",
    "\n",
    "        matches = re.findall(r\"<svg.*?</svg>\", output_decoded, re.DOTALL | re.IGNORECASE)\n",
    "        svg_code = matches[-1] if matches else self.svg_default\n",
    "        return svg_code if re.search(r\"<(circle|rect|path|polygon|polyline|line|ellipse)\\b\", svg_code, re.IGNORECASE) else self.svg_default"
   ]
  },
  {
   "cell_type": "code",
   "execution_count": 3,
   "id": "30c734fa",
   "metadata": {
    "execution": {
     "iopub.execute_input": "2025-03-23T04:36:27.095124Z",
     "iopub.status.busy": "2025-03-23T04:36:27.094760Z",
     "iopub.status.idle": "2025-03-23T04:38:04.800128Z",
     "shell.execute_reply": "2025-03-23T04:38:04.799214Z"
    },
    "papermill": {
     "duration": 97.708823,
     "end_time": "2025-03-23T04:38:04.801625",
     "exception": false,
     "start_time": "2025-03-23T04:36:27.092802",
     "status": "completed"
    },
    "tags": []
   },
   "outputs": [
    {
     "data": {
      "application/vnd.jupyter.widget-view+json": {
       "model_id": "6a19a77a82cf4e0599a5da7df990481e",
       "version_major": 2,
       "version_minor": 0
      },
      "text/plain": [
       "Loading checkpoint shards:   0%|          | 0/2 [00:00<?, ?it/s]"
      ]
     },
     "metadata": {},
     "output_type": "display_data"
    },
    {
     "name": "stderr",
     "output_type": "stream",
     "text": [
      "The 'batch_size' attribute of HybridCache is deprecated and will be removed in v4.49. Use the more precisely named 'self.max_batch_size' attribute instead.\n"
     ]
    },
    {
     "name": "stdout",
     "output_type": "stream",
     "text": [
      "<svg width=\"500\" height=\"500\" viewBox=\"0 0 500 500\" preserveAspectRatio=\"xMidYMid meet\">\n",
      "  <defs>\n",
      "    <linearGradient id=\"moonGradient\" x1=\"0%\" x2=\"100%\" y1=\"0%\" y2=\"100%\">\n",
      "      <stop offset=\"0%\" stop-color=\"#E6E6FA\" />\n",
      "      <stop offset=\"100%\" stop-color=\"#C0C0C0\" />\n",
      "    </linearGradient>\n",
      "  </defs>\n",
      "  <g transform=\"translate(250, 250)\">\n",
      "    <path d=\"M 0 0 L 50 50 L 100 0 L 50 0 Z\" fill=\"url(#moonGradient)\" />\n",
      "  </g>\n",
      "</svg>\n"
     ]
    },
    {
     "data": {
      "image/svg+xml": [
       "<svg width=\"500\" height=\"500\" viewBox=\"0 0 500 500\" preserveAspectRatio=\"xMidYMid meet\">\n",
       "  <defs>\n",
       "    <linearGradient id=\"moonGradient\" x1=\"0%\" x2=\"100%\" y1=\"0%\" y2=\"100%\">\n",
       "      <stop offset=\"0%\" stop-color=\"#E6E6FA\"/>\n",
       "      <stop offset=\"100%\" stop-color=\"#C0C0C0\"/>\n",
       "    </linearGradient>\n",
       "  </defs>\n",
       "  <g transform=\"translate(250, 250)\">\n",
       "    <path d=\"M 0 0 L 50 50 L 100 0 L 50 0 Z\" fill=\"url(#moonGradient)\"/>\n",
       "  </g>\n",
       "</svg>"
      ],
      "text/plain": [
       "<IPython.core.display.SVG object>"
      ]
     },
     "metadata": {},
     "output_type": "display_data"
    }
   ],
   "source": [
    "from IPython.display import SVG\n",
    "\n",
    "model = Model()\n",
    "svg = model.predict('full moon at night')\n",
    "\n",
    "print(svg)\n",
    "display(SVG(svg))"
   ]
  }
 ],
 "metadata": {
  "kaggle": {
   "accelerator": "nvidiaTeslaT4",
   "dataSources": [
    {
     "databundleVersionId": 11500533,
     "sourceId": 89659,
     "sourceType": "competition"
    },
    {
     "sourceId": 224423433,
     "sourceType": "kernelVersion"
    },
    {
     "modelId": 76277,
     "modelInstanceId": 72254,
     "sourceId": 104623,
     "sourceType": "modelInstanceVersion"
    }
   ],
   "dockerImageVersionId": 30919,
   "isGpuEnabled": true,
   "isInternetEnabled": false,
   "language": "python",
   "sourceType": "notebook"
  },
  "kernelspec": {
   "display_name": "Python 3",
   "language": "python",
   "name": "python3"
  },
  "language_info": {
   "codemirror_mode": {
    "name": "ipython",
    "version": 3
   },
   "file_extension": ".py",
   "mimetype": "text/x-python",
   "name": "python",
   "nbconvert_exporter": "python",
   "pygments_lexer": "ipython3",
   "version": "3.10.12"
  },
  "papermill": {
   "default_parameters": {},
   "duration": 113.873014,
   "end_time": "2025-03-23T04:38:07.507198",
   "environment_variables": {},
   "exception": null,
   "input_path": "__notebook__.ipynb",
   "output_path": "__notebook__.ipynb",
   "parameters": {},
   "start_time": "2025-03-23T04:36:13.634184",
   "version": "2.6.0"
  },
  "widgets": {
   "application/vnd.jupyter.widget-state+json": {
    "state": {
     "0f84553022b0423d8e95818acf6bc064": {
      "model_module": "@jupyter-widgets/controls",
      "model_module_version": "2.0.0",
      "model_name": "HTMLStyleModel",
      "state": {
       "_model_module": "@jupyter-widgets/controls",
       "_model_module_version": "2.0.0",
       "_model_name": "HTMLStyleModel",
       "_view_count": null,
       "_view_module": "@jupyter-widgets/base",
       "_view_module_version": "2.0.0",
       "_view_name": "StyleView",
       "background": null,
       "description_width": "",
       "font_size": null,
       "text_color": null
      }
     },
     "31386d3accd24163bf2b77380ee71066": {
      "model_module": "@jupyter-widgets/base",
      "model_module_version": "2.0.0",
      "model_name": "LayoutModel",
      "state": {
       "_model_module": "@jupyter-widgets/base",
       "_model_module_version": "2.0.0",
       "_model_name": "LayoutModel",
       "_view_count": null,
       "_view_module": "@jupyter-widgets/base",
       "_view_module_version": "2.0.0",
       "_view_name": "LayoutView",
       "align_content": null,
       "align_items": null,
       "align_self": null,
       "border_bottom": null,
       "border_left": null,
       "border_right": null,
       "border_top": null,
       "bottom": null,
       "display": null,
       "flex": null,
       "flex_flow": null,
       "grid_area": null,
       "grid_auto_columns": null,
       "grid_auto_flow": null,
       "grid_auto_rows": null,
       "grid_column": null,
       "grid_gap": null,
       "grid_row": null,
       "grid_template_areas": null,
       "grid_template_columns": null,
       "grid_template_rows": null,
       "height": null,
       "justify_content": null,
       "justify_items": null,
       "left": null,
       "margin": null,
       "max_height": null,
       "max_width": null,
       "min_height": null,
       "min_width": null,
       "object_fit": null,
       "object_position": null,
       "order": null,
       "overflow": null,
       "padding": null,
       "right": null,
       "top": null,
       "visibility": null,
       "width": null
      }
     },
     "313d285c1a044deb9710312e0a4a4064": {
      "model_module": "@jupyter-widgets/base",
      "model_module_version": "2.0.0",
      "model_name": "LayoutModel",
      "state": {
       "_model_module": "@jupyter-widgets/base",
       "_model_module_version": "2.0.0",
       "_model_name": "LayoutModel",
       "_view_count": null,
       "_view_module": "@jupyter-widgets/base",
       "_view_module_version": "2.0.0",
       "_view_name": "LayoutView",
       "align_content": null,
       "align_items": null,
       "align_self": null,
       "border_bottom": null,
       "border_left": null,
       "border_right": null,
       "border_top": null,
       "bottom": null,
       "display": null,
       "flex": null,
       "flex_flow": null,
       "grid_area": null,
       "grid_auto_columns": null,
       "grid_auto_flow": null,
       "grid_auto_rows": null,
       "grid_column": null,
       "grid_gap": null,
       "grid_row": null,
       "grid_template_areas": null,
       "grid_template_columns": null,
       "grid_template_rows": null,
       "height": null,
       "justify_content": null,
       "justify_items": null,
       "left": null,
       "margin": null,
       "max_height": null,
       "max_width": null,
       "min_height": null,
       "min_width": null,
       "object_fit": null,
       "object_position": null,
       "order": null,
       "overflow": null,
       "padding": null,
       "right": null,
       "top": null,
       "visibility": null,
       "width": null
      }
     },
     "5b652955635d4a74992e25bddb4c3a60": {
      "model_module": "@jupyter-widgets/base",
      "model_module_version": "2.0.0",
      "model_name": "LayoutModel",
      "state": {
       "_model_module": "@jupyter-widgets/base",
       "_model_module_version": "2.0.0",
       "_model_name": "LayoutModel",
       "_view_count": null,
       "_view_module": "@jupyter-widgets/base",
       "_view_module_version": "2.0.0",
       "_view_name": "LayoutView",
       "align_content": null,
       "align_items": null,
       "align_self": null,
       "border_bottom": null,
       "border_left": null,
       "border_right": null,
       "border_top": null,
       "bottom": null,
       "display": null,
       "flex": null,
       "flex_flow": null,
       "grid_area": null,
       "grid_auto_columns": null,
       "grid_auto_flow": null,
       "grid_auto_rows": null,
       "grid_column": null,
       "grid_gap": null,
       "grid_row": null,
       "grid_template_areas": null,
       "grid_template_columns": null,
       "grid_template_rows": null,
       "height": null,
       "justify_content": null,
       "justify_items": null,
       "left": null,
       "margin": null,
       "max_height": null,
       "max_width": null,
       "min_height": null,
       "min_width": null,
       "object_fit": null,
       "object_position": null,
       "order": null,
       "overflow": null,
       "padding": null,
       "right": null,
       "top": null,
       "visibility": null,
       "width": null
      }
     },
     "65fa8dbbdfb54b08b41f2ea2ec7cd1e0": {
      "model_module": "@jupyter-widgets/base",
      "model_module_version": "2.0.0",
      "model_name": "LayoutModel",
      "state": {
       "_model_module": "@jupyter-widgets/base",
       "_model_module_version": "2.0.0",
       "_model_name": "LayoutModel",
       "_view_count": null,
       "_view_module": "@jupyter-widgets/base",
       "_view_module_version": "2.0.0",
       "_view_name": "LayoutView",
       "align_content": null,
       "align_items": null,
       "align_self": null,
       "border_bottom": null,
       "border_left": null,
       "border_right": null,
       "border_top": null,
       "bottom": null,
       "display": null,
       "flex": null,
       "flex_flow": null,
       "grid_area": null,
       "grid_auto_columns": null,
       "grid_auto_flow": null,
       "grid_auto_rows": null,
       "grid_column": null,
       "grid_gap": null,
       "grid_row": null,
       "grid_template_areas": null,
       "grid_template_columns": null,
       "grid_template_rows": null,
       "height": null,
       "justify_content": null,
       "justify_items": null,
       "left": null,
       "margin": null,
       "max_height": null,
       "max_width": null,
       "min_height": null,
       "min_width": null,
       "object_fit": null,
       "object_position": null,
       "order": null,
       "overflow": null,
       "padding": null,
       "right": null,
       "top": null,
       "visibility": null,
       "width": null
      }
     },
     "6a19a77a82cf4e0599a5da7df990481e": {
      "model_module": "@jupyter-widgets/controls",
      "model_module_version": "2.0.0",
      "model_name": "HBoxModel",
      "state": {
       "_dom_classes": [],
       "_model_module": "@jupyter-widgets/controls",
       "_model_module_version": "2.0.0",
       "_model_name": "HBoxModel",
       "_view_count": null,
       "_view_module": "@jupyter-widgets/controls",
       "_view_module_version": "2.0.0",
       "_view_name": "HBoxView",
       "box_style": "",
       "children": [
        "IPY_MODEL_f4e22c4cd0d542878ddc3b7a5ce8c7d8",
        "IPY_MODEL_8eb41f6c4b6c42d8889c182e6aa62500",
        "IPY_MODEL_eaae8137cc61485cae67d48964acf7be"
       ],
       "layout": "IPY_MODEL_31386d3accd24163bf2b77380ee71066",
       "tabbable": null,
       "tooltip": null
      }
     },
     "896af8c2c4f8440787f15040f1ad4ada": {
      "model_module": "@jupyter-widgets/controls",
      "model_module_version": "2.0.0",
      "model_name": "HTMLStyleModel",
      "state": {
       "_model_module": "@jupyter-widgets/controls",
       "_model_module_version": "2.0.0",
       "_model_name": "HTMLStyleModel",
       "_view_count": null,
       "_view_module": "@jupyter-widgets/base",
       "_view_module_version": "2.0.0",
       "_view_name": "StyleView",
       "background": null,
       "description_width": "",
       "font_size": null,
       "text_color": null
      }
     },
     "8eb41f6c4b6c42d8889c182e6aa62500": {
      "model_module": "@jupyter-widgets/controls",
      "model_module_version": "2.0.0",
      "model_name": "FloatProgressModel",
      "state": {
       "_dom_classes": [],
       "_model_module": "@jupyter-widgets/controls",
       "_model_module_version": "2.0.0",
       "_model_name": "FloatProgressModel",
       "_view_count": null,
       "_view_module": "@jupyter-widgets/controls",
       "_view_module_version": "2.0.0",
       "_view_name": "ProgressView",
       "bar_style": "success",
       "description": "",
       "description_allow_html": false,
       "layout": "IPY_MODEL_5b652955635d4a74992e25bddb4c3a60",
       "max": 2.0,
       "min": 0.0,
       "orientation": "horizontal",
       "style": "IPY_MODEL_c928e6bb6801488a93fd8c984e9b5dcc",
       "tabbable": null,
       "tooltip": null,
       "value": 2.0
      }
     },
     "c928e6bb6801488a93fd8c984e9b5dcc": {
      "model_module": "@jupyter-widgets/controls",
      "model_module_version": "2.0.0",
      "model_name": "ProgressStyleModel",
      "state": {
       "_model_module": "@jupyter-widgets/controls",
       "_model_module_version": "2.0.0",
       "_model_name": "ProgressStyleModel",
       "_view_count": null,
       "_view_module": "@jupyter-widgets/base",
       "_view_module_version": "2.0.0",
       "_view_name": "StyleView",
       "bar_color": null,
       "description_width": ""
      }
     },
     "eaae8137cc61485cae67d48964acf7be": {
      "model_module": "@jupyter-widgets/controls",
      "model_module_version": "2.0.0",
      "model_name": "HTMLModel",
      "state": {
       "_dom_classes": [],
       "_model_module": "@jupyter-widgets/controls",
       "_model_module_version": "2.0.0",
       "_model_name": "HTMLModel",
       "_view_count": null,
       "_view_module": "@jupyter-widgets/controls",
       "_view_module_version": "2.0.0",
       "_view_name": "HTMLView",
       "description": "",
       "description_allow_html": false,
       "layout": "IPY_MODEL_65fa8dbbdfb54b08b41f2ea2ec7cd1e0",
       "placeholder": "​",
       "style": "IPY_MODEL_0f84553022b0423d8e95818acf6bc064",
       "tabbable": null,
       "tooltip": null,
       "value": " 2/2 [01:05&lt;00:00, 27.68s/it]"
      }
     },
     "f4e22c4cd0d542878ddc3b7a5ce8c7d8": {
      "model_module": "@jupyter-widgets/controls",
      "model_module_version": "2.0.0",
      "model_name": "HTMLModel",
      "state": {
       "_dom_classes": [],
       "_model_module": "@jupyter-widgets/controls",
       "_model_module_version": "2.0.0",
       "_model_name": "HTMLModel",
       "_view_count": null,
       "_view_module": "@jupyter-widgets/controls",
       "_view_module_version": "2.0.0",
       "_view_name": "HTMLView",
       "description": "",
       "description_allow_html": false,
       "layout": "IPY_MODEL_313d285c1a044deb9710312e0a4a4064",
       "placeholder": "​",
       "style": "IPY_MODEL_896af8c2c4f8440787f15040f1ad4ada",
       "tabbable": null,
       "tooltip": null,
       "value": "Loading checkpoint shards: 100%"
      }
     }
    },
    "version_major": 2,
    "version_minor": 0
   }
  }
 },
 "nbformat": 4,
 "nbformat_minor": 5
}
